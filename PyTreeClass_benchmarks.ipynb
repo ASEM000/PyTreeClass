{
  "nbformat": 4,
  "nbformat_minor": 0,
  "metadata": {
    "colab": {
      "provenance": [],
      "collapsed_sections": [
        "77Pdq5ulR6wa",
        "9F9s-UTuRpdF",
        "V3xXsTGNRt1B",
        "uReUqnYFR-Ek"
      ],
      "authorship_tag": "ABX9TyOJMZiSCAzz4AVW+Vh5SD+a",
      "include_colab_link": true
    },
    "kernelspec": {
      "name": "python3",
      "display_name": "Python 3"
    },
    "language_info": {
      "name": "python"
    },
    "gpuClass": "standard"
  },
  "cells": [
    {
      "cell_type": "markdown",
      "metadata": {
        "id": "view-in-github",
        "colab_type": "text"
      },
      "source": [
        "<a href=\"https://colab.research.google.com/github/ASEM000/PyTreeClass/blob/main/PyTreeClass_benchmarks.ipynb\" target=\"_parent\"><img src=\"https://colab.research.google.com/assets/colab-badge.svg\" alt=\"Open In Colab\"/></a>"
      ]
    },
    {
      "cell_type": "code",
      "execution_count": null,
      "metadata": {
        "id": "OXR6TmNhQT5N"
      },
      "outputs": [],
      "source": [
        "!pip install pytreeclass \n",
        "!pip install equinox\n",
        "!pip install treex\n",
        "!pip install treeo"
      ]
    },
    {
      "cell_type": "code",
      "source": [
        "import jax \n",
        "import jax.numpy as jnp\n",
        "import jax.tree_util as jtu\n",
        "\n",
        "import pytreeclass as pytc\n",
        "\n",
        "import treex as tx \n",
        "import treeo as to \n",
        "\n",
        "import equinox as eqx \n",
        "\n",
        "import numpy.testing as npt\n",
        "import matplotlib.pyplot as plt \n",
        "\n",
        "def tree_copy(tree):\n",
        "    return jtu.tree_unflatten(*jtu.tree_flatten(tree)[::-1])\n"
      ],
      "metadata": {
        "id": "JwdWn4SJRA_Y"
      },
      "execution_count": 2,
      "outputs": []
    },
    {
      "cell_type": "markdown",
      "source": [
        "## Model definition"
      ],
      "metadata": {
        "id": "77Pdq5ulR6wa"
      }
    },
    {
      "cell_type": "markdown",
      "source": [
        "### PYTC model"
      ],
      "metadata": {
        "id": "uhAp0bnbRUgB"
      }
    },
    {
      "cell_type": "code",
      "source": [
        "@pytc.treeclass\n",
        "class pytc_Linear :\n",
        "   weight : jnp.ndarray \n",
        "   bias   : jnp.ndarray\n",
        "\n",
        "   def __init__(self,key,in_dim,out_dim):\n",
        "       self.weight = jax.random.normal(key,shape=(in_dim, out_dim)) * jnp.sqrt(2/in_dim)\n",
        "       self.bias = jnp.ones((1,out_dim))\n",
        "\n",
        "   def __call__(self,x):\n",
        "       return x @ self.weight + self.bias\n",
        "\n",
        "@pytc.treeclass\n",
        "class pytc_MLP:\n",
        "    def __init__(self,key,in_dim,out_dim,hidden_dim):\n",
        "        keys= jax.random.split(key,9)\n",
        "        self.l1 = pytc_Linear(key=keys[0],in_dim=in_dim,out_dim=hidden_dim)\n",
        "        self.l2 = pytc_Linear(key=keys[1],in_dim=hidden_dim,out_dim=hidden_dim)\n",
        "        self.l3 = pytc_Linear(key=keys[2],in_dim=hidden_dim,out_dim=hidden_dim)\n",
        "        self.l4 = pytc_Linear(key=keys[3],in_dim=hidden_dim,out_dim=hidden_dim)\n",
        "        self.l5 = pytc_Linear(key=keys[4],in_dim=hidden_dim,out_dim=hidden_dim)\n",
        "        self.l6 = pytc_Linear(key=keys[5],in_dim=hidden_dim,out_dim=hidden_dim)\n",
        "        self.l7 = pytc_Linear(key=keys[6],in_dim=hidden_dim,out_dim=hidden_dim)\n",
        "        self.l8 = pytc_Linear(key=keys[7],in_dim=hidden_dim,out_dim=hidden_dim)\n",
        "        self.l9 = pytc_Linear(key=keys[8],in_dim=hidden_dim,out_dim=out_dim)\n",
        "\n",
        "    def __call__(self,x):\n",
        "        x = self.l1(x)\n",
        "        x = jax.nn.tanh(x)\n",
        "        x = self.l2(x)\n",
        "        x = jax.nn.tanh(x)\n",
        "        x = self.l3(x)\n",
        "        x = jax.nn.tanh(x)\n",
        "        x = self.l4(x)\n",
        "        x = jax.nn.tanh(x)\n",
        "        x = self.l5(x)\n",
        "        x = jax.nn.tanh(x)\n",
        "        x = self.l6(x)\n",
        "        x = jax.nn.tanh(x)\n",
        "        x = self.l7(x)\n",
        "        x = jax.nn.tanh(x)\n",
        "        x = self.l8(x)\n",
        "        x = jax.nn.tanh(x)\n",
        "        x = self.l9(x)\n",
        "\n",
        "        return x"
      ],
      "metadata": {
        "id": "gi16T1hURZ7d"
      },
      "execution_count": 3,
      "outputs": []
    },
    {
      "cell_type": "markdown",
      "source": [
        "### treex"
      ],
      "metadata": {
        "id": "9F9s-UTuRpdF"
      }
    },
    {
      "cell_type": "code",
      "source": [
        "\n",
        "class tx_Linear(tx.Module) :\n",
        "   weight : jnp.ndarray = to.field(node=True)\n",
        "   bias   : jnp.ndarray = to.field(node=True)\n",
        "\n",
        "   def __init__(self,key,in_dim,out_dim):\n",
        "       self.weight = jax.random.normal(key,shape=(in_dim, out_dim)) * jnp.sqrt(2/in_dim)\n",
        "       self.bias = jnp.ones((1,out_dim))\n",
        "\n",
        "   def __call__(self,x):\n",
        "       return x @ self.weight + self.bias\n",
        "\n",
        "class tx_MLP(tx.Module):\n",
        "    l1 : tx_Linear = to.field(node=True)\n",
        "    l2 : tx_Linear = to.field(node=True)\n",
        "    l3 : tx_Linear = to.field(node=True)\n",
        "    l4 : tx_Linear = to.field(node=True)\n",
        "    l5 : tx_Linear = to.field(node=True)\n",
        "    l6 : tx_Linear = to.field(node=True)\n",
        "    l7 : tx_Linear = to.field(node=True)\n",
        "    l8 : tx_Linear = to.field(node=True)\n",
        "    l9 : tx_Linear = to.field(node=True)\n",
        "\n",
        "    def __init__(self,key,in_dim,out_dim,hidden_dim):\n",
        "        keys= jax.random.split(key,9)\n",
        "        self.l1 = tx_Linear(key=keys[0],in_dim=in_dim,out_dim=hidden_dim)\n",
        "        self.l2 = tx_Linear(key=keys[1],in_dim=hidden_dim,out_dim=hidden_dim)\n",
        "        self.l3 = tx_Linear(key=keys[2],in_dim=hidden_dim,out_dim=hidden_dim)\n",
        "        self.l4 = tx_Linear(key=keys[3],in_dim=hidden_dim,out_dim=hidden_dim)\n",
        "        self.l5 = tx_Linear(key=keys[4],in_dim=hidden_dim,out_dim=hidden_dim)\n",
        "        self.l6 = tx_Linear(key=keys[5],in_dim=hidden_dim,out_dim=hidden_dim)\n",
        "        self.l7 = tx_Linear(key=keys[6],in_dim=hidden_dim,out_dim=hidden_dim)\n",
        "        self.l8 = tx_Linear(key=keys[7],in_dim=hidden_dim,out_dim=hidden_dim)\n",
        "        self.l9 = tx_Linear(key=keys[8],in_dim=hidden_dim,out_dim=out_dim)\n",
        "\n",
        "\n",
        "    def __call__(self,x):\n",
        "        x = self.l1(x)\n",
        "        x = jax.nn.tanh(x)\n",
        "        x = self.l2(x)\n",
        "        x = jax.nn.tanh(x)\n",
        "        x = self.l3(x)\n",
        "        x = jax.nn.tanh(x)\n",
        "        x = self.l4(x)\n",
        "        x = jax.nn.tanh(x)\n",
        "        x = self.l5(x)\n",
        "        x = jax.nn.tanh(x)\n",
        "        x = self.l6(x)\n",
        "        x = jax.nn.tanh(x)\n",
        "        x = self.l7(x)\n",
        "        x = jax.nn.tanh(x)\n",
        "        x = self.l8(x)\n",
        "        x = jax.nn.tanh(x)\n",
        "        x = self.l9(x)\n",
        "\n",
        "        return x\n"
      ],
      "metadata": {
        "id": "pbeuyuZjRIFb"
      },
      "execution_count": 4,
      "outputs": []
    },
    {
      "cell_type": "markdown",
      "source": [
        "### eqx"
      ],
      "metadata": {
        "id": "V3xXsTGNRt1B"
      }
    },
    {
      "cell_type": "code",
      "source": [
        "class eqx_Linear(eqx.Module) :\n",
        "   weight : jnp.ndarray\n",
        "   bias   : jnp.ndarray\n",
        "   def __init__(self,key,in_dim,out_dim):\n",
        "       self.weight = jax.random.normal(key,shape=(in_dim, out_dim)) * jnp.sqrt(2/in_dim)\n",
        "       self.bias = jnp.ones((1,out_dim))\n",
        "\n",
        "   def __call__(self,x):\n",
        "       return x @ self.weight + self.bias\n",
        "\n",
        "class eqx_MLP(eqx.Module):\n",
        "    l1 : eqx_Linear \n",
        "    l2 : eqx_Linear \n",
        "    l3 : eqx_Linear \n",
        "    l4 : eqx_Linear \n",
        "    l5 : eqx_Linear \n",
        "    l6 : eqx_Linear \n",
        "    l7 : eqx_Linear \n",
        "    l8 : eqx_Linear \n",
        "    l9 : eqx_Linear \n",
        "\n",
        "    def __init__(self,key,in_dim,out_dim,hidden_dim):\n",
        "        keys= jax.random.split(key,9)\n",
        "        self.l1 = eqx_Linear(key=keys[0],in_dim=in_dim,out_dim=hidden_dim)\n",
        "        self.l2 = eqx_Linear(key=keys[1],in_dim=hidden_dim,out_dim=hidden_dim)\n",
        "        self.l3 = eqx_Linear(key=keys[2],in_dim=hidden_dim,out_dim=hidden_dim)\n",
        "        self.l4 = eqx_Linear(key=keys[3],in_dim=hidden_dim,out_dim=hidden_dim)\n",
        "        self.l5 = eqx_Linear(key=keys[4],in_dim=hidden_dim,out_dim=hidden_dim)\n",
        "        self.l6 = eqx_Linear(key=keys[5],in_dim=hidden_dim,out_dim=hidden_dim)\n",
        "        self.l7 = eqx_Linear(key=keys[6],in_dim=hidden_dim,out_dim=hidden_dim)\n",
        "        self.l8 = eqx_Linear(key=keys[7],in_dim=hidden_dim,out_dim=hidden_dim)\n",
        "        self.l9 = eqx_Linear(key=keys[8],in_dim=hidden_dim,out_dim=out_dim)\n",
        "\n",
        "    def __call__(self,x):\n",
        "        x = self.l1(x)\n",
        "        x = jax.nn.tanh(x)\n",
        "        x = self.l2(x)\n",
        "        x = jax.nn.tanh(x)\n",
        "        x = self.l3(x)\n",
        "        x = jax.nn.tanh(x)\n",
        "        x = self.l4(x)\n",
        "        x = jax.nn.tanh(x)\n",
        "        x = self.l5(x)\n",
        "        x = jax.nn.tanh(x)\n",
        "        x = self.l6(x)\n",
        "        x = jax.nn.tanh(x)\n",
        "        x = self.l7(x)\n",
        "        x = jax.nn.tanh(x)\n",
        "        x = self.l8(x)\n",
        "        x = jax.nn.tanh(x)\n",
        "        x = self.l9(x)\n",
        "\n",
        "        return x"
      ],
      "metadata": {
        "id": "wCkxFgnxRm99"
      },
      "execution_count": 5,
      "outputs": []
    },
    {
      "cell_type": "markdown",
      "source": [
        "## Benchmarking flatten/unflatten"
      ],
      "metadata": {
        "id": "uReUqnYFR-Ek"
      }
    },
    {
      "cell_type": "code",
      "source": [
        "x = jnp.linspace(0,1,100)[:,None]\n",
        "\n",
        "t_pytc = dict()\n",
        "t_tx = dict()\n",
        "t_eqx = dict()\n",
        "\n",
        "\n",
        "def diff(func):\n",
        "    return jax.grad(lambda *args:jnp.sum(func(*args)))\n",
        "\n",
        "hidden_dims = [10, 100, 1_000, 10_000]\n",
        "\n",
        "for hidden_dim in hidden_dims:\n",
        "    pytc_model = pytc_MLP(in_dim=1,out_dim=1,hidden_dim=hidden_dim,key=jax.random.PRNGKey(0))\n",
        "    tx_model = tx_MLP(in_dim=1,out_dim=1,hidden_dim=hidden_dim,key=jax.random.PRNGKey(0))\n",
        "    eqx_model = eqx_MLP(in_dim=1,out_dim=1,hidden_dim=hidden_dim,key=jax.random.PRNGKey(0))\n",
        "\n",
        "    # assertion\n",
        "    npt.assert_allclose(pytc_model(x),tx_model(x))\n",
        "    npt.assert_allclose(pytc_model(x),eqx_model(x))\n",
        "\n",
        "    npt.assert_allclose(diff(pytc_model)(x),diff(tx_model)(x))\n",
        "    npt.assert_allclose(diff(pytc_model)(x),diff(eqx_model)(x))\n",
        "\n",
        "    t_pytc[hidden_dim] = %timeit -o tree_copy(pytc_model)\n",
        "    t_tx[hidden_dim] = %timeit -o tree_copy(tx_model)\n",
        "    t_eqx[hidden_dim] = %timeit -o tree_copy(eqx_model)\n",
        "\n",
        "\n",
        "\n"
      ],
      "metadata": {
        "id": "wmB62khzSAja"
      },
      "execution_count": null,
      "outputs": []
    },
    {
      "cell_type": "code",
      "source": [
        "plt.figure(figsize=(10,5))\n",
        "\n",
        "plt.errorbar(jnp.array(list(t_pytc.keys())), jnp.array([t.average for t in t_pytc.values()]),jnp.array([t.stdev for t in t_pytc.values()]),label=\"PyTreeClass\", c=\"r\", fmt=\"o\")\n",
        "plt.errorbar(jnp.array(list(t_pytc.keys())), jnp.array([t.average for t in t_tx.values()]),jnp.array([t.stdev for t in t_tx.values()]),label=\"Treex\", c=\"b\", fmt=\"o\")\n",
        "plt.errorbar(jnp.array(list(t_pytc.keys())), jnp.array([t.average for t in t_eqx.values()]),jnp.array([t.stdev for t in t_eqx.values()],),label=\"Equinox\", c=\"g\", fmt=\"o\")\n",
        "\n",
        "\n",
        "plt.title(\"Flatten/Unflatten on Colab GPU\")\n",
        "plt.xlabel(\"Hidden dimension\")\n",
        "plt.ylabel(\"Time in us\")\n",
        "plt.xscale(\"log\")\n",
        "plt.yscale(\"log\")\n",
        "plt.legend()\n",
        "plt.savefig(\"tree_copy_colab_gpu.svg\")"
      ],
      "metadata": {
        "id": "IEyMDH9AS56Y"
      },
      "execution_count": null,
      "outputs": []
    }
  ]
}