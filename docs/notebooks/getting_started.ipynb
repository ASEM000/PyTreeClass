{
 "cells": [
  {
   "cell_type": "markdown",
   "metadata": {},
   "source": [
    "# 🌲 Getting started"
   ]
  },
  {
   "cell_type": "markdown",
   "metadata": {},
   "source": [
    "## 🛠️ Installation"
   ]
  },
  {
   "cell_type": "markdown",
   "metadata": {},
   "source": [
    "```\n",
    "pip install pytreeclass\n",
    "```"
   ]
  },
  {
   "cell_type": "markdown",
   "metadata": {},
   "source": [
    "**Install development version**\n",
    "\n"
   ]
  },
  {
   "cell_type": "markdown",
   "metadata": {},
   "source": [
    "```\n",
    "pip install git+https://github.com/ASEM000/PyTreeClass\n",
    "```"
   ]
  },
  {
   "cell_type": "markdown",
   "metadata": {},
   "source": [
    "## 📖 Description"
   ]
  },
  {
   "cell_type": "markdown",
   "metadata": {},
   "source": [
    "`PyTreeClass` is a JAX-compatible `dataclass`-like decorator to create and operate on stateful JAX PyTrees.\n",
    "The package aims to achieve two goals:\n",
    "\n",
    "1) 🔒 To maintain safe and correct behaviour by using _immutable_ modules with _functional_ API.\n",
    "2) To achieve the **most intuitive** user experience in the `JAX` ecosystem by :\n",
    "   1) 🏗️ Defining layers similar to `PyTorch` or `TensorFlow` sublcassing style.\n",
    "   2) ☝️ Filtering\\Indexing layer values by using boolean masking similar to `jax.numpy.at[].{get,set,apply,...}`\n",
    "   3) 🎨 Visualize defined layers in plethora of ways for better debugging and sharing of information"
   ]
  },
  {
   "cell_type": "markdown",
   "metadata": {},
   "source": [
    "## ⏩ Quick Example"
   ]
  },
  {
   "cell_type": "markdown",
   "metadata": {},
   "source": [
    "In this example, we will demonstrate the basic features of `PyTreeClass` by constructing a simple `MLP` class."
   ]
  },
  {
   "cell_type": "code",
   "execution_count": 1,
   "metadata": {},
   "outputs": [],
   "source": [
    "import jax\n",
    "import jax.random as jr \n",
    "import jax.numpy as jnp \n",
    "import pytreeclass as pytc \n",
    "import matplotlib.pyplot as plt "
   ]
  },
  {
   "cell_type": "markdown",
   "metadata": {},
   "source": [
    "In general any non `@treeclass` wrapper parameter should be defined as a dataclass field as follows:\n",
    "```python\n",
    "@pytc.treeclass\n",
    "class Linear :\n",
    "   weight : jnp.ndarray\n",
    "   bias   : jnp.ndarray\n",
    "\n",
    "   ...\n",
    "```\n",
    "To designate a node as non-trainable, you can use `pytreeclass.static_field(...)` in the field definition. This similar to assigning a field in dataclass using `dataclass.field(...)`\n",
    "\n",
    "Here, let's construct a `Linear` layer with `weight` and `bias` as trainable nodes."
   ]
  },
  {
   "cell_type": "code",
   "execution_count": 2,
   "metadata": {},
   "outputs": [],
   "source": [
    "# Defininig Linear layer\n",
    "@pytc.treeclass\n",
    "class Linear :\n",
    "   weight : jnp.ndarray\n",
    "   bias   : jnp.ndarray\n",
    "\n",
    "   def __init__(self,key,in_dim,out_dim):\n",
    "       self.weight = jax.random.normal(key,shape=(in_dim, out_dim)) * jnp.sqrt(2/in_dim)\n",
    "       self.bias = jnp.ones((1,out_dim))\n",
    "\n",
    "   def __call__(self,x):\n",
    "       return x @ self.weight + self.bias"
   ]
  },
  {
   "cell_type": "markdown",
   "metadata": {},
   "source": [
    "Next, we will define a simple `MLP` class.\n",
    "Additionally, to demonstate how can we update internal state **_immutably_**,  we will define an additional state variable `num_calls` in the `MLP` class that gets incremented with each call."
   ]
  },
  {
   "cell_type": "code",
   "execution_count": 3,
   "metadata": {},
   "outputs": [],
   "source": [
    "@pytc.treeclass\n",
    "class MLP:\n",
    "    layers: tuple[Linear] = ()\n",
    "    num_calls : float = 0.\n",
    "\n",
    "    def __init__(self,layers,*,key):\n",
    "        keys= jax.random.split(key,len(layers)-1)\n",
    "        for ki,in_dim,out_dim in zip(keys,layers[:-1],layers[1:]):\n",
    "            self.layers += (Linear(key=ki,in_dim=in_dim,out_dim=out_dim),)\n",
    "\n",
    "    def __call__(self,x):\n",
    "        self.num_calls+=1\n",
    "        *layers,last = self.layers\n",
    "        for layer in layers:\n",
    "            x = jax.nn.relu(layer(x))\n",
    "        return last(x)\n",
    "\n",
    "model = MLP([1,5,5,1],key=jr.PRNGKey(0))"
   ]
  },
  {
   "cell_type": "markdown",
   "metadata": {},
   "source": [
    "Before moving forward, lets vizualize our model so far.\n",
    "For visualization `PyTreeClass` implements _pretty_ `.__repr__()`, `.__str__()`, `.tree_diagram()`, and `.summary()`\n",
    "\n",
    "- `.__repr__()` returns shorthand notation of created class.\n",
    "- `.__str__()`  returns full values of created class.\n",
    "- `.tree_diagram()` returns directory-tree-structure like.\n",
    "- `.summary()` returns parameter name, type, count, and size."
   ]
  },
  {
   "cell_type": "markdown",
   "metadata": {},
   "source": [
    "* model shorthand representation."
   ]
  },
  {
   "cell_type": "code",
   "execution_count": 4,
   "metadata": {},
   "outputs": [
    {
     "data": {
      "text/plain": [
       "MLP(\n",
       "  layers=(\n",
       "    Linear(weight=f32[1,5],bias=f32[1,5]),\n",
       "    Linear(weight=f32[5,5],bias=f32[1,5]),\n",
       "    Linear(weight=f32[5,1],bias=f32[1,1])\n",
       "  ),\n",
       "  num_calls=0.0\n",
       ")"
      ]
     },
     "execution_count": 4,
     "metadata": {},
     "output_type": "execute_result"
    }
   ],
   "source": [
    "model"
   ]
  },
  {
   "cell_type": "markdown",
   "metadata": {},
   "source": [
    "* model full representation."
   ]
  },
  {
   "cell_type": "code",
   "execution_count": 5,
   "metadata": {},
   "outputs": [
    {
     "name": "stdout",
     "output_type": "stream",
     "text": [
      "MLP(\n",
      "  layers=(\n",
      "    Linear(\n",
      "      weight=[[-1.6248673  -2.8383057   1.3969219   1.3169124  -0.40784812]],\n",
      "      bias=[[1. 1. 1. 1. 1.]]\n",
      "    ),\n",
      "    Linear(\n",
      "      weight=\n",
      "        [[ 0.0690082  -0.28695515  0.07628956 -0.0438102   0.00379491]\n",
      "         [ 1.50098    -0.11166672  1.1165049  -0.04066205  0.30811653]\n",
      "         [-0.7006985  -0.65002924 -0.35766158 -0.17880684 -0.6092746 ]\n",
      "         [-0.03396707  0.12827015 -0.10535626  0.50696546 -0.39020923]\n",
      "         [-0.1908553  -0.7502192  -1.964823   -0.02063693  0.33969834]],\n",
      "      bias=[[1. 1. 1. 1. 1.]]\n",
      "    ),\n",
      "    Linear(\n",
      "      weight=\n",
      "        [[ 0.98507565]\n",
      "         [ 0.99815285]\n",
      "         [-1.0687716 ]\n",
      "         [-0.19255024]\n",
      "         [-1.2108876 ]],\n",
      "      bias=[[1.]]\n",
      "    )\n",
      "  ),\n",
      "  num_calls=0.0\n",
      ")\n"
     ]
    }
   ],
   "source": [
    "print(model)"
   ]
  },
  {
   "cell_type": "markdown",
   "metadata": {},
   "source": [
    "* directory-tree-structure like."
   ]
  },
  {
   "cell_type": "code",
   "execution_count": 6,
   "metadata": {},
   "outputs": [
    {
     "name": "stdout",
     "output_type": "stream",
     "text": [
      "MLP\n",
      "    ├── layers=<class 'tuple'>\n",
      "    │   ├── layers_0=Linear\n",
      "    │   │   ├── weight=f32[1,5]\n",
      "    │   │   └── bias=f32[1,5]   \n",
      "    │   ├── layers_1=Linear\n",
      "    │   │   ├── weight=f32[5,5]\n",
      "    │   │   └── bias=f32[1,5]   \n",
      "    │   └── layers_2=Linear\n",
      "    │       ├── weight=f32[5,1]\n",
      "    │       └── bias=f32[1,1]   \n",
      "    └── num_calls=0.0   \n"
     ]
    }
   ],
   "source": [
    "print(model.tree_diagram())"
   ]
  },
  {
   "cell_type": "markdown",
   "metadata": {},
   "source": [
    "* summary"
   ]
  },
  {
   "cell_type": "code",
   "execution_count": 7,
   "metadata": {},
   "outputs": [
    {
     "name": "stdout",
     "output_type": "stream",
     "text": [
      "┌───────────────┬────────────┬───────┬───────┬───────────────┐\n",
      "│Name           │Type        │Param #│Size   │Config         │\n",
      "├───────────────┼────────────┼───────┼───────┼───────────────┤\n",
      "│layers/layers_0│tuple/Linear│10(0)  │40.00B │weight=f32[1,5]│\n",
      "│               │            │       │(0.00B)│bias=f32[1,5]  │\n",
      "├───────────────┼────────────┼───────┼───────┼───────────────┤\n",
      "│layers/layers_1│tuple/Linear│30(0)  │120.00B│weight=f32[5,5]│\n",
      "│               │            │       │(0.00B)│bias=f32[1,5]  │\n",
      "├───────────────┼────────────┼───────┼───────┼───────────────┤\n",
      "│layers/layers_2│tuple/Linear│6(0)   │24.00B │weight=f32[5,1]│\n",
      "│               │            │       │(0.00B)│bias=f32[1,1]  │\n",
      "├───────────────┼────────────┼───────┼───────┼───────────────┤\n",
      "│num_calls      │float       │1(0)   │24.00B │num_calls=0.0  │\n",
      "│               │            │       │(0.00B)│               │\n",
      "└───────────────┴────────────┴───────┴───────┴───────────────┘\n",
      "Total count :\t47(0)\n",
      "Dynamic count :\t47(0)\n",
      "Frozen count :\t0(0)\n",
      "--------------------------------------------------------------\n",
      "Total size :\t208.00B(0.00B)\n",
      "Dynamic size :\t208.00B(0.00B)\n",
      "Frozen size :\t0.00B(0.00B)\n",
      "==============================================================\n"
     ]
    }
   ],
   "source": [
    "print(model.summary())"
   ]
  },
  {
   "cell_type": "markdown",
   "metadata": {},
   "source": [
    "Let's return to training our model. First let's create some training data. "
   ]
  },
  {
   "cell_type": "code",
   "execution_count": 8,
   "metadata": {},
   "outputs": [],
   "source": [
    "x = jnp.linspace(0,1,100)[:,None]\n",
    "y = x**3 + jax.random.uniform(jax.random.PRNGKey(0),(100,1))*0.01"
   ]
  },
  {
   "cell_type": "markdown",
   "metadata": {},
   "source": [
    "Next, we differentiate the loss function `loss_func` with respect to model parameters by using `@jax.grad`"
   ]
  },
  {
   "cell_type": "code",
   "execution_count": 9,
   "metadata": {},
   "outputs": [],
   "source": [
    "@jax.grad\n",
    "def loss_func(model,x,y):\n",
    "    return jnp.mean((model(x)-y)**2)"
   ]
  },
  {
   "cell_type": "markdown",
   "metadata": {},
   "source": [
    "Last step is to define an update function to update the model parameters.\n",
    "\n",
    "Note: models wrapped with `@treeclass` support unary/binary operations, therefore we can update the model simply as the following:\n",
    "```python\n",
    "model - learning_rate * grad\n",
    "```"
   ]
  },
  {
   "cell_type": "code",
   "execution_count": 10,
   "metadata": {},
   "outputs": [],
   "source": [
    "@jax.jit \n",
    "def update(model,x,y):\n",
    "    jax.debug.print(\"{x}\",x=model.num_calls)\n",
    "    grad = loss_func(model,x,y)\n",
    "    # let increment the number of calls by 1\n",
    "    return model- 1e-3*grad"
   ]
  },
  {
   "cell_type": "markdown",
   "metadata": {},
   "source": [
    "Finally, lets train for 20,000 epochs"
   ]
  },
  {
   "cell_type": "code",
   "execution_count": 11,
   "metadata": {},
   "outputs": [
    {
     "ename": "ImmutableInstanceError",
     "evalue": "Cannot set num_calls = Traced<ShapedArray(float32[], weak_type=True)>with<JVPTrace(level=2/1)> with\n  primal = Traced<ShapedArray(float32[], weak_type=True)>with<DynamicJaxprTrace(level=0/1)>\n  tangent = Traced<ShapedArray(float32[], weak_type=True)>with<JaxprTrace(level=1/1)> with\n    pval = (ShapedArray(float32[], weak_type=True), None)\n    recipe = JaxprEqnRecipe(eqn_id=<object object at 0x124e4ec30>, in_tracers=(Traced<ShapedArray(float32[], weak_type=True):JaxprTrace(level=1/1)>,), out_tracer_refs=[<weakref at 0x125fcf1a0; to 'JaxprTracer' at 0x1265ac6d0>], out_avals=[ShapedArray(float32[], weak_type=True)], primitive=xla_call, params={'device': None, 'backend': None, 'name': 'fn', 'donated_invars': (False,), 'inline': True, 'keep_unused': False, 'call_jaxpr': { \u001b[34m\u001b[22m\u001b[1mlambda \u001b[39m\u001b[22m\u001b[22m; a\u001b[35m:f32[]\u001b[39m. \u001b[34m\u001b[22m\u001b[1mlet\u001b[39m\u001b[22m\u001b[22m  \u001b[34m\u001b[22m\u001b[1min \u001b[39m\u001b[22m\u001b[22m(a,) }}, effects=set(), source_info=SourceInfo(traceback=<jaxlib.xla_extension.Traceback object at 0x126566730>, name_stack=NameStack(stack=(Transform(name='jvp'),)))). Use `.at['num_calls'].set(Traced<ShapedArray(float32[], weak_type=True)>with<JVPTrace(level=2/1)> with\n  primal = Traced<ShapedArray(float32[], weak_type=True)>with<DynamicJaxprTrace(level=0/1)>\n  tangent = Traced<ShapedArray(float32[], weak_type=True)>with<JaxprTrace(level=1/1)> with\n    pval = (ShapedArray(float32[], weak_type=True), None)\n    recipe = JaxprEqnRecipe(eqn_id=<object object at 0x124e4ec30>, in_tracers=(Traced<ShapedArray(float32[], weak_type=True):JaxprTrace(level=1/1)>,), out_tracer_refs=[<weakref at 0x125fcf1a0; to 'JaxprTracer' at 0x1265ac6d0>], out_avals=[ShapedArray(float32[], weak_type=True)], primitive=xla_call, params={'device': None, 'backend': None, 'name': 'fn', 'donated_invars': (False,), 'inline': True, 'keep_unused': False, 'call_jaxpr': { \u001b[34m\u001b[22m\u001b[1mlambda \u001b[39m\u001b[22m\u001b[22m; a\u001b[35m:f32[]\u001b[39m. \u001b[34m\u001b[22m\u001b[1mlet\u001b[39m\u001b[22m\u001b[22m  \u001b[34m\u001b[22m\u001b[1min \u001b[39m\u001b[22m\u001b[22m(a,) }}, effects=set(), source_info=SourceInfo(traceback=<jaxlib.xla_extension.Traceback object at 0x126566730>, name_stack=NameStack(stack=(Transform(name='jvp'),)))))` instead.",
     "output_type": "error",
     "traceback": [
      "\u001b[0;31m---------------------------------------------------------------------------\u001b[0m",
      "\u001b[0;31mImmutableInstanceError\u001b[0m                    Traceback (most recent call last)",
      "\u001b[1;32m/Users/asem/pytreeclass/docs/notebooks/getting_started.ipynb Cell 31\u001b[0m in \u001b[0;36m<cell line: 1>\u001b[0;34m()\u001b[0m\n\u001b[1;32m      <a href='vscode-notebook-cell:/Users/asem/pytreeclass/docs/notebooks/getting_started.ipynb#X43sZmlsZQ%3D%3D?line=0'>1</a>\u001b[0m \u001b[39mfor\u001b[39;00m _ \u001b[39min\u001b[39;00m \u001b[39mrange\u001b[39m(\u001b[39m1\u001b[39m,\u001b[39m20_001\u001b[39m):\n\u001b[0;32m----> <a href='vscode-notebook-cell:/Users/asem/pytreeclass/docs/notebooks/getting_started.ipynb#X43sZmlsZQ%3D%3D?line=1'>2</a>\u001b[0m     model \u001b[39m=\u001b[39m update(model,x,y)\n",
      "    \u001b[0;31m[... skipping hidden 14 frame]\u001b[0m\n",
      "\u001b[1;32m/Users/asem/pytreeclass/docs/notebooks/getting_started.ipynb Cell 31\u001b[0m in \u001b[0;36mupdate\u001b[0;34m(model, x, y)\u001b[0m\n\u001b[1;32m      <a href='vscode-notebook-cell:/Users/asem/pytreeclass/docs/notebooks/getting_started.ipynb#X43sZmlsZQ%3D%3D?line=0'>1</a>\u001b[0m \u001b[39m@jax\u001b[39m\u001b[39m.\u001b[39mjit \n\u001b[1;32m      <a href='vscode-notebook-cell:/Users/asem/pytreeclass/docs/notebooks/getting_started.ipynb#X43sZmlsZQ%3D%3D?line=1'>2</a>\u001b[0m \u001b[39mdef\u001b[39;00m \u001b[39mupdate\u001b[39m(model,x,y):\n\u001b[1;32m      <a href='vscode-notebook-cell:/Users/asem/pytreeclass/docs/notebooks/getting_started.ipynb#X43sZmlsZQ%3D%3D?line=2'>3</a>\u001b[0m     jax\u001b[39m.\u001b[39mdebug\u001b[39m.\u001b[39mprint(\u001b[39m\"\u001b[39m\u001b[39m{x}\u001b[39;00m\u001b[39m\"\u001b[39m,x\u001b[39m=\u001b[39mmodel\u001b[39m.\u001b[39mnum_calls)\n\u001b[0;32m----> <a href='vscode-notebook-cell:/Users/asem/pytreeclass/docs/notebooks/getting_started.ipynb#X43sZmlsZQ%3D%3D?line=3'>4</a>\u001b[0m     grad \u001b[39m=\u001b[39m loss_func(model,x,y)\n\u001b[1;32m      <a href='vscode-notebook-cell:/Users/asem/pytreeclass/docs/notebooks/getting_started.ipynb#X43sZmlsZQ%3D%3D?line=4'>5</a>\u001b[0m     \u001b[39m# let increment the number of calls by 1\u001b[39;00m\n\u001b[1;32m      <a href='vscode-notebook-cell:/Users/asem/pytreeclass/docs/notebooks/getting_started.ipynb#X43sZmlsZQ%3D%3D?line=5'>6</a>\u001b[0m     \u001b[39mreturn\u001b[39;00m model\u001b[39m-\u001b[39m \u001b[39m1e-3\u001b[39m\u001b[39m*\u001b[39mgrad\n",
      "    \u001b[0;31m[... skipping hidden 10 frame]\u001b[0m\n",
      "\u001b[1;32m/Users/asem/pytreeclass/docs/notebooks/getting_started.ipynb Cell 31\u001b[0m in \u001b[0;36mloss_func\u001b[0;34m(model, x, y)\u001b[0m\n\u001b[1;32m      <a href='vscode-notebook-cell:/Users/asem/pytreeclass/docs/notebooks/getting_started.ipynb#X43sZmlsZQ%3D%3D?line=0'>1</a>\u001b[0m \u001b[39m@jax\u001b[39m\u001b[39m.\u001b[39mgrad\n\u001b[1;32m      <a href='vscode-notebook-cell:/Users/asem/pytreeclass/docs/notebooks/getting_started.ipynb#X43sZmlsZQ%3D%3D?line=1'>2</a>\u001b[0m \u001b[39mdef\u001b[39;00m \u001b[39mloss_func\u001b[39m(model,x,y):\n\u001b[0;32m----> <a href='vscode-notebook-cell:/Users/asem/pytreeclass/docs/notebooks/getting_started.ipynb#X43sZmlsZQ%3D%3D?line=2'>3</a>\u001b[0m     \u001b[39mreturn\u001b[39;00m jnp\u001b[39m.\u001b[39mmean((model(x)\u001b[39m-\u001b[39my)\u001b[39m*\u001b[39m\u001b[39m*\u001b[39m\u001b[39m2\u001b[39m)\n",
      "\u001b[1;32m/Users/asem/pytreeclass/docs/notebooks/getting_started.ipynb Cell 31\u001b[0m in \u001b[0;36mMLP.__call__\u001b[0;34m(self, x)\u001b[0m\n\u001b[1;32m     <a href='vscode-notebook-cell:/Users/asem/pytreeclass/docs/notebooks/getting_started.ipynb#X43sZmlsZQ%3D%3D?line=10'>11</a>\u001b[0m \u001b[39mdef\u001b[39;00m \u001b[39m__call__\u001b[39m(\u001b[39mself\u001b[39m,x):\n\u001b[0;32m---> <a href='vscode-notebook-cell:/Users/asem/pytreeclass/docs/notebooks/getting_started.ipynb#X43sZmlsZQ%3D%3D?line=11'>12</a>\u001b[0m     \u001b[39mself\u001b[39m\u001b[39m.\u001b[39mnum_calls\u001b[39m+\u001b[39m\u001b[39m=\u001b[39m\u001b[39m1\u001b[39m\n\u001b[1;32m     <a href='vscode-notebook-cell:/Users/asem/pytreeclass/docs/notebooks/getting_started.ipynb#X43sZmlsZQ%3D%3D?line=12'>13</a>\u001b[0m     \u001b[39m*\u001b[39mlayers,last \u001b[39m=\u001b[39m \u001b[39mself\u001b[39m\u001b[39m.\u001b[39mlayers\n\u001b[1;32m     <a href='vscode-notebook-cell:/Users/asem/pytreeclass/docs/notebooks/getting_started.ipynb#X43sZmlsZQ%3D%3D?line=13'>14</a>\u001b[0m     \u001b[39mfor\u001b[39;00m layer \u001b[39min\u001b[39;00m layers:\n",
      "File \u001b[0;32m~/miniforge3/envs/dev-jax15/lib/python3.10/site-packages/pytreeclass/src/decorator.py:19\u001b[0m, in \u001b[0;36mtreeclass.<locals>.immutable_setattr.<locals>.wrapper\u001b[0;34m(self, key, value)\u001b[0m\n\u001b[1;32m     17\u001b[0m \u001b[39mdef\u001b[39;00m \u001b[39mwrapper\u001b[39m(\u001b[39mself\u001b[39m, key, value):\n\u001b[1;32m     18\u001b[0m     \u001b[39mif\u001b[39;00m \u001b[39mself\u001b[39m\u001b[39m.\u001b[39m__immutable_treeclass__:\n\u001b[0;32m---> 19\u001b[0m         \u001b[39mraise\u001b[39;00m ImmutableInstanceError(\n\u001b[1;32m     20\u001b[0m             \u001b[39mf\u001b[39m\u001b[39m\"\u001b[39m\u001b[39mCannot set \u001b[39m\u001b[39m{\u001b[39;00mkey\u001b[39m}\u001b[39;00m\u001b[39m = \u001b[39m\u001b[39m{\u001b[39;00mvalue\u001b[39m}\u001b[39;00m\u001b[39m. Use `.at[\u001b[39m\u001b[39m'\u001b[39m\u001b[39m{\u001b[39;00mkey\u001b[39m}\u001b[39;00m\u001b[39m'\u001b[39m\u001b[39m].set(\u001b[39m\u001b[39m{\u001b[39;00mvalue\u001b[39m!r}\u001b[39;00m\u001b[39m)` instead.\u001b[39m\u001b[39m\"\u001b[39m\n\u001b[1;32m     21\u001b[0m         )\n\u001b[1;32m     22\u001b[0m     \u001b[39m# execute original setattr\u001b[39;00m\n\u001b[1;32m     23\u001b[0m     mutable_setattr(\u001b[39mself\u001b[39m, key, value)\n",
      "\u001b[0;31mImmutableInstanceError\u001b[0m: Cannot set num_calls = Traced<ShapedArray(float32[], weak_type=True)>with<JVPTrace(level=2/1)> with\n  primal = Traced<ShapedArray(float32[], weak_type=True)>with<DynamicJaxprTrace(level=0/1)>\n  tangent = Traced<ShapedArray(float32[], weak_type=True)>with<JaxprTrace(level=1/1)> with\n    pval = (ShapedArray(float32[], weak_type=True), None)\n    recipe = JaxprEqnRecipe(eqn_id=<object object at 0x124e4ec30>, in_tracers=(Traced<ShapedArray(float32[], weak_type=True):JaxprTrace(level=1/1)>,), out_tracer_refs=[<weakref at 0x125fcf1a0; to 'JaxprTracer' at 0x1265ac6d0>], out_avals=[ShapedArray(float32[], weak_type=True)], primitive=xla_call, params={'device': None, 'backend': None, 'name': 'fn', 'donated_invars': (False,), 'inline': True, 'keep_unused': False, 'call_jaxpr': { \u001b[34m\u001b[22m\u001b[1mlambda \u001b[39m\u001b[22m\u001b[22m; a\u001b[35m:f32[]\u001b[39m. \u001b[34m\u001b[22m\u001b[1mlet\u001b[39m\u001b[22m\u001b[22m  \u001b[34m\u001b[22m\u001b[1min \u001b[39m\u001b[22m\u001b[22m(a,) }}, effects=set(), source_info=SourceInfo(traceback=<jaxlib.xla_extension.Traceback object at 0x126566730>, name_stack=NameStack(stack=(Transform(name='jvp'),)))). Use `.at['num_calls'].set(Traced<ShapedArray(float32[], weak_type=True)>with<JVPTrace(level=2/1)> with\n  primal = Traced<ShapedArray(float32[], weak_type=True)>with<DynamicJaxprTrace(level=0/1)>\n  tangent = Traced<ShapedArray(float32[], weak_type=True)>with<JaxprTrace(level=1/1)> with\n    pval = (ShapedArray(float32[], weak_type=True), None)\n    recipe = JaxprEqnRecipe(eqn_id=<object object at 0x124e4ec30>, in_tracers=(Traced<ShapedArray(float32[], weak_type=True):JaxprTrace(level=1/1)>,), out_tracer_refs=[<weakref at 0x125fcf1a0; to 'JaxprTracer' at 0x1265ac6d0>], out_avals=[ShapedArray(float32[], weak_type=True)], primitive=xla_call, params={'device': None, 'backend': None, 'name': 'fn', 'donated_invars': (False,), 'inline': True, 'keep_unused': False, 'call_jaxpr': { \u001b[34m\u001b[22m\u001b[1mlambda \u001b[39m\u001b[22m\u001b[22m; a\u001b[35m:f32[]\u001b[39m. \u001b[34m\u001b[22m\u001b[1mlet\u001b[39m\u001b[22m\u001b[22m  \u001b[34m\u001b[22m\u001b[1min \u001b[39m\u001b[22m\u001b[22m(a,) }}, effects=set(), source_info=SourceInfo(traceback=<jaxlib.xla_extension.Traceback object at 0x126566730>, name_stack=NameStack(stack=(Transform(name='jvp'),)))))` instead."
     ]
    }
   ],
   "source": [
    "for _ in range(1,20_001):\n",
    "    model = update(model,x,y)"
   ]
  },
  {
   "cell_type": "markdown",
   "metadata": {},
   "source": [
    "💣💣💣💣\n",
    "\n",
    "The problem here is that model `__call__` modifies  `num_calls`  at each call, this means that the instance is not longer immutable. _This mutable behavior is not allowed in `pytreeclass`_. \n",
    "\n",
    "To solve this we can use `.at[...]` for functional updating the internal state as the following:\n",
    "```python\n",
    "...\n",
    "\n",
    "output_value, new_model = model.at[\"__call__\"]()\n",
    "\n",
    "```"
   ]
  },
  {
   "cell_type": "markdown",
   "metadata": {},
   "source": [
    "here the `num_calls` is updated after each model call, however to capture the updated `num_calls`  we need to return the updated instance `updated_model` along with the loss value for each loss_func call. \n",
    "\n",
    "Using `has_aux=True` in `jax.grad` we can output the updated_model along with the loss value."
   ]
  },
  {
   "cell_type": "code",
   "execution_count": 12,
   "metadata": {},
   "outputs": [],
   "source": [
    "import functools as ft\n",
    "\n",
    "@ft.partial(jax.value_and_grad, has_aux=True)\n",
    "def immutable_loss_func(model,x,y):\n",
    "    output,updated_model= model.at[\"__call__\"](x)\n",
    "    return jnp.mean((y-output)**2), updated_model\n",
    "\n",
    "@jax.jit\n",
    "def immutable_update(model,x,y):\n",
    "    (loss,updated_model),grads = immutable_loss_func(model,x,y)\n",
    "    return loss, updated_model-1e-3*grads"
   ]
  },
  {
   "cell_type": "markdown",
   "metadata": {},
   "source": [
    "Let's try again."
   ]
  },
  {
   "cell_type": "code",
   "execution_count": 13,
   "metadata": {},
   "outputs": [],
   "source": [
    "for i in range(1,20_001):\n",
    "    loss,model = immutable_update(model,x,y)"
   ]
  },
  {
   "cell_type": "code",
   "execution_count": 14,
   "metadata": {},
   "outputs": [
    {
     "name": "stdout",
     "output_type": "stream",
     "text": [
      "20000.0\n"
     ]
    }
   ],
   "source": [
    "print(model.num_calls)"
   ]
  },
  {
   "cell_type": "code",
   "execution_count": 15,
   "metadata": {},
   "outputs": [
    {
     "data": {
      "text/plain": [
       "<matplotlib.legend.Legend at 0x1417bd480>"
      ]
     },
     "execution_count": 15,
     "metadata": {},
     "output_type": "execute_result"
    },
    {
     "data": {
      "image/png": "[encoded data removed]",
      "text/plain": [
       "<Figure size 432x288 with 1 Axes>"
      ]
     },
     "metadata": {
      "needs_background": "light"
     },
     "output_type": "display_data"
    }
   ],
   "source": [
    "output,model = model.at[\"__call__\"](x)\n",
    "\n",
    "plt.plot(x,y, '-',label=\"True\")\n",
    "plt.plot(x,output,'--', label=\"Prediction\")\n",
    "plt.legend()"
   ]
  },
  {
   "cell_type": "markdown",
   "metadata": {},
   "source": [
    "So far, we have seen how to train an immutable model in a functional way. Immutable definition and functional API is useful in mitigating bugs or unintended behavior that arises from side effects ."
   ]
  }
 ],
 "metadata": {
  "kernelspec": {
   "display_name": "Python 3.10.5 ('dev-jax15')",
   "language": "python",
   "name": "python3"
  },
  "language_info": {
   "codemirror_mode": {
    "name": "ipython",
    "version": 3
   },
   "file_extension": ".py",
   "mimetype": "text/x-python",
   "name": "python",
   "nbconvert_exporter": "python",
   "pygments_lexer": "ipython3",
   "version": "3.10.5"
  },
  "orig_nbformat": 4,
  "vscode": {
   "interpreter": {
    "hash": "2499512ed2537f1f7868337b11978106d2ebb2fc6ab5814ee177db416ca4ea91"
   }
  }
 },
 "nbformat": 4,
 "nbformat_minor": 2
}
