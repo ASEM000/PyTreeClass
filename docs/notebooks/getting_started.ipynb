{
 "cells": [
  {
   "attachments": {},
   "cell_type": "markdown",
   "metadata": {},
   "source": [
    "# 🏃 Getting started"
   ]
  },
  {
   "cell_type": "markdown",
   "metadata": {},
   "source": [
    "## 🛠️ Installation"
   ]
  },
  {
   "cell_type": "markdown",
   "metadata": {},
   "source": [
    "```\n",
    "pip install pytreeclass\n",
    "```"
   ]
  },
  {
   "cell_type": "markdown",
   "metadata": {},
   "source": [
    "**Install development version**\n",
    "\n"
   ]
  },
  {
   "cell_type": "markdown",
   "metadata": {},
   "source": [
    "```\n",
    "pip install git+https://github.com/ASEM000/pytreeclass\n",
    "```"
   ]
  },
  {
   "cell_type": "markdown",
   "metadata": {},
   "source": [
    "## 📖 Description"
   ]
  },
  {
   "attachments": {},
   "cell_type": "markdown",
   "metadata": {},
   "source": [
    "`pytreeclass` is a JAX-compatible class builder to create and operate on stateful JAX PyTrees.\n",
    "\n",
    "The package aims to achieve _two goals_:\n",
    "\n",
    "1. 🔒 To maintain safe and correct behaviour by using _immutable_ modules with _functional_ API.\n",
    "2. To achieve the **most intuitive** user experience in the `JAX` ecosystem by :\n",
    "   - 🏗️ Defining layers similar to `PyTorch` or `TensorFlow` subclassing style.\n",
    "   - ☝️ Filtering\\Indexing layer values similar to `jax.numpy.at[].{get,set,apply,...}`\n",
    "   - 🎨 Visualize defined layers in plethora of ways.\n"
   ]
  },
  {
   "cell_type": "markdown",
   "metadata": {},
   "source": [
    "## ⏩ Quick Example"
   ]
  },
  {
   "cell_type": "code",
   "execution_count": 1,
   "metadata": {},
   "outputs": [
    {
     "data": {
      "text/plain": [
       "Tree(a=1, b=(2.0, 3.0), c=f32[3](μ=5.00, σ=0.82, ∈[4.00,6.00]))"
      ]
     },
     "execution_count": 1,
     "metadata": {},
     "output_type": "execute_result"
    }
   ],
   "source": [
    "import jax\n",
    "import jax.numpy as jnp\n",
    "import pytreeclass as tc\n",
    "\n",
    "\n",
    "@tc.autoinit\n",
    "class Tree(tc.TreeClass):\n",
    "    a: int = 1\n",
    "    b: tuple[float] = (2.0, 3.0)\n",
    "    c: jax.Array = jnp.array([4.0, 5.0, 6.0])\n",
    "\n",
    "    def __call__(self, x):\n",
    "        return self.a + self.b[0] + self.c + x\n",
    "\n",
    "\n",
    "tree = Tree()\n",
    "tree"
   ]
  },
  {
   "attachments": {},
   "cell_type": "markdown",
   "metadata": {},
   "source": [
    "### 🎨 Visualize<a id=\"Viz\">"
   ]
  },
  {
   "attachments": {},
   "cell_type": "markdown",
   "metadata": {},
   "source": [
    "#### `tree_summary`"
   ]
  },
  {
   "cell_type": "code",
   "execution_count": 2,
   "metadata": {},
   "outputs": [
    {
     "name": "stdout",
     "output_type": "stream",
     "text": [
      "┌────┬──────┬─────┬──────┐\n",
      "│Name│Type  │Count│Size  │\n",
      "├────┼──────┼─────┼──────┤\n",
      "│.a  │int   │1    │      │\n",
      "├────┼──────┼─────┼──────┤\n",
      "│.b  │tuple │2    │      │\n",
      "├────┼──────┼─────┼──────┤\n",
      "│.c  │f32[3]│3    │12.00B│\n",
      "├────┼──────┼─────┼──────┤\n",
      "│Σ   │Tree  │6    │12.00B│\n",
      "└────┴──────┴─────┴──────┘\n"
     ]
    }
   ],
   "source": [
    "tree = Tree()\n",
    "print(tc.tree_summary(tree, depth=1))"
   ]
  },
  {
   "cell_type": "code",
   "execution_count": 3,
   "metadata": {},
   "outputs": [
    {
     "name": "stdout",
     "output_type": "stream",
     "text": [
      "┌─────┬──────┬─────┬──────┐\n",
      "│Name │Type  │Count│Size  │\n",
      "├─────┼──────┼─────┼──────┤\n",
      "│.a   │int   │1    │      │\n",
      "├─────┼──────┼─────┼──────┤\n",
      "│.b[0]│float │1    │      │\n",
      "├─────┼──────┼─────┼──────┤\n",
      "│.b[1]│float │1    │      │\n",
      "├─────┼──────┼─────┼──────┤\n",
      "│.c   │f32[3]│3    │12.00B│\n",
      "├─────┼──────┼─────┼──────┤\n",
      "│Σ    │Tree  │6    │12.00B│\n",
      "└─────┴──────┴─────┴──────┘\n"
     ]
    }
   ],
   "source": [
    "tree = Tree()\n",
    "print(tc.tree_summary(tree, depth=2))"
   ]
  },
  {
   "attachments": {},
   "cell_type": "markdown",
   "metadata": {},
   "source": [
    "#### `tree_diagram`"
   ]
  },
  {
   "cell_type": "code",
   "execution_count": 4,
   "metadata": {},
   "outputs": [
    {
     "name": "stdout",
     "output_type": "stream",
     "text": [
      "Tree\n",
      "├── .a=1\n",
      "├── .b=(...)\n",
      "└── .c=f32[3](μ=5.00, σ=0.82, ∈[4.00,6.00])\n"
     ]
    }
   ],
   "source": [
    "tree = Tree()\n",
    "print(tc.tree_diagram(tree, depth=1))"
   ]
  },
  {
   "cell_type": "code",
   "execution_count": 5,
   "metadata": {},
   "outputs": [
    {
     "name": "stdout",
     "output_type": "stream",
     "text": [
      "Tree\n",
      "├── .a=1\n",
      "├── .b:tuple\n",
      "│   ├── [0]=2.0\n",
      "│   └── [1]=3.0\n",
      "└── .c=f32[3](μ=5.00, σ=0.82, ∈[4.00,6.00])\n"
     ]
    }
   ],
   "source": [
    "tree = Tree()\n",
    "print(tc.tree_diagram(tree, depth=2))"
   ]
  },
  {
   "attachments": {},
   "cell_type": "markdown",
   "metadata": {},
   "source": [
    "#### `tree_repr`"
   ]
  },
  {
   "cell_type": "code",
   "execution_count": 6,
   "metadata": {},
   "outputs": [
    {
     "name": "stdout",
     "output_type": "stream",
     "text": [
      "Tree(a=1, b=(...), c=f32[3](μ=5.00, σ=0.82, ∈[4.00,6.00]))\n"
     ]
    }
   ],
   "source": [
    "print(tc.tree_repr(tree, depth=1))"
   ]
  },
  {
   "cell_type": "code",
   "execution_count": 7,
   "metadata": {},
   "outputs": [
    {
     "name": "stdout",
     "output_type": "stream",
     "text": [
      "Tree(a=1, b=(2.0, 3.0), c=f32[3](μ=5.00, σ=0.82, ∈[4.00,6.00]))\n"
     ]
    }
   ],
   "source": [
    "print(tc.tree_repr(tree, depth=2))"
   ]
  },
  {
   "attachments": {},
   "cell_type": "markdown",
   "metadata": {},
   "source": [
    "#### `tree_str`"
   ]
  },
  {
   "cell_type": "code",
   "execution_count": 8,
   "metadata": {},
   "outputs": [
    {
     "name": "stdout",
     "output_type": "stream",
     "text": [
      "Tree(a=1, b=(...), c=[4. 5. 6.])\n"
     ]
    }
   ],
   "source": [
    "print(tc.tree_str(tree, depth=1))"
   ]
  },
  {
   "cell_type": "code",
   "execution_count": 9,
   "metadata": {},
   "outputs": [
    {
     "name": "stdout",
     "output_type": "stream",
     "text": [
      "Tree(a=1, b=(2.0, 3.0), c=[4. 5. 6.])\n"
     ]
    }
   ],
   "source": [
    "print(tc.tree_str(tree, depth=2))"
   ]
  },
  {
   "attachments": {},
   "cell_type": "markdown",
   "metadata": {},
   "source": [
    "### 🏃 Working with `jax` transformation\n",
    "\n",
    "Parameters are defined in `Tree` at the top of class definition similar to defining\n",
    "`dataclasses.dataclass` field.\n",
    "Lets optimize our parameters"
   ]
  },
  {
   "cell_type": "code",
   "execution_count": 10,
   "metadata": {},
   "outputs": [
    {
     "name": "stdout",
     "output_type": "stream",
     "text": [
      "Tree(a=#1, b=(-4.2826524, 3.0), c=[2.3924797 2.905778  3.4190805])\n",
      "Tree(a=1, b=(-4.2826524, 3.0), c=[2.3924797 2.905778  3.4190805])\n"
     ]
    }
   ],
   "source": [
    "@jax.grad\n",
    "def loss_func(tree: Tree, x: jax.Array):\n",
    "    tree = tc.tree_unmask(tree)  # <--- unmask the tree\n",
    "    preds = jax.vmap(tree)(x)  # <--- vectorize the tree call over the leading axis\n",
    "    return jnp.mean(preds**2)  # <--- return the mean squared error\n",
    "\n",
    "\n",
    "@jax.jit\n",
    "def train_step(tree: Tree, x: jax.Array):\n",
    "    grads = loss_func(tree, x)\n",
    "    # apply a small gradient step\n",
    "    return jax.tree_util.tree_map(lambda x, g: x - 1e-3 * g, tree, grads)\n",
    "\n",
    "\n",
    "# lets mask the non-differentiable parts of the tree with a frozen mask\n",
    "# in essence any non inexact type should be frozen to\n",
    "# make the tree differentiable and work with jax transformations\n",
    "tree = tc.tree_mask(tree)\n",
    "\n",
    "for epoch in range(1_000):\n",
    "    tree = train_step(tree, jnp.ones([10, 1]))\n",
    "\n",
    "print(tree)\n",
    "# **the `frozen` params have \"#\" prefix**\n",
    "# Tree(a=#1, b=(-4.2826524, 3.0), c=[2.3924797 2.905778  3.4190805])\n",
    "\n",
    "\n",
    "# unmask the frozen node (e.g. non-inexact) of  the tree\n",
    "tree = tc.tree_unmask(tree)\n",
    "print(tree)\n",
    "# Tree(a=1, b=(-4.2826524, 3.0), c=[2.3924797 2.905778  3.4190805])"
   ]
  },
  {
   "attachments": {},
   "cell_type": "markdown",
   "metadata": {},
   "source": [
    "#### ☝️ Advanced Indexing with `.at[]` <a id=\"Indexing\">\n",
    "_Out-of-place updates using mask, attribute name or index_\n",
    "\n",
    "`pytreeclass` offers 3 means of indexing through `.at[]`\n",
    "\n",
    "1. Indexing by boolean mask.\n",
    "2. Indexing by attribute name.\n",
    "3. Indexing by Leaf index.\n",
    "\n",
    "**Since `treeclass` wrapped class are immutable, `.at[]` operations returns new instance of the tree**\n"
   ]
  },
  {
   "attachments": {},
   "cell_type": "markdown",
   "metadata": {},
   "source": [
    "#### Index update by boolean mask"
   ]
  },
  {
   "cell_type": "code",
   "execution_count": 11,
   "metadata": {},
   "outputs": [
    {
     "name": "stdout",
     "output_type": "stream",
     "text": [
      "Tree(a=False, b=(False, False), c=[False  True  True])\n",
      "Tree(a=None, b=(None, None), c=[5. 6.])\n",
      "Tree(a=1, b=(2.0, 3.0), c=[ 4. 10. 10.])\n",
      "Tree(a=1, b=(2.0, 3.0), c=[ 4. 10. 10.])\n"
     ]
    }
   ],
   "source": [
    "tree = Tree()\n",
    "# Tree(a=1, b=(2, 3), c=i32[3](μ=5.00, σ=0.82, ∈[4,6]))\n",
    "\n",
    "# lets create a mask for values > 4\n",
    "mask = jax.tree_util.tree_map(lambda x: x > 4, tree)\n",
    "\n",
    "print(mask)\n",
    "# Tree(a=False, b=(False, False), c=[False  True  True])\n",
    "\n",
    "print(tree.at[mask].get())\n",
    "# Tree(a=None, b=(None, None), c=[5 6])\n",
    "\n",
    "print(tree.at[mask].set(10))\n",
    "# Tree(a=1, b=(2, 3), c=[ 4 10 10])\n",
    "\n",
    "print(tree.at[mask].apply(lambda x: 10))\n",
    "# Tree(a=1, b=(2, 3), c=[ 4 10 10])"
   ]
  },
  {
   "attachments": {},
   "cell_type": "markdown",
   "metadata": {},
   "source": [
    "#### Index update by attribute name"
   ]
  },
  {
   "cell_type": "code",
   "execution_count": 12,
   "metadata": {},
   "outputs": [
    {
     "name": "stdout",
     "output_type": "stream",
     "text": [
      "Tree(a=1, b=(None, None), c=None)\n",
      "Tree(a=10, b=(2.0, 3.0), c=[4. 5. 6.])\n",
      "Tree(a=10, b=(2.0, 3.0), c=[4. 5. 6.])\n"
     ]
    }
   ],
   "source": [
    "tree = Tree()\n",
    "# Tree(a=1, b=(2, 3), c=i32[3](μ=5.00, σ=0.82, ∈[4,6]))\n",
    "\n",
    "print(tree.at[\"a\"].get())\n",
    "# Tree(a=1, b=(None, None), c=None)\n",
    "\n",
    "print(tree.at[\"a\"].set(10))\n",
    "# Tree(a=10, b=(2, 3), c=[4 5 6])\n",
    "\n",
    "print(tree.at[\"a\"].apply(lambda x: 10))\n",
    "# Tree(a=10, b=(2, 3), c=[4 5 6])"
   ]
  },
  {
   "attachments": {},
   "cell_type": "markdown",
   "metadata": {},
   "source": [
    "#### Index update by integer index"
   ]
  },
  {
   "cell_type": "code",
   "execution_count": 13,
   "metadata": {},
   "outputs": [
    {
     "name": "stdout",
     "output_type": "stream",
     "text": [
      "Tree(a=None, b=(2.0, None), c=None)\n",
      "Tree(a=1, b=(10, 3.0), c=[4. 5. 6.])\n",
      "Tree(a=1, b=(10, 3.0), c=[4. 5. 6.])\n"
     ]
    }
   ],
   "source": [
    "tree = Tree()\n",
    "# Tree(a=1, b=(2, 3), c=i32[3](μ=5.00, σ=0.82, ∈[4,6]))\n",
    "\n",
    "print(tree.at[1][0].get())\n",
    "# Tree(a=None, b=(2.0, None), c=None)\n",
    "\n",
    "print(tree.at[1][0].set(10))\n",
    "# Tree(a=1, b=(10, 3.0), c=[4. 5. 6.])\n",
    "\n",
    "print(tree.at[1][0].apply(lambda x: 10))\n",
    "# Tree(a=1, b=(10, 3.0), c=[4. 5. 6.])"
   ]
  }
 ],
 "metadata": {
  "kernelspec": {
   "display_name": "Python 3.10.5 ('dev-jax15')",
   "language": "python",
   "name": "python3"
  },
  "language_info": {
   "codemirror_mode": {
    "name": "ipython",
    "version": 3
   },
   "file_extension": ".py",
   "mimetype": "text/x-python",
   "name": "python",
   "nbconvert_exporter": "python",
   "pygments_lexer": "ipython3",
   "version": "3.10.0"
  },
  "orig_nbformat": 4,
  "vscode": {
   "interpreter": {
    "hash": "2499512ed2537f1f7868337b11978106d2ebb2fc6ab5814ee177db416ca4ea91"
   }
  }
 },
 "nbformat": 4,
 "nbformat_minor": 2
}
