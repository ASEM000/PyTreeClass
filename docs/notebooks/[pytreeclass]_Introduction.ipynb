{
  "cells": [
    {
      "cell_type": "markdown",
      "metadata": {
        "id": "view-in-github",
        "colab_type": "text"
      },
      "source": [
        "<a href=\"https://colab.research.google.com/github/ASEM000/pytreeclass/blob/main/docs/notebooks/%5Bpytreeclass%5D_Introduction.ipynb\" target=\"_parent\"><img src=\"https://colab.research.google.com/assets/colab-badge.svg\" alt=\"Open In Colab\"/></a>"
      ]
    },
    {
      "cell_type": "markdown",
      "metadata": {
        "id": "Ew3nSYttkCl7"
      },
      "source": [
        "# ⏩ Quick example"
      ]
    },
    {
      "cell_type": "code",
      "execution_count": null,
      "metadata": {
        "id": "Xtld6xbUP2re"
      },
      "outputs": [],
      "source": [
        "!pip install pytreeclass"
      ]
    },
    {
      "cell_type": "markdown",
      "metadata": {
        "id": "xkFkd60URvvn"
      },
      "source": [
        "### 🏗️ Create simple MLP"
      ]
    },
    {
      "cell_type": "code",
      "execution_count": 3,
      "metadata": {
        "colab": {
          "base_uri": "https://localhost:8080/"
        },
        "id": "EL_32GJaRgub",
        "outputId": "297308b0-198c-430c-8426-97b983510d63"
      },
      "outputs": [
        {
          "output_type": "stream",
          "name": "stderr",
          "text": [
            "WARNING:absl:No GPU/TPU found, falling back to CPU. (Set TF_CPP_MIN_LOG_LEVEL=0 and rerun for more info.)\n"
          ]
        }
      ],
      "source": [
        "import jax\n",
        "from jax import numpy as jnp\n",
        "from pytreeclass import treeclass,tree_viz\n",
        "import matplotlib.pyplot as plt\n",
        "\n",
        "@treeclass\n",
        "class Linear :\n",
        "   # Any variable not wrapped with @treeclass\n",
        "   # should be declared as a dataclass field here\n",
        "   weight : jnp.ndarray\n",
        "   bias   : jnp.ndarray\n",
        "\n",
        "   def __init__(self,key,in_dim,out_dim):\n",
        "       self.weight = jax.random.normal(key,shape=(in_dim, out_dim)) * jnp.sqrt(2/in_dim)\n",
        "       self.bias = jnp.ones((1,out_dim))\n",
        "\n",
        "   def __call__(self,x):\n",
        "       return x @ self.weight + self.bias\n",
        "\n",
        "@treeclass\n",
        "class StackedLinear:\n",
        "\n",
        "    def __init__(self,key,in_dim,out_dim,hidden_dim):\n",
        "        keys= jax.random.split(key,3)\n",
        "\n",
        "        # Declaring l1,l2,l3 as dataclass_fields is optional\n",
        "        # as they are already wrapped with @treeclass\n",
        "        self.l1 = Linear(key=keys[0],in_dim=in_dim,out_dim=hidden_dim)\n",
        "        self.l2 = Linear(key=keys[1],in_dim=hidden_dim,out_dim=hidden_dim)\n",
        "        self.l3 = Linear(key=keys[2],in_dim=hidden_dim,out_dim=out_dim)\n",
        "\n",
        "    def __call__(self,x):\n",
        "        x = self.l1(x)\n",
        "        x = jax.nn.tanh(x)\n",
        "        x = self.l2(x)\n",
        "        x = jax.nn.tanh(x)\n",
        "        x = self.l3(x)\n",
        "\n",
        "        return x\n",
        "\n",
        "model = StackedLinear(in_dim=1,out_dim=1,hidden_dim=10,key=jax.random.PRNGKey(0))\n",
        "\n",
        "x = jnp.linspace(0,1,100)[:,None]\n",
        "y = x**3 + jax.random.uniform(jax.random.PRNGKey(0),(100,1))*0.01"
      ]
    },
    {
      "cell_type": "code",
      "source": [
        "x = jnp.linspace(0,1,100)[:,None]\n",
        "y = x**3 + jax.random.uniform(jax.random.PRNGKey(0),(100,1))*0.01\n",
        "\n",
        "def loss_func(model,x,y):\n",
        "    return jnp.mean((model(x)-y)**2 )\n",
        "\n",
        "@jax.jit\n",
        "def update(model,x,y):\n",
        "    value,grads = jax.value_and_grad(loss_func)(model,x,y)\n",
        "    # no need to use `jax.tree_map` to update the model\n",
        "    # as it model is wrapped by @treeclass\n",
        "    return value , model-1e-3*grads\n",
        "\n",
        "for _ in range(1,20_001):\n",
        "    value,model = update(model,x,y)\n",
        "\n",
        "plt.plot(x,model(x),'--r',label = 'Prediction',linewidth=3)\n",
        "plt.plot(x,y,'--k',label='True',linewidth=3)\n",
        "plt.legend()"
      ],
      "metadata": {
        "colab": {
          "base_uri": "https://localhost:8080/",
          "height": 283
        },
        "id": "6LPg5PRG01i6",
        "outputId": "081afd15-f33f-4153-c3a8-c8b99213d86b"
      },
      "execution_count": 4,
      "outputs": [
        {
          "output_type": "execute_result",
          "data": {
            "text/plain": [
              "<matplotlib.legend.Legend at 0x7fcb87d40a10>"
            ]
          },
          "metadata": {},
          "execution_count": 4
        },
        {
          "output_type": "display_data",
          "data": {
            "text/plain": [
              "<Figure size 432x288 with 1 Axes>"
            ],
            "image/png": "[encoded data removed]"
          },
          "metadata": {
            "needs_background": "light"
          }
        }
      ]
    },
    {
      "cell_type": "markdown",
      "metadata": {
        "id": "OrjgXH-SR-bT"
      },
      "source": [
        "### 🎨 Visualize"
      ]
    },
    {
      "cell_type": "code",
      "execution_count": null,
      "metadata": {
        "colab": {
          "base_uri": "https://localhost:8080/"
        },
        "id": "7WbZ7m9ERziB",
        "outputId": "6bf027c9-b34a-4440-ef9c-086cbd56b570"
      },
      "outputs": [
        {
          "name": "stdout",
          "output_type": "stream",
          "text": [
            "┌──────┬───────┬───────┬─────────────────┐\n",
            "│Type  │Param #│Size   │Config           │\n",
            "├──────┼───────┼───────┼─────────────────┤\n",
            "│Linear│20     │80.00B │weight=f32[1,10] │\n",
            "│      │(0)    │(0.00B)│bias=f32[1,10]   │\n",
            "├──────┼───────┼───────┼─────────────────┤\n",
            "│Linear│110    │440.00B│weight=f32[10,10]│\n",
            "│      │(0)    │(0.00B)│bias=f32[1,10]   │\n",
            "├──────┼───────┼───────┼─────────────────┤\n",
            "│Linear│11     │44.00B │weight=f32[10,1] │\n",
            "│      │(0)    │(0.00B)│bias=f32[1,1]    │\n",
            "└──────┴───────┴───────┴─────────────────┘\n",
            "Total # :\t\t141(0)\n",
            "Dynamic #:\t\t141(0)\n",
            "Static/Frozen #:\t0(0)\n",
            "------------------------------------------\n",
            "Total size :\t\t564.00B(0.00B)\n",
            "Dynamic size:\t\t564.00B(0.00B)\n",
            "Static/Frozen size:\t0.00B(0.00B)\n",
            "==========================================\n"
          ]
        }
      ],
      "source": [
        "print(tree_viz.summary(model))"
      ]
    },
    {
      "cell_type": "code",
      "execution_count": null,
      "metadata": {
        "colab": {
          "base_uri": "https://localhost:8080/"
        },
        "id": "5uCb0scHY3q8",
        "outputId": "97abfba3-17f2-466d-a82d-ecd501b70357"
      },
      "outputs": [
        {
          "name": "stdout",
          "output_type": "stream",
          "text": [
            "┌─────────────────────────────────────┐\n",
            "│StackedLinear(Parent)                │\n",
            "├─────────────────────────────────────┤\n",
            "│┌────────────┬────────┬─────────────┐│\n",
            "││            │ Input  │ f32[100,1]  ││\n",
            "││ Linear(l1) │────────┼─────────────┤│\n",
            "││            │ Output │ f32[100,10] ││\n",
            "│└────────────┴────────┴─────────────┘│\n",
            "│┌────────────┬────────┬─────────────┐│\n",
            "││            │ Input  │ f32[100,10] ││\n",
            "││ Linear(l2) │────────┼─────────────┤│\n",
            "││            │ Output │ f32[100,10] ││\n",
            "│└────────────┴────────┴─────────────┘│\n",
            "│┌────────────┬────────┬─────────────┐│\n",
            "││            │ Input  │ f32[100,10] ││\n",
            "││ Linear(l3) │────────┼─────────────┤│\n",
            "││            │ Output │ f32[100,1]  ││\n",
            "│└────────────┴────────┴─────────────┘│\n",
            "└─────────────────────────────────────┘\n"
          ]
        }
      ],
      "source": [
        "print(tree_viz.tree_box(model,array=x))"
      ]
    },
    {
      "cell_type": "code",
      "execution_count": null,
      "metadata": {
        "colab": {
          "base_uri": "https://localhost:8080/"
        },
        "id": "KvqAtrKJY4MA",
        "outputId": "17cd9afa-28d9-40b9-e0db-4b3d02351e13"
      },
      "outputs": [
        {
          "name": "stdout",
          "output_type": "stream",
          "text": [
            "StackedLinear\n",
            "    ├── l1=Linear\n",
            "    │   ├── weight=f32[1,10]\n",
            "    │   └── bias=f32[1,10]  \n",
            "    ├── l2=Linear\n",
            "    │   ├── weight=f32[10,10]\n",
            "    │   └── bias=f32[1,10]  \n",
            "    └── l3=Linear\n",
            "        ├── weight=f32[10,1]\n",
            "        └── bias=f32[1,1]       \n"
          ]
        }
      ],
      "source": [
        "print(tree_viz.tree_diagram(model))"
      ]
    },
    {
      "cell_type": "markdown",
      "metadata": {
        "id": "znMr_wk1Y-y_"
      },
      "source": [
        "### ✂️ Model surgery"
      ]
    },
    {
      "cell_type": "code",
      "execution_count": null,
      "metadata": {
        "colab": {
          "base_uri": "https://localhost:8080/"
        },
        "id": "eMXZCcL9Y_R8",
        "outputId": "b8dbb5ed-ecf1-4810-a38d-f5637915f660"
      },
      "outputs": [
        {
          "name": "stdout",
          "output_type": "stream",
          "text": [
            "StackedLinear\n",
            "    ├── l1=Linear\n",
            "    │   ├#─ weight=f32[1,10]\n",
            "    │   └#─ bias=f32[1,10]  \n",
            "    ├── l2=Linear\n",
            "    │   ├── weight=f32[10,10]\n",
            "    │   └── bias=f32[1,10]  \n",
            "    └── l3=Linear\n",
            "        ├── weight=f32[10,1]\n",
            "        └── bias=f32[1,1]       \n"
          ]
        }
      ],
      "source": [
        "# freeze l1\n",
        "model.l1 = model.l1.freeze()\n",
        "\n",
        "# set non-negative values in l2 to 0\n",
        "model.l2 = model.l2.at[model.l2<0].set(0)\n",
        "\n",
        "# frozen nodes are marked with #\n",
        "print(tree_viz.tree_diagram(model))"
      ]
    }
  ],
  "metadata": {
    "colab": {
      "name": "[pytreeclass] Introduction.ipynb",
      "provenance": [],
      "include_colab_link": true
    },
    "kernelspec": {
      "display_name": "Python 3.8.9 64-bit",
      "language": "python",
      "name": "python3"
    },
    "language_info": {
      "name": "python",
      "version": "3.8.9"
    },
    "vscode": {
      "interpreter": {
        "hash": "31f2aee4e71d21fbe5cf8b01ff0e069b9275f58929596ceb00d14d90e3e16cd6"
      }
    }
  },
  "nbformat": 4,
  "nbformat_minor": 0
}