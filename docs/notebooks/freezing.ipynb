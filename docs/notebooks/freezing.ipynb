{
 "cells": [
  {
   "attachments": {},
   "cell_type": "markdown",
   "id": "fbccd6ea",
   "metadata": {},
   "source": [
    "# 🥶 Freezing tree leaves"
   ]
  },
  {
   "attachments": {},
   "cell_type": "markdown",
   "id": "f7e23ce7",
   "metadata": {},
   "source": [
    "## `jax` and inexact data types\n",
    "`jax` transformations like `jax.grad` can handle  `PyTree` of inexact data types ( `float`, `complex`, `array` of `float`/`complex`). any other input type will lead to type error, the following example shows this."
   ]
  },
  {
   "cell_type": "code",
   "execution_count": 1,
   "id": "8a352354",
   "metadata": {},
   "outputs": [
    {
     "name": "stdout",
     "output_type": "stream",
     "text": [
      "grad requires real- or complex-valued inputs (input dtype that is a sub-dtype of np.inexact), but got int32. If you want to use Boolean- or integer-valued inputs, use vjp or set allow_int to True.\n"
     ]
    }
   ],
   "source": [
    "import jax\n",
    "\n",
    "\n",
    "@jax.grad\n",
    "def identity_grad(x):\n",
    "    # x can be any pyt\n",
    "    return sum(x)\n",
    "\n",
    "\n",
    "# valid input\n",
    "identity_grad([1.0, 1.0])\n",
    "\n",
    "# invalid input (not in-exact)\n",
    "try:\n",
    "    identity_grad([1])\n",
    "except TypeError as e:\n",
    "    print(e)"
   ]
  },
  {
   "attachments": {},
   "cell_type": "markdown",
   "id": "53c6e40c",
   "metadata": {},
   "source": [
    "## Using `freeze`"
   ]
  },
  {
   "attachments": {},
   "cell_type": "markdown",
   "id": "943fab1b",
   "metadata": {},
   "source": [
    "However, in cases when you function needs to pass non-inexact data type, we can use wrap the non-inexact types with `pytreeclass.freeze`"
   ]
  },
  {
   "cell_type": "code",
   "execution_count": 2,
   "id": "814358ed",
   "metadata": {},
   "outputs": [
    {
     "name": "stdout",
     "output_type": "stream",
     "text": [
      "grad requires real- or complex-valued inputs (input dtype that is a sub-dtype of np.inexact), but got int32. If you want to use Boolean- or integer-valued inputs, use vjp or set allow_int to True.\n"
     ]
    },
    {
     "data": {
      "text/plain": [
       "[#1, Array(0., dtype=float32, weak_type=True)]"
      ]
     },
     "execution_count": 2,
     "metadata": {},
     "output_type": "execute_result"
    }
   ],
   "source": [
    "import pytreeclass as pytc\n",
    "\n",
    "\n",
    "@jax.grad\n",
    "def identity_grad(x):\n",
    "    return 1.0\n",
    "\n",
    "\n",
    "try:\n",
    "    # this will fail\n",
    "    identity_grad([1, 1.0])\n",
    "except TypeError as e:\n",
    "    print(e)\n",
    "\n",
    "# this will work\n",
    "identity_grad([pytc.freeze(1), 1.0])"
   ]
  },
  {
   "attachments": {},
   "cell_type": "markdown",
   "id": "e1e7f11a",
   "metadata": {},
   "source": [
    "Notice that using `pytc.freeze` we were able to pass non-inexact type to `jax` transformation without `jax` complaining.\n",
    "however, inside the function we need to unfreeze this value if we want to use it, if donot need to use the value , we dont need to worry about unfreezing it. the following example shows that."
   ]
  },
  {
   "cell_type": "code",
   "execution_count": 3,
   "id": "28e14678",
   "metadata": {},
   "outputs": [
    {
     "name": "stdout",
     "output_type": "stream",
     "text": [
      "[#1, Array(2., dtype=float32, weak_type=True)]\n"
     ]
    }
   ],
   "source": [
    "import pytreeclass as pytc\n",
    "\n",
    "\n",
    "@jax.grad\n",
    "def identity_grad(x):\n",
    "    # this function does not use the frozen value\n",
    "    return x[1] ** 2\n",
    "\n",
    "\n",
    "print(identity_grad([pytc.freeze(1), 1.0]))"
   ]
  },
  {
   "attachments": {},
   "cell_type": "markdown",
   "id": "724028ca",
   "metadata": {},
   "source": [
    "However, if we need to pass non-inexact value to the function to use inside the function we need to freeze it before passing it to the function, and unfreeze it inside the function. The next example explain this concept"
   ]
  },
  {
   "cell_type": "code",
   "execution_count": 4,
   "id": "1d86c889",
   "metadata": {},
   "outputs": [
    {
     "name": "stdout",
     "output_type": "stream",
     "text": [
      "[#1, Array(2., dtype=float32, weak_type=True)]\n"
     ]
    }
   ],
   "source": [
    "import pytreeclass as pytc\n",
    "\n",
    "\n",
    "@jax.grad\n",
    "def func(x):\n",
    "    # this function uses the non-inexact and inexact values\n",
    "    # the non-inexact value is frozen so we need to unfreeze it\n",
    "    return pytc.unfreeze(x[0]) ** 2 + x[1] ** 2\n",
    "\n",
    "\n",
    "print(func([pytc.freeze(1), 1.0]))"
   ]
  },
  {
   "attachments": {},
   "cell_type": "markdown",
   "id": "3dd28bb7",
   "metadata": {},
   "source": [
    "The result of previous cell reveals something interesting, we know that $\\frac{d}{dx} x^2 = 2x$, however this derivative is only evaluated for the inexact value of type `float` and returned the result as `Array(2.)`, but for the value of type `int` which was frozen on input, it has not changed. this is working as intended, in fact we can use this mechanism not only to pass invalid types to `jax` transformation without raising an error, but we can use this scheme to prevent values from being updated/take derivative with respect to. the following example shows this:"
   ]
  },
  {
   "cell_type": "code",
   "execution_count": 5,
   "id": "6258ac11",
   "metadata": {},
   "outputs": [
    {
     "name": "stdout",
     "output_type": "stream",
     "text": [
      "#1.0\n"
     ]
    }
   ],
   "source": [
    "import pytreeclass as pytc\n",
    "import jax\n",
    "\n",
    "\n",
    "@jax.grad\n",
    "def func(x):\n",
    "    return pytc.unfreeze(x) ** 2\n",
    "\n",
    "\n",
    "print(func(pytc.freeze(1.0)))"
   ]
  },
  {
   "attachments": {},
   "cell_type": "markdown",
   "id": "db262825",
   "metadata": {},
   "source": [
    "We can use this scheme to prevent some values from being updated (e.g. `trained`) when interfacing with `jax` transformation.\n",
    "However, we note that from the previous example, we had to know exactly which value to unfreeze to apply `unfreeze` to. what if we dont have this information?, then we can simply use `jax.tree_map` to do it for us in the following example."
   ]
  },
  {
   "cell_type": "code",
   "execution_count": 6,
   "id": "a5ae36f1",
   "metadata": {},
   "outputs": [
    {
     "name": "stdout",
     "output_type": "stream",
     "text": [
      "[#1.0, Array(1., dtype=float32, weak_type=True)]\n",
      "[Array(1., dtype=float32, weak_type=True), #1.0]\n",
      "[#1.0, #1.0]\n",
      "[Array(1., dtype=float32, weak_type=True), Array(1., dtype=float32, weak_type=True)]\n"
     ]
    }
   ],
   "source": [
    "import pytreeclass as pytc\n",
    "import jax\n",
    "\n",
    "\n",
    "@jax.grad\n",
    "def sum_grad(x):\n",
    "    # unfreeze the input in case any of the values are frozen\n",
    "    # this is not necessary if you know the input is not frozen\n",
    "    x = jax.tree_map(pytc.unfreeze, x, is_leaf=pytc.is_frozen)\n",
    "    return sum(x)\n",
    "\n",
    "\n",
    "print(sum_grad([pytc.freeze(1.0), 1.0]))\n",
    "print(sum_grad([1.0, pytc.freeze(1.0)]))\n",
    "print(sum_grad([pytc.freeze(1.0), pytc.freeze(1.0)]))\n",
    "print(sum_grad([1.0, 1.0]))"
   ]
  },
  {
   "attachments": {},
   "cell_type": "markdown",
   "id": "5b205394",
   "metadata": {},
   "source": [
    "Using the previous scheme , you can achieve a low-overhead training when using `jax` and `PyTreeClass`"
   ]
  },
  {
   "attachments": {},
   "cell_type": "markdown",
   "id": "c4f52e04",
   "metadata": {},
   "source": [
    "## Using `freeze` with a mask recipes\n",
    "The following examples shows how to effictively using `freeze` and `TreeClass` instances to freeze certain values."
   ]
  },
  {
   "cell_type": "code",
   "execution_count": 7,
   "id": "6a298725",
   "metadata": {},
   "outputs": [
    {
     "data": {
      "text/plain": [
       "Tree(a=1, b=2.0, c=f32[3](μ=4.00, σ=0.82, ∈[3.00,5.00]))"
      ]
     },
     "execution_count": 7,
     "metadata": {},
     "output_type": "execute_result"
    }
   ],
   "source": [
    "from __future__ import annotations\n",
    "import jax\n",
    "import jax.tree_util as jtu\n",
    "import jax.numpy as jnp\n",
    "import pytreeclass as pytc\n",
    "\n",
    "\n",
    "class Tree(pytc.TreeClass):\n",
    "    a: int = 1\n",
    "    b: float = 2.0\n",
    "    c: jax.Array = jnp.array([3.0, 4.0, 5.0])\n",
    "\n",
    "\n",
    "tree = Tree()\n",
    "tree"
   ]
  },
  {
   "attachments": {},
   "cell_type": "markdown",
   "id": "daec42e0",
   "metadata": {},
   "source": [
    "### Freeze leaves by specifying a mask"
   ]
  },
  {
   "cell_type": "code",
   "execution_count": 8,
   "id": "745f529c",
   "metadata": {},
   "outputs": [
    {
     "name": "stdout",
     "output_type": "stream",
     "text": [
      "Tree(a=#1, b=2.0, c=[3. 4. 5.])\n",
      "[2.0, Array([3., 4., 5.], dtype=float32)]\n",
      "Tree(a=#1, b=102.0, c=[103. 104. 105.])\n",
      "Tree(a=1, b=2.0, c=[3. 4. 5.])\n"
     ]
    }
   ],
   "source": [
    "# lets freeze all int values\n",
    "mask = jtu.tree_map(lambda x: isinstance(x, int), tree)\n",
    "frozen_tree = tree.at[mask].apply(pytc.freeze)\n",
    "print(frozen_tree)\n",
    "# Tree(a=#1, b=2.0, c=[3. 4. 5.])\n",
    "\n",
    "# frozen value are excluded from `tree_leaves`\n",
    "print(jtu.tree_leaves(frozen_tree))\n",
    "# [2.0, Array([3., 4., 5.], dtype=float32)]\n",
    "\n",
    "# `a` does not get updated by `tree_map`\n",
    "print(jtu.tree_map(lambda x: x + 100, frozen_tree))\n",
    "# Tree(a=#1, b=102.0, c=[103. 104. 105.])\n",
    "\n",
    "# unfreeze by a mask\n",
    "unfrozen_tree = frozen_tree.at[mask].apply(pytc.unfreeze, is_leaf=pytc.is_frozen)\n",
    "print(unfrozen_tree)\n",
    "# Tree(a=1, b=2.0, c=[3. 4. 5.])"
   ]
  },
  {
   "attachments": {},
   "cell_type": "markdown",
   "id": "b3a09b75",
   "metadata": {},
   "source": [
    "### Freeze leaves by specifying the leaf name"
   ]
  },
  {
   "cell_type": "code",
   "execution_count": 9,
   "id": "ebd36ca6",
   "metadata": {},
   "outputs": [
    {
     "name": "stdout",
     "output_type": "stream",
     "text": [
      "Tree(a=#1, b=2.0, c=[3. 4. 5.])\n",
      "[2.0, Array([3., 4., 5.], dtype=float32)]\n",
      "Tree(a=#1, b=102.0, c=[103. 104. 105.])\n",
      "Tree(a=1, b=2.0, c=[3. 4. 5.])\n"
     ]
    }
   ],
   "source": [
    "frozen_tree = tree.at[\"a\"].apply(pytc.freeze)\n",
    "print(frozen_tree)  # `a` has a prefix `#`\n",
    "# Tree(a=#1, b=2.0, c=[3. 4. 5.])\n",
    "\n",
    "# frozen value are excluded from `tree_leaves`\n",
    "print(jtu.tree_leaves(frozen_tree))\n",
    "# [2.0, Array([3., 4., 5.], dtype=float32)]\n",
    "\n",
    "# `a` does not get updated by `tree_map`\n",
    "print(jtu.tree_map(lambda x: x + 100, frozen_tree))\n",
    "# Tree(a=#1, b=102.0, c=[103. 104. 105.])\n",
    "\n",
    "# unfreeze `a`\n",
    "unfrozen_tree = frozen_tree.at[\"a\"].apply(pytc.unfreeze, is_leaf=pytc.is_frozen)\n",
    "print(unfrozen_tree)\n",
    "# Tree(a=1, b=2.0, c=[3. 4. 5.])"
   ]
  },
  {
   "attachments": {},
   "cell_type": "markdown",
   "id": "46f04d44",
   "metadata": {},
   "source": [
    "# Use `freeze`/`unfreeze` with `tree_mask`/`tree_unmask`\n",
    "\n",
    "`PyTreeClass` provides `tree_mask`/`tree_unmask` as a convenience function to achieve the above\n",
    "tasks with less code. in essence, `tree_mask`, `tree_unmask` freeze/unfreeze node that satisfies a mask"
   ]
  },
  {
   "cell_type": "code",
   "execution_count": 10,
   "id": "330f8c54",
   "metadata": {},
   "outputs": [
    {
     "name": "stdout",
     "output_type": "stream",
     "text": [
      "(1.0, #2)\n",
      "(1.0, 2)\n"
     ]
    }
   ],
   "source": [
    "# freeze leaves that satisfy a predicate/mask\n",
    "# by default `tree_mask` uses `is_nondiff` predicate mask to freeze non-differentiable values\n",
    "\n",
    "tree = (1.0, 2)\n",
    "masked_tree = pytc.tree_mask(tree)\n",
    "\n",
    "print(masked_tree)\n",
    "# (1.0, #2)  # `2` is frozen because it is an int (e.g. non-inexact type)\n",
    "\n",
    "# we can undo the above by `tree_unmask`\n",
    "print(pytc.tree_unmask(masked_tree))\n",
    "# (1.0, 2)"
   ]
  }
 ],
 "metadata": {
  "kernelspec": {
   "display_name": "dev-jax",
   "language": "python",
   "name": "python3"
  },
  "language_info": {
   "codemirror_mode": {
    "name": "ipython",
    "version": 3
   },
   "file_extension": ".py",
   "mimetype": "text/x-python",
   "name": "python",
   "nbconvert_exporter": "python",
   "pygments_lexer": "ipython3",
   "version": "3.10.0"
  }
 },
 "nbformat": 4,
 "nbformat_minor": 5
}
