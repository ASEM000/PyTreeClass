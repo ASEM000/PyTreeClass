{
 "cells": [
  {
   "attachments": {},
   "cell_type": "markdown",
   "id": "fbccd6ea",
   "metadata": {},
   "source": [
    "# 🥶 Freezing tree leaves"
   ]
  },
  {
   "cell_type": "code",
   "execution_count": 1,
   "id": "6a298725",
   "metadata": {},
   "outputs": [
    {
     "data": {
      "text/plain": [
       "Tree(a=1, b=2.0, c=f32[3](μ=4.00, σ=0.82, ∈[3.00,5.00]))"
      ]
     },
     "execution_count": 1,
     "metadata": {},
     "output_type": "execute_result"
    }
   ],
   "source": [
    "from __future__ import annotations\n",
    "import jax\n",
    "import jax.tree_util as jtu\n",
    "import jax.numpy as jnp\n",
    "import pytreeclass as pytc\n",
    "\n",
    "\n",
    "class Tree(pytc.TreeClass):\n",
    "    a: int = 1\n",
    "    b: float = 2.0\n",
    "    c: jax.Array = jnp.array([3.0, 4.0, 5.0])\n",
    "\n",
    "\n",
    "tree = Tree()\n",
    "tree"
   ]
  },
  {
   "attachments": {},
   "cell_type": "markdown",
   "id": "daec42e0",
   "metadata": {},
   "source": [
    "### Freeze leaves by specifying a mask"
   ]
  },
  {
   "cell_type": "code",
   "execution_count": 2,
   "id": "745f529c",
   "metadata": {},
   "outputs": [
    {
     "name": "stdout",
     "output_type": "stream",
     "text": [
      "Tree(a=#1, b=2.0, c=[3. 4. 5.])\n",
      "[2.0, Array([3., 4., 5.], dtype=float32)]\n",
      "Tree(a=#1, b=102.0, c=[103. 104. 105.])\n",
      "Tree(a=1, b=2.0, c=[3. 4. 5.])\n"
     ]
    }
   ],
   "source": [
    "# lets freeze all int values\n",
    "mask = jtu.tree_map(lambda x: isinstance(x, int), tree)\n",
    "frozen_tree = tree.at[mask].apply(pytc.freeze)\n",
    "print(frozen_tree)\n",
    "# Tree(a=#1, b=2.0, c=[3. 4. 5.])\n",
    "\n",
    "# frozen value are excluded from `tree_leaves`\n",
    "print(jtu.tree_leaves(frozen_tree))\n",
    "# [2.0, Array([3., 4., 5.], dtype=float32)]\n",
    "\n",
    "# `a` does not get updated by `tree_map`\n",
    "print(jtu.tree_map(lambda x: x + 100, frozen_tree))\n",
    "# Tree(a=#1, b=102.0, c=[103. 104. 105.])\n",
    "\n",
    "# unfreeze by a mask\n",
    "unfrozen_tree = frozen_tree.at[mask].apply(pytc.unfreeze, is_leaf=pytc.is_frozen)\n",
    "print(unfrozen_tree)\n",
    "# Tree(a=1, b=2.0, c=[3. 4. 5.])"
   ]
  },
  {
   "attachments": {},
   "cell_type": "markdown",
   "id": "b3a09b75",
   "metadata": {},
   "source": [
    "### Freeze leaves by specifying the leaf name"
   ]
  },
  {
   "cell_type": "code",
   "execution_count": 3,
   "id": "ebd36ca6",
   "metadata": {},
   "outputs": [
    {
     "name": "stdout",
     "output_type": "stream",
     "text": [
      "Tree(a=#1, b=2.0, c=[3. 4. 5.])\n",
      "[2.0, Array([3., 4., 5.], dtype=float32)]\n",
      "Tree(a=#1, b=102.0, c=[103. 104. 105.])\n",
      "Tree(a=1, b=2.0, c=[3. 4. 5.])\n"
     ]
    }
   ],
   "source": [
    "frozen_tree = tree.at[\"a\"].apply(pytc.freeze)\n",
    "print(frozen_tree)  # `a` has a prefix `#`\n",
    "# Tree(a=#1, b=2.0, c=[3. 4. 5.])\n",
    "\n",
    "# frozen value are excluded from `tree_leaves`\n",
    "print(jtu.tree_leaves(frozen_tree))\n",
    "# [2.0, Array([3., 4., 5.], dtype=float32)]\n",
    "\n",
    "# `a` does not get updated by `tree_map`\n",
    "print(jtu.tree_map(lambda x: x + 100, frozen_tree))\n",
    "# Tree(a=#1, b=102.0, c=[103. 104. 105.])\n",
    "\n",
    "# unfreeze `a`\n",
    "unfrozen_tree = frozen_tree.at[\"a\"].apply(pytc.unfreeze, is_leaf=pytc.is_frozen)\n",
    "print(unfrozen_tree)\n",
    "# Tree(a=1, b=2.0, c=[3. 4. 5.])"
   ]
  }
 ],
 "metadata": {
  "kernelspec": {
   "display_name": "dev-jax",
   "language": "python",
   "name": "python3"
  },
  "language_info": {
   "codemirror_mode": {
    "name": "ipython",
    "version": 3
   },
   "file_extension": ".py",
   "mimetype": "text/x-python",
   "name": "python",
   "nbconvert_exporter": "python",
   "pygments_lexer": "ipython3",
   "version": "3.10.0"
  }
 },
 "nbformat": 4,
 "nbformat_minor": 5
}
