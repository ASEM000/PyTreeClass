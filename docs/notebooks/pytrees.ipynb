{
 "cells": [
  {
   "attachments": {},
   "cell_type": "markdown",
   "metadata": {},
   "source": [
    "# 🌲 PyTrees"
   ]
  },
  {
   "attachments": {},
   "cell_type": "markdown",
   "metadata": {},
   "source": [
    "Pytrees in JAX provide a way to work with nested data structures, like lists, tuples, and dictionaries, in a convenient and efficient manner. They allow you to perform operations on each element of the structure easily. Here's an example that showcases the concept:"
   ]
  },
  {
   "cell_type": "code",
   "execution_count": 9,
   "metadata": {},
   "outputs": [
    {
     "name": "stdout",
     "output_type": "stream",
     "text": [
      "Original Tree: (1, [2, 3], {'a': 4, 'b': 5})\n",
      "Mapped Tree: (1, [4, 9], {'a': 16, 'b': 25})\n"
     ]
    }
   ],
   "source": [
    "import jax\n",
    "import jax.numpy as np\n",
    "\n",
    "\n",
    "# Define a simple function to apply to each element of the pytree\n",
    "def square(x):\n",
    "    return x**2\n",
    "\n",
    "\n",
    "# Create a nested data structure (pytree)\n",
    "tree = (1, [2, 3], {\"a\": 4, \"b\": 5})\n",
    "\n",
    "# Apply the square function to each element of the tree using `tree_map`\n",
    "mapped_tree = jax.tree_map(square, tree)\n",
    "\n",
    "# Print the original and mapped trees\n",
    "print(\"Original Tree:\", tree)\n",
    "print(\"Mapped Tree:\", mapped_tree)"
   ]
  },
  {
   "attachments": {},
   "cell_type": "markdown",
   "metadata": {},
   "source": [
    "In this example, we defined a simple square function that squares each element. We then created a nested data structure called tree, which consists of a tuple, a list, and a dictionary. Using tree_map, we applied the square function to every element in the tree, resulting in a new pytree called mapped_tree.\n",
    "\n",
    "JAX's pytrees are particularly useful when working with deep learning models, as they allow you to efficiently manipulate and transform complex structures like neural network parameters, layer configurations, or gradient values. Pytrees enable you to perform operations on these structures in a batched manner, which is crucial for high-performance computations."
   ]
  },
  {
   "attachments": {},
   "cell_type": "markdown",
   "metadata": {},
   "source": [
    "Using pytrees as function inputs in JAX allows you to pass complex hierarchical data structures as arguments to functions in a convenient and flexible manner. This makes it easier to work with nested data and perform operations on its elements. Here's an example to illustrate how pytrees can be used as function inputs:"
   ]
  },
  {
   "cell_type": "code",
   "execution_count": 8,
   "metadata": {},
   "outputs": [
    {
     "name": "stdout",
     "output_type": "stream",
     "text": [
      "Flat Tree: [1, 2, 3, 4, 5]\n",
      "Sum of Elements: 15\n"
     ]
    }
   ],
   "source": [
    "import jax\n",
    "\n",
    "\n",
    "# Define a function that operates on a pytree\n",
    "def sum_elements(tree):\n",
    "    flat_tree = jax.tree_util.tree_leaves(tree)\n",
    "    print(\"Flat Tree:\", flat_tree)\n",
    "    total_sum = sum(flat_tree)\n",
    "    return total_sum\n",
    "\n",
    "\n",
    "# Create a nested data structure (pytree)\n",
    "tree = (1, [2, 3], {\"a\": 4, \"b\": 5})\n",
    "\n",
    "# Pass the pytree as an argument to the function\n",
    "result = sum_elements(tree)\n",
    "\n",
    "# Print the result\n",
    "print(\"Sum of Elements:\", result)"
   ]
  },
  {
   "attachments": {},
   "cell_type": "markdown",
   "metadata": {},
   "source": [
    "In this example, we defined a function called sum_elements that takes a pytree as an argument. Inside the function, we first flatten the pytree leaves using `tree_leaves` to get a list of all elements values. Then, we calculate the sum of the elements using `sum`. Finally, we return the total sum.\n",
    "\n",
    "We created a nested data structure called tree and passed it as an argument to the `sum_elements` function. The function automatically works with the structure of the input pytree, flattens it, and calculates the sum of all the elements, regardless of the nested levels.\n",
    "\n",
    "Using pytrees as function inputs is beneficial when working with complex models or data structures that have a hierarchical organization. It allows you to write functions that operate on the structure and elements of the input pytrees in a generic and modular way. This flexibility simplifies the code and enhances reusability, as the same function can be used with different pytrees that follow the same structure."
   ]
  }
 ],
 "metadata": {
  "kernelspec": {
   "display_name": "dev-jax",
   "language": "python",
   "name": "python3"
  },
  "language_info": {
   "codemirror_mode": {
    "name": "ipython",
    "version": 3
   },
   "file_extension": ".py",
   "mimetype": "text/x-python",
   "name": "python",
   "nbconvert_exporter": "python",
   "pygments_lexer": "ipython3",
   "version": "3.10.0"
  },
  "orig_nbformat": 4
 },
 "nbformat": 4,
 "nbformat_minor": 2
}
