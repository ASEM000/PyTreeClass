{
 "cells": [
  {
   "attachments": {},
   "cell_type": "markdown",
   "id": "fbccd6ea",
   "metadata": {},
   "source": [
    "# 🥶 Dealing with non-jax types\n",
    "\n",
    "In essence, how to pass non-inexact types (e.g. int, str, Callables, ...) over jax transformations like `jax.grad`"
   ]
  },
  {
   "attachments": {},
   "cell_type": "markdown",
   "id": "f7e23ce7",
   "metadata": {},
   "source": [
    "## `jax` and inexact data types\n",
    "`jax` transformations like `jax.grad` can handle  pytrees of inexact data types ( `float`, `complex`, `array` of `float`/`complex`). any other input type will lead to type error, the following example shows this."
   ]
  },
  {
   "cell_type": "code",
   "execution_count": 1,
   "id": "8a352354",
   "metadata": {},
   "outputs": [
    {
     "name": "stdout",
     "output_type": "stream",
     "text": [
      "grad requires real- or complex-valued inputs (input dtype that is a sub-dtype of np.inexact), but got int32. If you want to use Boolean- or integer-valued inputs, use vjp or set allow_int to True.\n"
     ]
    }
   ],
   "source": [
    "import jax\n",
    "\n",
    "\n",
    "@jax.grad\n",
    "def identity_grad(x):\n",
    "    # x can be any pyt\n",
    "    return sum(x)\n",
    "\n",
    "\n",
    "# valid input\n",
    "identity_grad([1.0, 1.0])\n",
    "\n",
    "# invalid input (not in-exact)\n",
    "try:\n",
    "    identity_grad([1])\n",
    "except TypeError as e:\n",
    "    print(e)"
   ]
  },
  {
   "attachments": {},
   "cell_type": "markdown",
   "id": "53c6e40c",
   "metadata": {},
   "source": [
    "## Using `tree_mask`"
   ]
  },
  {
   "attachments": {},
   "cell_type": "markdown",
   "id": "943fab1b",
   "metadata": {},
   "source": [
    "* However, in cases when you function needs to pass non-inexact data type, we can mask the non-inexact typed leaves with a frozen wrapper through `pytreeclass.tree_mask`. Masked leaves are wrapped with a wrapper that yields no leaves when interacting with jax transformations.\n",
    "\n",
    "* Masking with `tree_mask` is equivalent to applying `freeze` to the masked leaves.\n",
    "```python\n",
    "    >>> import pytreeclass as pytc\n",
    "    >>> import jax\n",
    "    >>> tree = [1, 2, {\"a\": 3, \"b\": 4.}]\n",
    "    >>> # mask all non-differentiable nodes by default\n",
    "    >>> def mask_if_nondiff(x):\n",
    "    ...     return pytc.freeze(x) if pytc.is_nondiff(x) else x\n",
    "    >>> masked_tree = jax.tree_map(mask_if_nondiff, tree)\n",
    "```"
   ]
  },
  {
   "cell_type": "code",
   "execution_count": 2,
   "id": "4cd700cb",
   "metadata": {},
   "outputs": [
    {
     "name": "stdout",
     "output_type": "stream",
     "text": [
      "#1\n",
      "<class 'pytreeclass._src.tree_mask._FrozenHashable'>\n"
     ]
    }
   ],
   "source": [
    "import pytreeclass as pytc\n",
    "\n",
    "# 1 is an int of non-inexact type\n",
    "# thus when `tree_mask` is applied it will wrap it\n",
    "# with a frozen wrapper and this wrapper will be indicated\n",
    "# in the object repr/str with a `#` prefix\n",
    "print(pytc.tree_mask(1))\n",
    "\n",
    "# the type of the wrapped object is `Frozen` type variant\n",
    "# frozen types yields no leaves when flattened by jax internals\n",
    "# thus excluding them from jax transformations\n",
    "print(type(pytc.tree_mask(1)))"
   ]
  },
  {
   "cell_type": "code",
   "execution_count": 3,
   "id": "814358ed",
   "metadata": {},
   "outputs": [
    {
     "name": "stdout",
     "output_type": "stream",
     "text": [
      "grad requires real- or complex-valued inputs (input dtype that is a sub-dtype of np.inexact), but got int32. If you want to use Boolean- or integer-valued inputs, use vjp or set allow_int to True.\n"
     ]
    },
    {
     "data": {
      "text/plain": [
       "[#1, Array(0., dtype=float32, weak_type=True)]"
      ]
     },
     "execution_count": 3,
     "metadata": {},
     "output_type": "execute_result"
    }
   ],
   "source": [
    "import pytreeclass as pytc\n",
    "\n",
    "\n",
    "@jax.grad\n",
    "def identity_grad(x):\n",
    "    return 1.0\n",
    "\n",
    "\n",
    "try:\n",
    "    # this will fail\n",
    "    identity_grad([1, 1.0])\n",
    "except TypeError as e:\n",
    "    print(e)\n",
    "\n",
    "# this will work because the tree_mask will\n",
    "# wrap the non-inexact type (int)\n",
    "identity_grad([pytc.tree_mask(1), 1.0])"
   ]
  },
  {
   "attachments": {},
   "cell_type": "markdown",
   "id": "e1e7f11a",
   "metadata": {},
   "source": [
    "Notice that using `pytc.tree_mask` we were able to pass non-inexact type to `jax` transformation without `jax` complaining.\n",
    "however, inside the function we need to unmask this value if we want to use it, if do not need to use the value , we dont need to worry about unfreezing it. the following example shows that."
   ]
  },
  {
   "cell_type": "code",
   "execution_count": 4,
   "id": "28e14678",
   "metadata": {},
   "outputs": [
    {
     "name": "stdout",
     "output_type": "stream",
     "text": [
      "[#1, Array(2., dtype=float32, weak_type=True)]\n"
     ]
    }
   ],
   "source": [
    "import pytreeclass as pytc\n",
    "\n",
    "\n",
    "@jax.grad\n",
    "def identity_grad(x):\n",
    "    # this function does not use the frozen value\n",
    "    return x[1] ** 2\n",
    "\n",
    "\n",
    "print(identity_grad([pytc.tree_mask(1), 1.0]))"
   ]
  },
  {
   "attachments": {},
   "cell_type": "markdown",
   "id": "724028ca",
   "metadata": {},
   "source": [
    "However, if we need to pass non-inexact value to the function to use inside the function we need to freeze it before passing it to the function, and unfreeze it inside the function. The next example explain this concept"
   ]
  },
  {
   "cell_type": "code",
   "execution_count": 5,
   "id": "1d86c889",
   "metadata": {},
   "outputs": [
    {
     "name": "stdout",
     "output_type": "stream",
     "text": [
      "[#1, Array(2., dtype=float32, weak_type=True)]\n"
     ]
    }
   ],
   "source": [
    "import pytreeclass as pytc\n",
    "\n",
    "\n",
    "@jax.grad\n",
    "def func(x):\n",
    "    # this function uses the non-inexact and inexact values\n",
    "    # the non-inexact value is frozen so we need to unfreeze it\n",
    "    x = pytc.tree_unmask(x)\n",
    "    return x[0] ** 2 + x[1] ** 2\n",
    "\n",
    "\n",
    "print(func([pytc.tree_mask(1), 1.0]))"
   ]
  },
  {
   "attachments": {},
   "cell_type": "markdown",
   "id": "3dd28bb7",
   "metadata": {},
   "source": [
    "The result of previous cell reveals something interesting, we know that $\\frac{d}{dx} x^2 = 2x$, however this derivative is only evaluated for the inexact value of type `float` and returned the result as `Array(2.)`, but for the value of type `int` which was frozen on input, it has not changed. this is working as intended, in fact we can use this mechanism not only to pass invalid types to `jax` transformation without raising an error, but we can use this scheme to prevent values from being updated/take derivative with respect to. the following example shows this:"
   ]
  },
  {
   "cell_type": "code",
   "execution_count": 6,
   "id": "6258ac11",
   "metadata": {},
   "outputs": [
    {
     "name": "stdout",
     "output_type": "stream",
     "text": [
      "#1.0\n",
      "#1.0\n"
     ]
    }
   ],
   "source": [
    "import pytreeclass as pytc\n",
    "import jax\n",
    "\n",
    "\n",
    "@jax.grad\n",
    "def func(x):\n",
    "    x = pytc.tree_unmask(x)\n",
    "    return x**2\n",
    "\n",
    "\n",
    "# using `tree_mask` with a mask that always returns `True`\n",
    "# to select all leaves\n",
    "print(func(pytc.tree_mask(1.0, mask=lambda _: True)))\n",
    "\n",
    "# or using `pytc.freeze` to apply frozen wrapper directly\n",
    "print(func(pytc.freeze(1.0)))"
   ]
  },
  {
   "attachments": {},
   "cell_type": "markdown",
   "id": "db262825",
   "metadata": {},
   "source": [
    "Another example to mask values with a frozen wrapper by `pytc.freeze`"
   ]
  },
  {
   "cell_type": "code",
   "execution_count": 7,
   "id": "a5ae36f1",
   "metadata": {},
   "outputs": [
    {
     "name": "stdout",
     "output_type": "stream",
     "text": [
      "[#1.0, Array(1., dtype=float32, weak_type=True)]\n",
      "[Array(1., dtype=float32, weak_type=True), #1.0]\n",
      "[#1.0, #1.0]\n",
      "[Array(1., dtype=float32, weak_type=True), Array(1., dtype=float32, weak_type=True)]\n"
     ]
    }
   ],
   "source": [
    "import pytreeclass as pytc\n",
    "import jax\n",
    "\n",
    "\n",
    "@jax.grad\n",
    "def sum_grad(x):\n",
    "    # unfreeze the input in case any of the values are frozen\n",
    "    # this is not necessary if you know the input is not frozen\n",
    "    x = pytc.tree_unmask(x)\n",
    "    return sum(x)\n",
    "\n",
    "\n",
    "print(sum_grad([pytc.freeze(1.0), 1.0]))\n",
    "print(sum_grad([1.0, pytc.freeze(1.0)]))\n",
    "print(sum_grad([pytc.freeze(1.0), pytc.freeze(1.0)]))\n",
    "print(sum_grad([1.0, 1.0]))"
   ]
  },
  {
   "attachments": {},
   "cell_type": "markdown",
   "id": "5b205394",
   "metadata": {},
   "source": [
    "Using the previous scheme , you can achieve a low-overhead training when using `jax` and `PyTreeClass`"
   ]
  },
  {
   "attachments": {},
   "cell_type": "markdown",
   "id": "c4f52e04",
   "metadata": {},
   "source": [
    "## Using `tree_mask` with a mask recipes\n",
    "The following examples shows how to effictively using `tree_mask` and `TreeClass` instances to freeze certain values."
   ]
  },
  {
   "cell_type": "code",
   "execution_count": 8,
   "id": "6a298725",
   "metadata": {},
   "outputs": [
    {
     "data": {
      "text/plain": [
       "Tree(a=1, b=2.0, c=f32[3](μ=4.00, σ=0.82, ∈[3.00,5.00]))"
      ]
     },
     "execution_count": 8,
     "metadata": {},
     "output_type": "execute_result"
    }
   ],
   "source": [
    "from __future__ import annotations\n",
    "import jax\n",
    "import jax.tree_util as jtu\n",
    "import jax.numpy as jnp\n",
    "import pytreeclass as pytc\n",
    "\n",
    "\n",
    "@pytc.autoinit\n",
    "class Tree(pytc.TreeClass):\n",
    "    a: int = 1\n",
    "    b: float = 2.0\n",
    "    c: jax.Array = jnp.array([3.0, 4.0, 5.0])\n",
    "\n",
    "\n",
    "tree = Tree()\n",
    "tree"
   ]
  },
  {
   "attachments": {},
   "cell_type": "markdown",
   "id": "daec42e0",
   "metadata": {},
   "source": [
    "### Freeze leaves by specifying a mask"
   ]
  },
  {
   "cell_type": "code",
   "execution_count": 9,
   "id": "745f529c",
   "metadata": {},
   "outputs": [
    {
     "name": "stdout",
     "output_type": "stream",
     "text": [
      "Tree(a=#1, b=2.0, c=[3. 4. 5.])\n",
      "[2.0, Array([3., 4., 5.], dtype=float32)]\n",
      "Tree(a=#1, b=102.0, c=[103. 104. 105.])\n",
      "Tree(a=1, b=2.0, c=[3. 4. 5.])\n"
     ]
    }
   ],
   "source": [
    "# lets freeze all int values\n",
    "mask = jtu.tree_map(lambda x: isinstance(x, int), tree)\n",
    "frozen_tree = pytc.tree_mask(tree, mask)\n",
    "print(frozen_tree)\n",
    "# Tree(a=#1, b=2.0, c=[3. 4. 5.])\n",
    "\n",
    "# frozen value are excluded from `tree_leaves`\n",
    "print(jtu.tree_leaves(frozen_tree))\n",
    "# [2.0, Array([3., 4., 5.], dtype=float32)]\n",
    "\n",
    "# `a` does not get updated by `tree_map`\n",
    "print(jtu.tree_map(lambda x: x + 100, frozen_tree))\n",
    "# Tree(a=#1, b=102.0, c=[103. 104. 105.])\n",
    "\n",
    "# unfreeze by a mask\n",
    "unfrozen_tree = pytc.tree_unmask(frozen_tree)\n",
    "print(unfrozen_tree)\n",
    "# Tree(a=1, b=2.0, c=[3. 4. 5.])"
   ]
  },
  {
   "attachments": {},
   "cell_type": "markdown",
   "id": "b3a09b75",
   "metadata": {},
   "source": [
    "### Freeze leaves by specifying the leaf name\n",
    "\n",
    "Since `tree_mask` applies `freeze` using `tree_map`, in case of applying on single leaf, we can just use `freeze` directly."
   ]
  },
  {
   "cell_type": "code",
   "execution_count": 10,
   "id": "ebd36ca6",
   "metadata": {},
   "outputs": [
    {
     "name": "stdout",
     "output_type": "stream",
     "text": [
      "Tree(a=#1, b=2.0, c=[3. 4. 5.])\n",
      "[2.0, Array([3., 4., 5.], dtype=float32)]\n",
      "Tree(a=#1, b=102.0, c=[103. 104. 105.])\n",
      "Tree(a=1, b=2.0, c=[3. 4. 5.])\n"
     ]
    }
   ],
   "source": [
    "frozen_tree = tree.at[\"a\"].apply(pytc.freeze)\n",
    "print(frozen_tree)  # `a` has a prefix `#`\n",
    "# Tree(a=#1, b=2.0, c=[3. 4. 5.])\n",
    "\n",
    "# frozen value are excluded from `tree_leaves`\n",
    "print(jtu.tree_leaves(frozen_tree))\n",
    "# [2.0, Array([3., 4., 5.], dtype=float32)]\n",
    "\n",
    "# `a` does not get updated by `tree_map`\n",
    "print(jtu.tree_map(lambda x: x + 100, frozen_tree))\n",
    "# Tree(a=#1, b=102.0, c=[103. 104. 105.])\n",
    "\n",
    "# unfreeze `a`\n",
    "unfrozen_tree = pytc.tree_unmask(frozen_tree)\n",
    "print(unfrozen_tree)\n",
    "# Tree(a=1, b=2.0, c=[3. 4. 5.])"
   ]
  },
  {
   "attachments": {},
   "cell_type": "markdown",
   "id": "2ec5f705",
   "metadata": {},
   "source": [
    "## Dealing with buffers\n",
    "\n",
    "The following shows how to deal with buffer arrays in two ways:\n",
    "1) Using `jax.lax.stop_gradient`.\n",
    "2) Using frozen wrapper."
   ]
  },
  {
   "attachments": {},
   "cell_type": "markdown",
   "id": "e5c8a4f0",
   "metadata": {},
   "source": [
    "### Using `jax.lax.stop_gradient`\n",
    "\n",
    "Operationally stop_gradient is the identity function, that is, it returns argument x unchanged. However, stop_gradient prevents the flow of gradients during forward or reverse-mode automatic differentiation. If there are multiple nested gradient computations, stop_gradient stops gradients for all of them. from [jax docs](https://jax.readthedocs.io/en/latest/_autosummary/jax.lax.stop_gradient.html)"
   ]
  },
  {
   "cell_type": "code",
   "execution_count": 11,
   "id": "1b2bd475",
   "metadata": {},
   "outputs": [
    {
     "name": "stdout",
     "output_type": "stream",
     "text": [
      "3.61 µs ± 138 ns per loop (mean ± std. dev. of 7 runs, 100,000 loops each)\n",
      "1.06 ms ± 356 µs per loop (mean ± std. dev. of 7 runs, 1,000 loops each)\n"
     ]
    }
   ],
   "source": [
    "import pytreeclass as pytc\n",
    "import jax\n",
    "import jax.numpy as jnp\n",
    "\n",
    "\n",
    "# using jax.lax.stop_gradient\n",
    "@pytc.autoinit\n",
    "class Tree(pytc.TreeClass):\n",
    "    buffer: jax.Array\n",
    "\n",
    "    def __call__(self, x):\n",
    "        return jax.lax.stop_gradient(self.buffer) + x\n",
    "\n",
    "\n",
    "@jax.jit\n",
    "def func(t: Tree, x):\n",
    "    return t(x).sum()\n",
    "\n",
    "\n",
    "x = jnp.array([1.0, 2.0, 3.0])\n",
    "t = Tree(buffer=jnp.array([1.0, 2, 3]))\n",
    "\n",
    "%timeit func(t, x)\n",
    "%timeit jax.grad(func)(t, x)"
   ]
  },
  {
   "attachments": {},
   "cell_type": "markdown",
   "id": "1dcbce2d",
   "metadata": {},
   "source": [
    "### Using frozen wrapper"
   ]
  },
  {
   "cell_type": "code",
   "execution_count": 12,
   "id": "74552ecd",
   "metadata": {},
   "outputs": [
    {
     "name": "stdout",
     "output_type": "stream",
     "text": [
      "3.58 µs ± 290 ns per loop (mean ± std. dev. of 7 runs, 100,000 loops each)\n",
      "341 µs ± 52.1 µs per loop (mean ± std. dev. of 7 runs, 1,000 loops each)\n"
     ]
    }
   ],
   "source": [
    "import pytreeclass as pytc\n",
    "import jax\n",
    "import jax.numpy as jnp\n",
    "\n",
    "\n",
    "@pytc.autoinit\n",
    "class Tree(pytc.TreeClass):\n",
    "    buffer: jax.Array\n",
    "\n",
    "    def __call__(self, x):\n",
    "        return self.buffer + x\n",
    "\n",
    "\n",
    "@jax.jit\n",
    "def func(t: Tree, x: jax.Array):\n",
    "    t = pytc.tree_unmask(t)  # unmask the frozen leaves\n",
    "    return t(x).sum()\n",
    "\n",
    "\n",
    "x = jnp.array([1.0, 2.0, 3.0])\n",
    "t = Tree(buffer=pytc.freeze(jnp.array([1.0, 2, 3])))\n",
    "\n",
    "%timeit func(t, x)\n",
    "%timeit jax.grad(func)(t, x)"
   ]
  }
 ],
 "metadata": {
  "kernelspec": {
   "display_name": "dev-jax",
   "language": "python",
   "name": "python3"
  },
  "language_info": {
   "codemirror_mode": {
    "name": "ipython",
    "version": 3
   },
   "file_extension": ".py",
   "mimetype": "text/x-python",
   "name": "python",
   "nbconvert_exporter": "python",
   "pygments_lexer": "ipython3",
   "version": "3.10.0"
  }
 },
 "nbformat": 4,
 "nbformat_minor": 5
}
