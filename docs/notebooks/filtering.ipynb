{
 "cells": [
  {
   "cell_type": "markdown",
   "metadata": {},
   "source": [
    "# 👆 Filtering PyTrees"
   ]
  },
  {
   "cell_type": "markdown",
   "metadata": {},
   "source": [
    "`PyTreeClass` offers four means of filtering through the `.at[]` property:\n",
    "\n",
    "- Filter by value\n",
    "- Filter by field name\n",
    "- Filter by field type\n",
    "- Filter by field metadata."
   ]
  },
  {
   "cell_type": "markdown",
   "metadata": {},
   "source": [
    "To enable filterning/masking, `PyTreeClass` uses `tree_map` to broadcast standard mathematical operations to be applied on `PyTrees`. \n",
    "For example:"
   ]
  },
  {
   "cell_type": "code",
   "execution_count": 1,
   "metadata": {},
   "outputs": [
    {
     "name": "stdout",
     "output_type": "stream",
     "text": [
      "Test(a=2,b=[2 3 4])\n",
      "Test(a=2,b=[2 4 6])\n",
      "Test(a=False,b=[False  True  True])\n"
     ]
    }
   ],
   "source": [
    "import jax.numpy as jnp \n",
    "import pytreeclass as pytc \n",
    "\n",
    "@pytc.treeclass\n",
    "class Test:\n",
    "    a: int = 1\n",
    "    b: jnp.ndarray = jnp.array([1, 2, 3])\n",
    "\n",
    "t = Test()\n",
    "\n",
    "print(t+1)  # Test(a=2,b=[2 3 4])\n",
    "print(t+t)  # Test(a=2,b=[2 4 6])\n",
    "print(t>1)  # Test(a=False,b=[False  True  True])"
   ]
  },
  {
   "cell_type": "markdown",
   "metadata": {},
   "source": [
    "Full operations implemented are :\n",
    "```python\n",
    "__abs__ \n",
    "__add__ \n",
    "__radd__ \n",
    "__and__ \n",
    "__rand__ \n",
    "__eq__ \n",
    "__floordiv__ \n",
    "__ge__\n",
    "__gt__\n",
    "__inv__ \n",
    "__invert__ \n",
    "__le__\n",
    "__lshift__ \n",
    "__lt__\n",
    "__matmul__ \n",
    "__mod__ \n",
    "__mul__ \n",
    "__rmul__ \n",
    "__ne__ \n",
    "__neg__ \n",
    "__not__\n",
    "__or__ \n",
    "__pos__ \n",
    "__pow__ \n",
    "__rshift__ \n",
    "__sub__ \n",
    "__rsub__ \n",
    "__truediv__ \n",
    "__xor__ \n",
    "```"
   ]
  },
  {
   "cell_type": "markdown",
   "metadata": {},
   "source": [
    "Continuing with an example that demonstrates the usage the filtering. Suppose you have the following (Multilayer perceptron) MLP class. \n",
    "\n",
    "Let's use `dataclasses.field` metadata property, to give some meaning to each field. In our case we simply describe `l1` as the initial layer, and `l2` position as head layer. It's totally up to you to define a `dict` to give a meaning to your field."
   ]
  },
  {
   "cell_type": "code",
   "execution_count": 2,
   "metadata": {},
   "outputs": [],
   "source": [
    "import jax\n",
    "from jax import numpy as jnp\n",
    "import pytreeclass as pytc\n",
    "import matplotlib.pyplot as plt\n",
    "from dataclasses import  field \n",
    "\n",
    "@pytc.treeclass\n",
    "class Linear :\n",
    "   weight : jnp.ndarray\n",
    "   bias   : jnp.ndarray\n",
    "\n",
    "   def __init__(self,key,in_dim,out_dim):\n",
    "       self.weight = jax.random.normal(key,shape=(in_dim, out_dim)) * jnp.sqrt(2/in_dim)\n",
    "       self.bias = jnp.ones((1,out_dim))\n",
    "\n",
    "   def __call__(self,x):\n",
    "       return x @ self.weight + self.bias\n",
    "\n",
    "@pytc.treeclass\n",
    "class StackedLinear:\n",
    "    l1 : Linear = field(metadata={\"description\": \"initial\"})\n",
    "    l2 : Linear = field(metadata={\"position\": \"head\"})\n",
    "\n",
    "    def __init__(self,key,in_dim,out_dim,hidden_dim):\n",
    "        keys= jax.random.split(key,3)\n",
    "\n",
    "        self.l1 = Linear(key=keys[0],in_dim=in_dim,out_dim=hidden_dim)\n",
    "        self.l2 = Linear(key=keys[2],in_dim=hidden_dim,out_dim=out_dim)\n",
    "\n",
    "    def __call__(self,x):\n",
    "        x = self.l1(x)\n",
    "        x = jax.nn.tanh(x)\n",
    "        x = self.l2(x)\n",
    "\n",
    "        return x\n",
    "        \n",
    "model = StackedLinear(in_dim=1,out_dim=1,hidden_dim=5,key=jax.random.PRNGKey(0))"
   ]
  },
  {
   "cell_type": "markdown",
   "metadata": {},
   "source": [
    "Let's see the model raw values before doing any filtering. For this let's use the pretty printing `__str__` of the model."
   ]
  },
  {
   "cell_type": "code",
   "execution_count": 3,
   "metadata": {},
   "outputs": [
    {
     "name": "stdout",
     "output_type": "stream",
     "text": [
      "StackedLinear(\n",
      "  l1=Linear(\n",
      "    weight=[[-1.6248673  -2.8383057   1.3969219   1.3169124  -0.40784812]],\n",
      "    bias=[[1. 1. 1. 1. 1.]]\n",
      "  ),\n",
      "  l2=Linear(\n",
      "    weight=\n",
      "      [[ 0.98507565]\n",
      "       [ 0.99815285]\n",
      "       [-1.0687716 ]\n",
      "       [-0.19255024]\n",
      "       [-1.2108876 ]],\n",
      "    bias=[[1.]]\n",
      "  )\n",
      ")\n"
     ]
    }
   ],
   "source": [
    "print(model)"
   ]
  },
  {
   "cell_type": "markdown",
   "metadata": {},
   "source": [
    "## Boolean filtering"
   ]
  },
  {
   "cell_type": "markdown",
   "metadata": {},
   "source": [
    "### Filter by Value\n",
    "Now, suppose we need to filter out all negative values, in `numpy` we can do something like this `array[array<0]`. `PyTreeClass` builds on this familiar idea and does exactly the same with the functional `.at` property (i.e. returns a new filtered copy of the model)"
   ]
  },
  {
   "cell_type": "markdown",
   "metadata": {},
   "source": [
    "* Get all negative values"
   ]
  },
  {
   "cell_type": "code",
   "execution_count": 4,
   "metadata": {},
   "outputs": [
    {
     "name": "stdout",
     "output_type": "stream",
     "text": [
      "StackedLinear(\n",
      "  l1=Linear(\n",
      "    weight=[-1.6248673  -2.8383057  -0.40784812],\n",
      "    bias=[]\n",
      "  ),\n",
      "  l2=Linear(\n",
      "    weight=[-1.0687716  -0.19255024 -1.2108876 ],\n",
      "    bias=[]\n",
      "  )\n",
      ")\n"
     ]
    }
   ],
   "source": [
    "print(model.at[model<0].get())"
   ]
  },
  {
   "cell_type": "markdown",
   "metadata": {},
   "source": [
    "* Set negative values to 0"
   ]
  },
  {
   "cell_type": "code",
   "execution_count": 5,
   "metadata": {},
   "outputs": [
    {
     "name": "stdout",
     "output_type": "stream",
     "text": [
      "StackedLinear(\n",
      "  l1=Linear(\n",
      "    weight=[[0.        0.        1.3969219 1.3169124 0.       ]],\n",
      "    bias=[[1. 1. 1. 1. 1.]]\n",
      "  ),\n",
      "  l2=Linear(\n",
      "    weight=\n",
      "      [[0.98507565]\n",
      "       [0.99815285]\n",
      "       [0.        ]\n",
      "       [0.        ]\n",
      "       [0.        ]],\n",
      "    bias=[[1.]]\n",
      "  )\n",
      ")\n"
     ]
    }
   ],
   "source": [
    "print(model.at[model<0].set(0))"
   ]
  },
  {
   "cell_type": "markdown",
   "metadata": {},
   "source": [
    "* Apply f(x)=x^2 to negative values"
   ]
  },
  {
   "cell_type": "code",
   "execution_count": 6,
   "metadata": {},
   "outputs": [
    {
     "name": "stdout",
     "output_type": "stream",
     "text": [
      "StackedLinear(\n",
      "  l1=Linear(\n",
      "    weight=[[2.6401937  8.05598    1.3969219  1.3169124  0.16634008]],\n",
      "    bias=[[1. 1. 1. 1. 1.]]\n",
      "  ),\n",
      "  l2=Linear(\n",
      "    weight=\n",
      "      [[0.98507565]\n",
      "       [0.99815285]\n",
      "       [1.1422727 ]\n",
      "       [0.03707559]\n",
      "       [1.4662486 ]],\n",
      "    bias=[[1.]]\n",
      "  )\n",
      ")\n"
     ]
    }
   ],
   "source": [
    "print(model.at[model<0].apply(lambda x:x**2))"
   ]
  },
  {
   "cell_type": "markdown",
   "metadata": {},
   "source": [
    "* Sum all negative values\n",
    "\n",
    "Here, we use `reduce` function with function arguments corresponds to accumulated,current value. "
   ]
  },
  {
   "cell_type": "code",
   "execution_count": 7,
   "metadata": {},
   "outputs": [
    {
     "name": "stdout",
     "output_type": "stream",
     "text": [
      "-7.3432307\n"
     ]
    }
   ],
   "source": [
    "print(model.at[model<0].reduce(lambda acc,cur: acc+jnp.sum(cur)))"
   ]
  },
  {
   "cell_type": "markdown",
   "metadata": {},
   "source": [
    "### Filter by field name\n",
    "\n",
    "In scenarior where nested layers with same name exists, it might be helpful to select a layer by it's name. However, filterning by name become more powerful when combined with other masks.\n",
    "\n",
    "Let's first see how can we use `.at[].{get,set,apply,reduce}` with string filtering"
   ]
  },
  {
   "cell_type": "markdown",
   "metadata": {},
   "source": [
    "* Get all fields named l1"
   ]
  },
  {
   "cell_type": "code",
   "execution_count": 8,
   "metadata": {},
   "outputs": [
    {
     "name": "stdout",
     "output_type": "stream",
     "text": [
      "StackedLinear(\n",
      "  l1=Linear(\n",
      "    weight=[-1.6248673  -2.8383057   1.3969219   1.3169124  -0.40784812],\n",
      "    bias=[1. 1. 1. 1. 1.]\n",
      "  ),\n",
      "  l2=Linear(weight=[],bias=[])\n",
      ")\n"
     ]
    }
   ],
   "source": [
    "print(model.at[model == \"l1\"].get())"
   ]
  },
  {
   "cell_type": "markdown",
   "metadata": {},
   "source": [
    "Its noted that If entire array does not satisfy a condition, an empty array is returned.\n",
    "Similarly we can filter by field type and field metadata as the following."
   ]
  },
  {
   "cell_type": "markdown",
   "metadata": {},
   "source": [
    "### Filter by field type\n",
    "\n",
    "* Get all fields of Linear type"
   ]
  },
  {
   "cell_type": "code",
   "execution_count": 9,
   "metadata": {},
   "outputs": [
    {
     "name": "stdout",
     "output_type": "stream",
     "text": [
      "StackedLinear(\n",
      "  l1=Linear(\n",
      "    weight=[-1.6248673  -2.8383057   1.3969219   1.3169124  -0.40784812],\n",
      "    bias=[1. 1. 1. 1. 1.]\n",
      "  ),\n",
      "  l2=Linear(\n",
      "    weight=[ 0.98507565  0.99815285 -1.0687716  -0.19255024 -1.2108876 ],\n",
      "    bias=[1.]\n",
      "  )\n",
      ")\n"
     ]
    }
   ],
   "source": [
    "print(model.at[model == Linear].get())"
   ]
  },
  {
   "cell_type": "markdown",
   "metadata": {},
   "source": [
    "### Filter by field metadata\n",
    "\n",
    "* Get all fields of with {\"description\": \"First layer\"} in their metadata"
   ]
  },
  {
   "cell_type": "code",
   "execution_count": 10,
   "metadata": {},
   "outputs": [
    {
     "name": "stdout",
     "output_type": "stream",
     "text": [
      "StackedLinear(l1=Linear(weight=[],bias=[]),l2=Linear(weight=[],bias=[]))\n"
     ]
    }
   ],
   "source": [
    "print(model.at[model == {\"description\": \"First layer\"}].get())"
   ]
  }
 ],
 "metadata": {
  "kernelspec": {
   "display_name": "Python 3.10.5 ('dev-jax15')",
   "language": "python",
   "name": "python3"
  },
  "language_info": {
   "codemirror_mode": {
    "name": "ipython",
    "version": 3
   },
   "file_extension": ".py",
   "mimetype": "text/x-python",
   "name": "python",
   "nbconvert_exporter": "python",
   "pygments_lexer": "ipython3",
   "version": "3.10.5"
  },
  "orig_nbformat": 4,
  "vscode": {
   "interpreter": {
    "hash": "2499512ed2537f1f7868337b11978106d2ebb2fc6ab5814ee177db416ca4ea91"
   }
  }
 },
 "nbformat": 4,
 "nbformat_minor": 2
}
