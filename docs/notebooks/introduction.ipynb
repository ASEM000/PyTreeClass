{
  "cells": [
    {
      "cell_type": "markdown",
      "metadata": {
        "id": "view-in-github",
        "colab_type": "text"
      },
      "source": [
        "<a href=\"https://colab.research.google.com/github/ASEM000/pytreeclass/blob/docs/docs/notebooks/introduction.ipynb\" target=\"_parent\"><img src=\"https://colab.research.google.com/assets/colab-badge.svg\" alt=\"Open In Colab\"/></a>"
      ]
    },
    {
      "cell_type": "markdown",
      "metadata": {
        "id": "Ew3nSYttkCl7"
      },
      "source": [
        "# Intoduction"
      ]
    },
    {
      "cell_type": "code",
      "execution_count": null,
      "metadata": {
        "id": "Xtld6xbUP2re"
      },
      "outputs": [],
      "source": [
        "!pip install pytreeclass"
      ]
    },
    {
      "cell_type": "markdown",
      "metadata": {
        "id": "oYvVQ8wURk86"
      },
      "source": [
        "## ⏩ Quick Example <a id=\"QuickExample\">"
      ]
    },
    {
      "cell_type": "markdown",
      "metadata": {
        "id": "xkFkd60URvvn"
      },
      "source": [
        "### 🏗️ Create simple MLP"
      ]
    },
    {
      "cell_type": "code",
      "execution_count": null,
      "metadata": {
        "colab": {
          "base_uri": "https://localhost:8080/"
        },
        "id": "EL_32GJaRgub",
        "outputId": "68e30e10-f16a-484b-971e-659598e9900f"
      },
      "outputs": [
        {
          "name": "stderr",
          "output_type": "stream",
          "text": [
            "WARNING:absl:No GPU/TPU found, falling back to CPU. (Set TF_CPP_MIN_LOG_LEVEL=0 and rerun for more info.)\n"
          ]
        }
      ],
      "source": [
        "import jax\n",
        "from jax import numpy as jnp\n",
        "from pytreeclass import treeclass,tree_viz\n",
        "import matplotlib.pyplot as plt\n",
        "\n",
        "@treeclass\n",
        "class Linear :\n",
        "   # Any variable not wrapped with @treeclass\n",
        "   # should be declared as a dataclass field here\n",
        "   weight : jnp.ndarray\n",
        "   bias   : jnp.ndarray\n",
        "\n",
        "   def __init__(self,key,in_dim,out_dim):\n",
        "       self.weight = jax.random.normal(key,shape=(in_dim, out_dim)) * jnp.sqrt(2/in_dim)\n",
        "       self.bias = jnp.ones((1,out_dim))\n",
        "\n",
        "   def __call__(self,x):\n",
        "       return x @ self.weight + self.bias\n",
        "\n",
        "@treeclass\n",
        "class StackedLinear:\n",
        "\n",
        "    def __init__(self,key,in_dim,out_dim,hidden_dim):\n",
        "        keys= jax.random.split(key,3)\n",
        "\n",
        "        # Declaring l1,l2,l3 as dataclass_fields is optional\n",
        "        # as they are already wrapped with @treeclass\n",
        "        self.l1 = Linear(key=keys[0],in_dim=in_dim,out_dim=hidden_dim)\n",
        "        self.l2 = Linear(key=keys[1],in_dim=hidden_dim,out_dim=hidden_dim)\n",
        "        self.l3 = Linear(key=keys[2],in_dim=hidden_dim,out_dim=out_dim)\n",
        "\n",
        "    def __call__(self,x):\n",
        "        x = self.l1(x)\n",
        "        x = jax.nn.tanh(x)\n",
        "        x = self.l2(x)\n",
        "        x = jax.nn.tanh(x)\n",
        "        x = self.l3(x)\n",
        "\n",
        "        return x\n",
        "\n",
        "model = StackedLinear(in_dim=1,out_dim=1,hidden_dim=10,key=jax.random.PRNGKey(0))\n",
        "\n",
        "x = jnp.linspace(0,1,100)[:,None]\n",
        "y = x**3 + jax.random.uniform(jax.random.PRNGKey(0),(100,1))*0.01"
      ]
    },
    {
      "cell_type": "markdown",
      "metadata": {
        "id": "OrjgXH-SR-bT"
      },
      "source": [
        "### 🎨 Visualize"
      ]
    },
    {
      "cell_type": "code",
      "execution_count": null,
      "metadata": {
        "colab": {
          "base_uri": "https://localhost:8080/"
        },
        "id": "7WbZ7m9ERziB",
        "outputId": "6bf027c9-b34a-4440-ef9c-086cbd56b570"
      },
      "outputs": [
        {
          "name": "stdout",
          "output_type": "stream",
          "text": [
            "┌──────┬───────┬───────┬─────────────────┐\n",
            "│Type  │Param #│Size   │Config           │\n",
            "├──────┼───────┼───────┼─────────────────┤\n",
            "│Linear│20     │80.00B │weight=f32[1,10] │\n",
            "│      │(0)    │(0.00B)│bias=f32[1,10]   │\n",
            "├──────┼───────┼───────┼─────────────────┤\n",
            "│Linear│110    │440.00B│weight=f32[10,10]│\n",
            "│      │(0)    │(0.00B)│bias=f32[1,10]   │\n",
            "├──────┼───────┼───────┼─────────────────┤\n",
            "│Linear│11     │44.00B │weight=f32[10,1] │\n",
            "│      │(0)    │(0.00B)│bias=f32[1,1]    │\n",
            "└──────┴───────┴───────┴─────────────────┘\n",
            "Total # :\t\t141(0)\n",
            "Dynamic #:\t\t141(0)\n",
            "Static/Frozen #:\t0(0)\n",
            "------------------------------------------\n",
            "Total size :\t\t564.00B(0.00B)\n",
            "Dynamic size:\t\t564.00B(0.00B)\n",
            "Static/Frozen size:\t0.00B(0.00B)\n",
            "==========================================\n"
          ]
        }
      ],
      "source": [
        "print(tree_viz.summary(model))"
      ]
    },
    {
      "cell_type": "code",
      "execution_count": null,
      "metadata": {
        "colab": {
          "base_uri": "https://localhost:8080/"
        },
        "id": "5uCb0scHY3q8",
        "outputId": "97abfba3-17f2-466d-a82d-ecd501b70357"
      },
      "outputs": [
        {
          "name": "stdout",
          "output_type": "stream",
          "text": [
            "┌─────────────────────────────────────┐\n",
            "│StackedLinear(Parent)                │\n",
            "├─────────────────────────────────────┤\n",
            "│┌────────────┬────────┬─────────────┐│\n",
            "││            │ Input  │ f32[100,1]  ││\n",
            "││ Linear(l1) │────────┼─────────────┤│\n",
            "││            │ Output │ f32[100,10] ││\n",
            "│└────────────┴────────┴─────────────┘│\n",
            "│┌────────────┬────────┬─────────────┐│\n",
            "││            │ Input  │ f32[100,10] ││\n",
            "││ Linear(l2) │────────┼─────────────┤│\n",
            "││            │ Output │ f32[100,10] ││\n",
            "│└────────────┴────────┴─────────────┘│\n",
            "│┌────────────┬────────┬─────────────┐│\n",
            "││            │ Input  │ f32[100,10] ││\n",
            "││ Linear(l3) │────────┼─────────────┤│\n",
            "││            │ Output │ f32[100,1]  ││\n",
            "│└────────────┴────────┴─────────────┘│\n",
            "└─────────────────────────────────────┘\n"
          ]
        }
      ],
      "source": [
        "print(tree_viz.tree_box(model,array=x))"
      ]
    },
    {
      "cell_type": "code",
      "execution_count": null,
      "metadata": {
        "colab": {
          "base_uri": "https://localhost:8080/"
        },
        "id": "KvqAtrKJY4MA",
        "outputId": "17cd9afa-28d9-40b9-e0db-4b3d02351e13"
      },
      "outputs": [
        {
          "name": "stdout",
          "output_type": "stream",
          "text": [
            "StackedLinear\n",
            "    ├── l1=Linear\n",
            "    │   ├── weight=f32[1,10]\n",
            "    │   └── bias=f32[1,10]  \n",
            "    ├── l2=Linear\n",
            "    │   ├── weight=f32[10,10]\n",
            "    │   └── bias=f32[1,10]  \n",
            "    └── l3=Linear\n",
            "        ├── weight=f32[10,1]\n",
            "        └── bias=f32[1,1]       \n"
          ]
        }
      ],
      "source": [
        "print(tree_viz.tree_diagram(model))"
      ]
    },
    {
      "cell_type": "markdown",
      "metadata": {
        "id": "znMr_wk1Y-y_"
      },
      "source": [
        "### ✂️ Model surgery"
      ]
    },
    {
      "cell_type": "code",
      "execution_count": null,
      "metadata": {
        "colab": {
          "base_uri": "https://localhost:8080/"
        },
        "id": "eMXZCcL9Y_R8",
        "outputId": "b8dbb5ed-ecf1-4810-a38d-f5637915f660"
      },
      "outputs": [
        {
          "name": "stdout",
          "output_type": "stream",
          "text": [
            "StackedLinear\n",
            "    ├── l1=Linear\n",
            "    │   ├#─ weight=f32[1,10]\n",
            "    │   └#─ bias=f32[1,10]  \n",
            "    ├── l2=Linear\n",
            "    │   ├── weight=f32[10,10]\n",
            "    │   └── bias=f32[1,10]  \n",
            "    └── l3=Linear\n",
            "        ├── weight=f32[10,1]\n",
            "        └── bias=f32[1,1]       \n"
          ]
        }
      ],
      "source": [
        "# freeze l1\n",
        "model.l1 = model.l1.freeze()\n",
        "\n",
        "# set non-negative values in l2 to 0\n",
        "model.l2 = model.l2.at[model.l2<0].set(0)\n",
        "\n",
        "# frozen nodes are marked with #\n",
        "print(tree_viz.tree_diagram(model))"
      ]
    },
    {
      "cell_type": "markdown",
      "metadata": {
        "id": "SK9csSefZJtR"
      },
      "source": [
        "## 🔢 More<a id=\"More\"></a>"
      ]
    },
    {
      "cell_type": "markdown",
      "metadata": {
        "id": "5X-cH_BvZPoL"
      },
      "source": [
        "### Train from scratch"
      ]
    },
    {
      "cell_type": "code",
      "execution_count": null,
      "metadata": {
        "colab": {
          "base_uri": "https://localhost:8080/",
          "height": 283
        },
        "id": "b6fk1tASZOZj",
        "outputId": "d21932da-998b-4ade-d14c-0d88d6398e3a"
      },
      "outputs": [
        {
          "data": {
            "text/plain": [
              "<matplotlib.legend.Legend at 0x7f503ce74410>"
            ]
          },
          "execution_count": 7,
          "metadata": {},
          "output_type": "execute_result"
        },
        {
          "data": {
            "image/png": "[encoded data removed]",
            "text/plain": [
              "<Figure size 432x288 with 1 Axes>"
            ]
          },
          "metadata": {
            "needs_background": "light"
          },
          "output_type": "display_data"
        }
      ],
      "source": [
        "x = jnp.linspace(0,1,100)[:,None]\n",
        "y = x**3 + jax.random.uniform(jax.random.PRNGKey(0),(100,1))*0.01\n",
        "\n",
        "def loss_func(model,x,y):\n",
        "    return jnp.mean((model(x)-y)**2 )\n",
        "\n",
        "@jax.jit\n",
        "def update(model,x,y):\n",
        "    value,grads = jax.value_and_grad(loss_func)(model,x,y)\n",
        "    # no need to use `jax.tree_map` to update the model\n",
        "    # as it model is wrapped by @treeclass\n",
        "    return value , model-1e-3*grads\n",
        "\n",
        "for _ in range(1,20_001):\n",
        "    value,model = update(model,x,y)\n",
        "\n",
        "plt.plot(x,model(x),'--r',label = 'Prediction',linewidth=3)\n",
        "plt.plot(x,y,'--k',label='True',linewidth=3)\n",
        "plt.legend()"
      ]
    },
    {
      "cell_type": "markdown",
      "metadata": {
        "id": "hgKfsPpVZlWc"
      },
      "source": [
        "### Using out-of-place indexing `.at[].set()` and `.at[].get()` on Pytrees"
      ]
    },
    {
      "cell_type": "code",
      "execution_count": null,
      "metadata": {
        "colab": {
          "base_uri": "https://localhost:8080/"
        },
        "id": "8ZrGwLEeZmaI",
        "outputId": "ba4d03bf-93d7-4d2e-83f8-d73c49c2d3b3"
      },
      "outputs": [
        {
          "name": "stdout",
          "output_type": "stream",
          "text": [
            "Linear(\n",
            "  weight=f32[1,10],\n",
            "  bias=f32[1,10])\n",
            "Linear(\n",
            "  weight=\n",
            "    [[-2.5883024   1.6746686   0.09584322  0.48915294 -1.9607813  -0.9237381\n",
            "       0.26836365  0.6386131  -0.48031917  1.0801427 ]],\n",
            "  bias=\n",
            "    [[1. 1. 1. 1. 1. 1. 1. 1. 1. 1.]])\n"
          ]
        }
      ],
      "source": [
        "# get layer1\n",
        "layer1 = model.l1\n",
        "\n",
        "\n",
        "# layer1 repr\n",
        "print(f\"{layer1!r}\")\n",
        "\n",
        "# layer1 str\n",
        "print(f\"{layer1!s}\")"
      ]
    },
    {
      "cell_type": "code",
      "execution_count": null,
      "metadata": {
        "colab": {
          "base_uri": "https://localhost:8080/"
        },
        "id": "E0fNfxy3Zq4S",
        "outputId": "7a84500c-0f50-461a-f7f9-fd3dc8ad9d13"
      },
      "outputs": [
        {
          "name": "stdout",
          "output_type": "stream",
          "text": [
            "Linear(\n",
            "  weight=\n",
            "    [[-2.5883024   1.6746686   0.09584322  0.48915294 -1.9607813  -0.9237381\n",
            "       0.26836365  0.6386131  -0.48031917  1.0801427 ]],\n",
            "  bias=\n",
            "    [[1. 1. 1. 1. 1. 1. 1. 1. 1. 1.]])\n"
          ]
        }
      ],
      "source": [
        "# set negative values to 0\n",
        "print(layer1.at[layer1<0].set(0))"
      ]
    },
    {
      "cell_type": "code",
      "execution_count": null,
      "metadata": {
        "colab": {
          "base_uri": "https://localhost:8080/"
        },
        "id": "SigJQNaMZ20y",
        "outputId": "a5849c50-1ac0-4d43-a8c3-85f00766effc"
      },
      "outputs": [
        {
          "name": "stdout",
          "output_type": "stream",
          "text": [
            "Linear(\n",
            "  weight=\n",
            "    [[-2.5883024   1.6746686   0.09584322  0.48915294 -1.9607813  -0.9237381\n",
            "       0.26836365  0.6386131  -0.48031917  1.0801427 ]],\n",
            "  bias=\n",
            "    [[1. 1. 1. 1. 1. 1. 1. 1. 1. 1.]])\n"
          ]
        }
      ],
      "source": [
        "# get only positive values\n",
        "print(layer1.at[layer1>0].get())"
      ]
    },
    {
      "cell_type": "markdown",
      "metadata": {
        "id": "4VWA3v1mZ64Q"
      },
      "source": [
        "### Perform Math operations on Pytrees"
      ]
    },
    {
      "cell_type": "code",
      "execution_count": null,
      "metadata": {
        "colab": {
          "base_uri": "https://localhost:8080/"
        },
        "id": "owRFrdf2Z6AD",
        "outputId": "aab2fad5-13d1-4dd7-c041-42c698c2065b"
      },
      "outputs": [
        {
          "name": "stdout",
          "output_type": "stream",
          "text": [
            "Test(\n",
            "  a=\n",
            "    20,\n",
            "  b=\n",
            "    40,\n",
            "  c=\n",
            "    60,\n",
            "  name=\n",
            "    A)\n"
          ]
        }
      ],
      "source": [
        "@treeclass\n",
        "class Test :\n",
        "    a : float\n",
        "    b : float\n",
        "    c : float\n",
        "    name : str \n",
        "\n",
        "A = Test(10,20,30,'A')\n",
        "\n",
        "print((A + A))\n",
        "# print((A - A))\n",
        "# print((A*A).reduce_mean())\n",
        "# print((A + 1))"
      ]
    }
  ],
  "metadata": {
    "colab": {
      "name": "[Pytreeclass]#1.ipynb",
      "provenance": [],
      "include_colab_link": true
    },
    "kernelspec": {
      "display_name": "Python 3.8.9 64-bit",
      "language": "python",
      "name": "python3"
    },
    "language_info": {
      "name": "python",
      "version": "3.8.9"
    },
    "vscode": {
      "interpreter": {
        "hash": "31f2aee4e71d21fbe5cf8b01ff0e069b9275f58929596ceb00d14d90e3e16cd6"
      }
    }
  },
  "nbformat": 4,
  "nbformat_minor": 0
}