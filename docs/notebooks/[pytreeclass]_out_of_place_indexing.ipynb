{
  "nbformat": 4,
  "nbformat_minor": 0,
  "metadata": {
    "colab": {
      "name": "[pytreeclass] out-of-place indexing.ipynb",
      "provenance": [],
      "authorship_tag": "ABX9TyM93RKVVH218GBX49QEXqqj",
      "include_colab_link": true
    },
    "kernelspec": {
      "name": "python3",
      "display_name": "Python 3"
    },
    "language_info": {
      "name": "python"
    }
  },
  "cells": [
    {
      "cell_type": "markdown",
      "metadata": {
        "id": "view-in-github",
        "colab_type": "text"
      },
      "source": [
        "<a href=\"https://colab.research.google.com/github/ASEM000/pytreeclass/blob/main/docs/notebooks/%5Bpytreeclass%5D_out_of_place_indexing.ipynb\" target=\"_parent\"><img src=\"https://colab.research.google.com/assets/colab-badge.svg\" alt=\"Open In Colab\"/></a>"
      ]
    },
    {
      "cell_type": "markdown",
      "source": [
        "# ☝️ Out-of-place indexing"
      ],
      "metadata": {
        "id": "8R94bVAL1YCY"
      }
    },
    {
      "cell_type": "markdown",
      "source": [
        "Pytreeclass implements out-of-place indexing similar to jax.numpy array `.at` methods. "
      ],
      "metadata": {
        "id": "AdiZbUCT1tKJ"
      }
    },
    {
      "cell_type": "code",
      "execution_count": null,
      "metadata": {
        "id": "smk46JBP0Zic"
      },
      "outputs": [],
      "source": [
        "!pip install pytreeclass"
      ]
    },
    {
      "cell_type": "code",
      "source": [
        "import jax \n",
        "import jax.numpy as jnp\n",
        "from pytreeclass import treeclass , tree_viz"
      ],
      "metadata": {
        "id": "gjN0oV542YjB"
      },
      "execution_count": 2,
      "outputs": []
    },
    {
      "cell_type": "markdown",
      "source": [
        "## `.at[].get()`"
      ],
      "metadata": {
        "id": "6BmiipxD2o55"
      }
    },
    {
      "cell_type": "markdown",
      "source": [
        "Similar to `jax.numpy.array.at[].get()` , the return value is a new instance of the pytree.\n",
        "For array values , the operation is equivalent to `array[condition]`. For non-array values , the operation returns None if the get condition does not match the argument."
      ],
      "metadata": {
        "id": "ZzL-7SSBL0t5"
      }
    },
    {
      "cell_type": "markdown",
      "source": [
        "### `.at[].get()` on array leaves\n",
        "\n"
      ],
      "metadata": {
        "id": "a_NsevGBMV8M"
      }
    },
    {
      "cell_type": "code",
      "source": [
        "@treeclass\n",
        "class array_leaves:\n",
        "    a : jnp.ndarray = jnp.array([1,2,3,4,5])\n",
        "    b : jnp.ndarray = jnp.array([10,20,30,40,50])\n",
        "\n",
        "x = array_leaves()\n",
        "print(x)"
      ],
      "metadata": {
        "colab": {
          "base_uri": "https://localhost:8080/"
        },
        "id": "J_Kcj5oD1qEY",
        "outputId": "face0619-e750-45f3-a6ac-330f5582f324"
      },
      "execution_count": 3,
      "outputs": [
        {
          "output_type": "stream",
          "name": "stderr",
          "text": [
            "WARNING:absl:No GPU/TPU found, falling back to CPU. (Set TF_CPP_MIN_LOG_LEVEL=0 and rerun for more info.)\n"
          ]
        },
        {
          "output_type": "stream",
          "name": "stdout",
          "text": [
            "array_leaves(\n",
            "  a=\n",
            "    [1 2 3 4 5],\n",
            "  b=\n",
            "    [10 20 30 40 50])\n"
          ]
        }
      ]
    },
    {
      "cell_type": "code",
      "source": [
        "# get less than 20\n",
        "print(x.at[x<20].get())"
      ],
      "metadata": {
        "colab": {
          "base_uri": "https://localhost:8080/"
        },
        "id": "ykC0Ebkd3kW7",
        "outputId": "953a8497-8b30-4fd9-c403-5f9072eb51eb"
      },
      "execution_count": 4,
      "outputs": [
        {
          "output_type": "stream",
          "name": "stdout",
          "text": [
            "array_leaves(\n",
            "  a=\n",
            "    [1 2 3 4 5],\n",
            "  b=\n",
            "    [10])\n"
          ]
        }
      ]
    },
    {
      "cell_type": "code",
      "source": [
        "# get more than 20\n",
        "print(x.at[x>20].get())"
      ],
      "metadata": {
        "colab": {
          "base_uri": "https://localhost:8080/"
        },
        "id": "by9t0B2U3m4c",
        "outputId": "5d9aadff-7d58-47c3-e274-d982cbb59183"
      },
      "execution_count": 5,
      "outputs": [
        {
          "output_type": "stream",
          "name": "stdout",
          "text": [
            "array_leaves(\n",
            "  a=\n",
            "    [],\n",
            "  b=\n",
            "    [30 40 50])\n"
          ]
        }
      ]
    },
    {
      "cell_type": "markdown",
      "source": [
        "### `.at[].get()` on non-array leaves\n"
      ],
      "metadata": {
        "id": "DNINPY68MiIW"
      }
    },
    {
      "cell_type": "code",
      "source": [
        "@treeclass\n",
        "class nonarray_leaves:\n",
        "    a : int = 10 \n",
        "    b : float = 1. \n",
        "\n",
        "x = nonarray_leaves()\n",
        "print(x)"
      ],
      "metadata": {
        "colab": {
          "base_uri": "https://localhost:8080/"
        },
        "id": "wJxrXyW8Mr3U",
        "outputId": "4b63b0a3-7227-4d7f-a5dc-a06c250e9ecb"
      },
      "execution_count": 6,
      "outputs": [
        {
          "output_type": "stream",
          "name": "stdout",
          "text": [
            "nonarray_leaves(\n",
            "  a=\n",
            "    10,\n",
            "  b=\n",
            "    1.0)\n"
          ]
        }
      ]
    },
    {
      "cell_type": "code",
      "source": [
        "# get all values less than 10\n",
        "print(x.at[x<10].get())"
      ],
      "metadata": {
        "colab": {
          "base_uri": "https://localhost:8080/"
        },
        "id": "tT49F4GHMy2S",
        "outputId": "cde39c12-b409-4257-fd29-7999dde68a11"
      },
      "execution_count": 7,
      "outputs": [
        {
          "output_type": "stream",
          "name": "stdout",
          "text": [
            "nonarray_leaves(\n",
            "  a=\n",
            "    None,\n",
            "  b=\n",
            "    1.0)\n"
          ]
        }
      ]
    },
    {
      "cell_type": "markdown",
      "source": [
        "### `.at[].get()` On array and non-array leaves"
      ],
      "metadata": {
        "id": "WFs-xkaINCFe"
      }
    },
    {
      "cell_type": "code",
      "source": [
        "@treeclass\n",
        "class general_leaves:\n",
        "    a : int = 10 \n",
        "    b : float = 1. \n",
        "    c : jnp.ndarray = jnp.array([1,2,3,4,5])\n",
        "\n",
        "x = general_leaves()\n",
        "print(x)"
      ],
      "metadata": {
        "colab": {
          "base_uri": "https://localhost:8080/"
        },
        "id": "B4Xkj279NHy6",
        "outputId": "91dc007e-1bdc-4017-ac4e-ef6e3cd6b4ee"
      },
      "execution_count": 8,
      "outputs": [
        {
          "output_type": "stream",
          "name": "stdout",
          "text": [
            "general_leaves(\n",
            "  a=\n",
            "    10,\n",
            "  b=\n",
            "    1.0,\n",
            "  c=\n",
            "    [1 2 3 4 5])\n"
          ]
        }
      ]
    },
    {
      "cell_type": "code",
      "source": [
        "# `a` is set to None as its larger than 3.\n",
        "# equivalent of c[c<3] is done on  array like `c`\n",
        "print(x[x<3])"
      ],
      "metadata": {
        "colab": {
          "base_uri": "https://localhost:8080/"
        },
        "id": "ODk6vAIYNR6R",
        "outputId": "f4b29a4b-d66c-4523-a06c-544795997601"
      },
      "execution_count": 9,
      "outputs": [
        {
          "output_type": "stream",
          "name": "stdout",
          "text": [
            "general_leaves(\n",
            "  a=\n",
            "    None,\n",
            "  b=\n",
            "    1.0,\n",
            "  c=\n",
            "    [1 2])\n"
          ]
        }
      ]
    },
    {
      "cell_type": "markdown",
      "source": [
        "## `.at[].set()`"
      ],
      "metadata": {
        "id": "kci6hU32OF88"
      }
    },
    {
      "cell_type": "markdown",
      "source": [
        "Similar to `jax.numpy.array.at[].get()` , the return value is a new instance of the pytree.\n",
        "For array values , the operation is equivalent to `array[condition]`. For non-array values , the operation returns None if the get condition does not match the argument."
      ],
      "metadata": {
        "id": "L0MD7omQOF89"
      }
    },
    {
      "cell_type": "markdown",
      "source": [
        "### `.at[].set()` on array leaves\n",
        "\n"
      ],
      "metadata": {
        "id": "gKf-iFmXOF89"
      }
    },
    {
      "cell_type": "code",
      "source": [
        "@treeclass\n",
        "class array_leaves:\n",
        "    a : jnp.ndarray = jnp.array([1,2,3,4,5])\n",
        "    b : jnp.ndarray = jnp.array([10,20,30,40,50])\n",
        "\n",
        "x = array_leaves()\n",
        "print(x)"
      ],
      "metadata": {
        "colab": {
          "base_uri": "https://localhost:8080/"
        },
        "outputId": "cd09ef53-18bf-49e1-ae73-edef811afaf3",
        "id": "15iNs3XeOF8-"
      },
      "execution_count": 10,
      "outputs": [
        {
          "output_type": "stream",
          "name": "stdout",
          "text": [
            "array_leaves(\n",
            "  a=\n",
            "    [1 2 3 4 5],\n",
            "  b=\n",
            "    [10 20 30 40 50])\n"
          ]
        }
      ]
    },
    {
      "cell_type": "code",
      "source": [
        "# set less than 20 to 0\n",
        "print(x.at[x<20].set(0))"
      ],
      "metadata": {
        "colab": {
          "base_uri": "https://localhost:8080/"
        },
        "outputId": "21d097db-5b94-4e73-8835-99c43a75bb1a",
        "id": "U4b7TGMQOF8_"
      },
      "execution_count": 11,
      "outputs": [
        {
          "output_type": "stream",
          "name": "stdout",
          "text": [
            "array_leaves(\n",
            "  a=\n",
            "    [0 0 0 0 0],\n",
            "  b=\n",
            "    [ 0 20 30 40 50])\n"
          ]
        }
      ]
    },
    {
      "cell_type": "code",
      "source": [
        "# set more than 20 to 0\n",
        "print(x.at[x>20].set(0))"
      ],
      "metadata": {
        "colab": {
          "base_uri": "https://localhost:8080/"
        },
        "outputId": "17c7df66-5fa9-4710-94f0-b59792725061",
        "id": "3d3KeaOWOF8_"
      },
      "execution_count": 12,
      "outputs": [
        {
          "output_type": "stream",
          "name": "stdout",
          "text": [
            "array_leaves(\n",
            "  a=\n",
            "    [1 2 3 4 5],\n",
            "  b=\n",
            "    [10 20  0  0  0])\n"
          ]
        }
      ]
    },
    {
      "cell_type": "markdown",
      "source": [
        "### `.at[].set()` on non-array leaves\n"
      ],
      "metadata": {
        "id": "yPx5hwZYOF8_"
      }
    },
    {
      "cell_type": "code",
      "source": [
        "@treeclass\n",
        "class nonarray_leaves:\n",
        "    a : int = 10 \n",
        "    b : float = 1. \n",
        "\n",
        "x = nonarray_leaves()\n",
        "print(x)"
      ],
      "metadata": {
        "colab": {
          "base_uri": "https://localhost:8080/"
        },
        "outputId": "495e71dd-9bca-424e-868b-f336cad2e2d0",
        "id": "If5oELXMOF8_"
      },
      "execution_count": 13,
      "outputs": [
        {
          "output_type": "stream",
          "name": "stdout",
          "text": [
            "nonarray_leaves(\n",
            "  a=\n",
            "    10,\n",
            "  b=\n",
            "    1.0)\n"
          ]
        }
      ]
    },
    {
      "cell_type": "code",
      "source": [
        "# set all values less than 10 to 0\n",
        "print(x.at[x<10].set(0))"
      ],
      "metadata": {
        "colab": {
          "base_uri": "https://localhost:8080/"
        },
        "outputId": "96d09616-67a8-4a94-8539-ee1eb704067c",
        "id": "OI93pz3WOF9A"
      },
      "execution_count": 14,
      "outputs": [
        {
          "output_type": "stream",
          "name": "stdout",
          "text": [
            "nonarray_leaves(\n",
            "  a=\n",
            "    10,\n",
            "  b=\n",
            "    0)\n"
          ]
        }
      ]
    },
    {
      "cell_type": "markdown",
      "source": [
        "### `.at[].set()` On array and non-array leaves"
      ],
      "metadata": {
        "id": "yEyqb5z8OF9B"
      }
    },
    {
      "cell_type": "code",
      "source": [
        "@treeclass\n",
        "class general_leaves:\n",
        "    a : int = 10 \n",
        "    b : float = 1. \n",
        "    c : jnp.ndarray = jnp.array([1,2,3,4,5])\n",
        "\n",
        "x = general_leaves()\n",
        "print(x)"
      ],
      "metadata": {
        "colab": {
          "base_uri": "https://localhost:8080/"
        },
        "outputId": "37c39c83-8a1a-4ff9-b4f9-f4883655093e",
        "id": "5bbmgpfLOF9C"
      },
      "execution_count": 15,
      "outputs": [
        {
          "output_type": "stream",
          "name": "stdout",
          "text": [
            "general_leaves(\n",
            "  a=\n",
            "    10,\n",
            "  b=\n",
            "    1.0,\n",
            "  c=\n",
            "    [1 2 3 4 5])\n"
          ]
        }
      ]
    },
    {
      "cell_type": "code",
      "source": [
        "# `a` is untouched as its larger than 3.\n",
        "# equivalent of c.at[c<3].set(0) is done on  array like `c`\n",
        "print(x.at[x<3].set(0))"
      ],
      "metadata": {
        "colab": {
          "base_uri": "https://localhost:8080/"
        },
        "outputId": "1f7fe7bf-3063-40af-9986-d3f6c5defaec",
        "id": "4NxagmxhOF9C"
      },
      "execution_count": 16,
      "outputs": [
        {
          "output_type": "stream",
          "name": "stdout",
          "text": [
            "general_leaves(\n",
            "  a=\n",
            "    10,\n",
            "  b=\n",
            "    0,\n",
            "  c=\n",
            "    [0 0 3 4 5])\n"
          ]
        }
      ]
    }
  ]
}