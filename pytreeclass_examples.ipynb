{
  "nbformat": 4,
  "nbformat_minor": 0,
  "metadata": {
    "colab": {
      "name": "pytreeclass-examples.ipynb",
      "provenance": [],
      "collapsed_sections": [],
      "authorship_tag": "ABX9TyOnGIFU63+Bb9vsD3phj2ZM",
      "include_colab_link": true
    },
    "kernelspec": {
      "name": "python3",
      "display_name": "Python 3"
    },
    "language_info": {
      "name": "python"
    }
  },
  "cells": [
    {
      "cell_type": "markdown",
      "metadata": {
        "id": "view-in-github",
        "colab_type": "text"
      },
      "source": [
        "<a href=\"https://colab.research.google.com/github/ASEM000/pytreeclass/blob/main/pytreeclass_examples.ipynb\" target=\"_parent\"><img src=\"https://colab.research.google.com/assets/colab-badge.svg\" alt=\"Open In Colab\"/></a>"
      ]
    },
    {
      "cell_type": "code",
      "source": [
        "!pip install pytreeclass"
      ],
      "metadata": {
        "id": "8IhUB76CzCnE"
      },
      "execution_count": null,
      "outputs": []
    },
    {
      "cell_type": "code",
      "execution_count": null,
      "metadata": {
        "id": "icuAD82QYEU2"
      },
      "outputs": [],
      "source": [
        "from pytreeclass import treeclass,tree_viz,static_field \n",
        "import jax\n",
        "from jax import numpy as jnp \n",
        "import matplotlib.pyplot as plt "
      ]
    },
    {
      "cell_type": "markdown",
      "source": [
        "## Build and visualize PyTorch-like NN class in JAX"
      ],
      "metadata": {
        "id": "xBgyWAbVzvBb"
      }
    },
    {
      "cell_type": "code",
      "source": [
        "import jax\n",
        "from jax import numpy as jnp\n",
        "from pytreeclass import treeclass,static_field,tree_viz\n",
        "\n",
        "@treeclass\n",
        "class Linear :\n",
        "\n",
        " weight : jnp.ndarray\n",
        " bias   : jnp.ndarray\n",
        "\n",
        " def __init__(self,key,in_dim,out_dim):\n",
        "   self.weight = jax.random.normal(key,shape=(in_dim, out_dim)) * jnp.sqrt(2/in_dim)\n",
        "   self.bias = jnp.ones((1,out_dim))\n",
        "\n",
        " def __call__(self,x):\n",
        "   return x @ self.weight + self.bias\n",
        "\n",
        "@treeclass\n",
        "class StackedLinear:\n",
        "   l1 : Linear\n",
        "   l2 : Linear\n",
        "   l3 : Linear\n",
        "\n",
        "   def __init__(self,key,in_dim,out_dim):\n",
        "\n",
        "       keys= jax.random.split(key,3)\n",
        "\n",
        "       self.l1 = Linear(key=keys[0],in_dim=in_dim,out_dim=128)\n",
        "       self.l2 = Linear(key=keys[1],in_dim=128,out_dim=128)\n",
        "       self.l3 = Linear(key=keys[2],in_dim=128,out_dim=out_dim)\n",
        "\n",
        "   def __call__(self,x):\n",
        "       x = self.l1(x)\n",
        "       x = jax.nn.tanh(x)\n",
        "       x = self.l2(x)\n",
        "       x = jax.nn.tanh(x)\n",
        "       x = self.l3(x)\n",
        "\n",
        "       return x\n",
        "\n",
        "\n",
        "x = jnp.linspace(0,1,100)[:,None]\n",
        "y = x**3 + jax.random.uniform(jax.random.PRNGKey(0),(100,1))*0.01\n",
        "\n",
        "model = StackedLinear(in_dim=1,out_dim=1,key=jax.random.PRNGKey(0))\n",
        "\n",
        "def loss_func(model,x,y):\n",
        "   return jnp.mean((model(x)-y)**2 )\n",
        "\n",
        "@jax.jit\n",
        "def update(model,x,y):\n",
        "   value,grads = jax.value_and_grad(loss_func)(model,x,y)\n",
        "   # no need to use `jax.tree_map` to update the model\n",
        "   #  as it model is wrapped by @treeclass\n",
        "   return value , model-1e-3*grads\n",
        "\n",
        "for _ in range(1,2001):\n",
        "   value,model = update(model,x,y)\n",
        "\n",
        "plt.scatter(x,model(x),color='r',label = 'Prediction')\n",
        "plt.scatter(x,y,color='k',label='True')\n",
        "plt.legend()"
      ],
      "metadata": {
        "colab": {
          "base_uri": "https://localhost:8080/",
          "height": 283
        },
        "id": "4m8MVznVYOHh",
        "outputId": "d7ebdba1-f1ad-4553-e415-918b867780b4"
      },
      "execution_count": null,
      "outputs": [
        {
          "output_type": "execute_result",
          "data": {
            "text/plain": [
              "<matplotlib.legend.Legend at 0x7fa761a9c150>"
            ]
          },
          "metadata": {},
          "execution_count": 13
        },
        {
          "output_type": "display_data",
          "data": {
            "text/plain": [
              "<Figure size 432x288 with 1 Axes>"
            ],
            "image/png": "[encoded data removed]"
          },
          "metadata": {
            "needs_background": "light"
          }
        }
      ]
    },
    {
      "cell_type": "code",
      "source": [
        "print(tree_viz.summary(model))"
      ],
      "metadata": {
        "colab": {
          "base_uri": "https://localhost:8080/"
        },
        "id": "4pijp1vuZyuE",
        "outputId": "dbe65b00-9fac-44db-d340-d8b0880fcc78"
      },
      "execution_count": null,
      "outputs": [
        {
          "output_type": "stream",
          "name": "stdout",
          "text": [
            "┌──────┬───────┬─────────┬───────────────────┐\n",
            "│Type  │Param #│Size     │Config             │\n",
            "├──────┼───────┼─────────┼───────────────────┤\n",
            "│Linear│256    │1.000 KB │bias=f32[1,128]    │\n",
            "│      │       │         │weight=f32[1,128]  │\n",
            "├──────┼───────┼─────────┼───────────────────┤\n",
            "│Linear│16,512 │64.500 KB│bias=f32[1,128]    │\n",
            "│      │       │         │weight=f32[128,128]│\n",
            "├──────┼───────┼─────────┼───────────────────┤\n",
            "│Linear│129    │516.000 B│bias=f32[1,1]      │\n",
            "│      │       │         │weight=f32[128,1]  │\n",
            "└──────┴───────┴─────────┴───────────────────┘\n",
            "Total params :\t16,897\n",
            "Inexact params:\t16,897\n",
            "Other params:\t0\n",
            "----------------------------------------------\n",
            "Total size :\t66.004 KB\n",
            "Inexact size:\t66.004 KB\n",
            "Other size:\t0.000 B\n",
            "==============================================\n"
          ]
        }
      ]
    },
    {
      "cell_type": "code",
      "source": [
        "print(tree_viz.tree_box(model,array=x))"
      ],
      "metadata": {
        "colab": {
          "base_uri": "https://localhost:8080/"
        },
        "id": "HDU-DvPsZ6sO",
        "outputId": "c81b9546-1c44-485e-d9fb-23dfa6b7cccc"
      },
      "execution_count": null,
      "outputs": [
        {
          "output_type": "stream",
          "name": "stdout",
          "text": [
            "┌──────────────────────────────────────┐\n",
            "│StackedLinear(Parent)                 │\n",
            "├──────────────────────────────────────┤\n",
            "│┌────────────┬────────┬──────────────┐│\n",
            "││            │ Input  │ f32[100,1]   ││\n",
            "││ Linear(l1) │────────┼──────────────┤│\n",
            "││            │ Output │ f32[100,128] ││\n",
            "│└────────────┴────────┴──────────────┘│\n",
            "│┌────────────┬────────┬──────────────┐│\n",
            "││            │ Input  │ f32[100,128] ││\n",
            "││ Linear(l2) │────────┼──────────────┤│\n",
            "││            │ Output │ f32[100,128] ││\n",
            "│└────────────┴────────┴──────────────┘│\n",
            "│┌────────────┬────────┬──────────────┐│\n",
            "││            │ Input  │ f32[100,128] ││\n",
            "││ Linear(l3) │────────┼──────────────┤│\n",
            "││            │ Output │ f32[100,1]   ││\n",
            "│└────────────┴────────┴──────────────┘│\n",
            "└──────────────────────────────────────┘\n"
          ]
        }
      ]
    },
    {
      "cell_type": "code",
      "source": [
        "print(tree_viz.tree_diagram(model))"
      ],
      "metadata": {
        "colab": {
          "base_uri": "https://localhost:8080/"
        },
        "id": "dGB0hbcdZ9dB",
        "outputId": "8c59ecd5-e2ca-4c12-c607-32b4e0ed2388"
      },
      "execution_count": null,
      "outputs": [
        {
          "output_type": "stream",
          "name": "stdout",
          "text": [
            "StackedLinear\n",
            "    ├── l1=Linear\n",
            "    │   ├── weight=f32[1,128]\n",
            "    │   └── bias=f32[1,128] \n",
            "    ├── l2=Linear\n",
            "    │   ├── weight=f32[128,128]\n",
            "    │   └── bias=f32[1,128] \n",
            "    └──l3=Linear\n",
            "        ├── weight=f32[128,1]\n",
            "        └── bias=f32[1,1]       \n"
          ]
        }
      ]
    },
    {
      "cell_type": "markdown",
      "source": [
        "## Operations on PyTrees"
      ],
      "metadata": {
        "id": "tA_0Gc6hz3sF"
      }
    },
    {
      "cell_type": "code",
      "source": [
        "# get layer1\n",
        "layer1 = model.l1\n",
        "# layer1 repr\n",
        "print(f\"{layer1!r}\")"
      ],
      "metadata": {
        "colab": {
          "base_uri": "https://localhost:8080/"
        },
        "id": "JcYrxMDj0MNr",
        "outputId": "fe31cc00-ec45-43da-a58a-df5edf80bff5"
      },
      "execution_count": null,
      "outputs": [
        {
          "output_type": "stream",
          "name": "stdout",
          "text": [
            "Linear(weight=f32[1,128],bias=f32[1,128])\n"
          ]
        }
      ]
    },
    {
      "cell_type": "code",
      "source": [
        "# layer1 str\n",
        "print(f\"{layer1!s}\")"
      ],
      "metadata": {
        "colab": {
          "base_uri": "https://localhost:8080/"
        },
        "id": "8yCs-yYh0O1C",
        "outputId": "8b6943c6-dc8b-49ba-b5d4-9e8ebfc8fe3e"
      },
      "execution_count": null,
      "outputs": [
        {
          "output_type": "stream",
          "name": "stdout",
          "text": [
            "Linear(\n",
            "  weight=\n",
            "    [[-0.5154296  -0.5802525   1.1998714  -3.140695   -0.9105417   0.02529282\n",
            "      -1.5031999   0.32465786 -0.6680716   2.0307639  -1.1041818   0.34423974\n",
            "       0.12412212 -1.0993127   2.6928818  -0.2937158   1.1684799  -0.32412982\n",
            "       0.22355585  0.82687426  1.7829171  -0.4171079  -0.63438946  2.479182\n",
            "       0.93652976  2.3307116  -1.1300071  -0.17676698  0.4798958  -0.7416262\n",
            "       1.8679861  -0.0521381   0.68760747  0.22854356 -0.29521447 -0.55318934\n",
            "       0.02394825 -2.104279   -0.7276673   1.1119531  -0.53309    -0.082045\n",
            "       0.01626187  0.78844047 -2.4057457   2.3664682  -0.14585978 -2.1782465\n",
            "       1.8009057  -1.3652617  -1.4579713   0.25327715  0.9234403  -0.48173955\n",
            "      -1.5291252   0.52952564  1.1894413   0.36196357  1.4896038  -0.40946943\n",
            "       0.20324053 -0.10555436  1.1844754   0.13451566 -1.0598036  -0.18996547\n",
            "       3.0499792  -0.7093165  -2.8729014   1.3705946   1.6692107   1.3717211\n",
            "       0.83655554 -1.3739197   1.0907171   0.61527205 -0.6323833   0.9569915\n",
            "      -3.446422    1.695117   -1.1626998  -0.12021774  2.094522    3.0138707\n",
            "       0.22433756  0.19061178  1.613289    2.0533955   0.27430922 -0.79399645\n",
            "      -0.5512347   0.01665495 -0.17242081  0.69018817  0.77048993  0.6437899\n",
            "       0.6674185   0.80126095  1.2289534  -2.9192672  -0.06032971 -0.7264641\n",
            "      -0.67928076  1.4951304   0.24195789 -0.01066682 -0.5027541   0.63211864\n",
            "      -1.4482273   1.0575486  -0.627774   -0.34691122 -0.03152186 -1.9433857\n",
            "       0.28276387 -1.2580371  -0.5572404  -1.5245978  -2.2704887  -3.5588305\n",
            "       0.5023281  -0.80917895  0.84281     2.2935853   0.53782773  1.847664\n",
            "      -0.3411547   2.5121255 ]],\n",
            "  bias=\n",
            "    [[1.0002741  1.0006088  0.9998904  0.9964123  1.0022342  0.9997558\n",
            "      1.0003592  0.99893236 0.9994249  1.0000763  0.99869734 1.0005594\n",
            "      1.0000646  0.99983144 0.9999976  0.9984422  0.99983877 0.99946654\n",
            "      0.99928755 0.9995728  1.000076   1.0006717  0.9998007  0.9999398\n",
            "      1.0004796  1.0000367  0.99991024 1.000582   0.999196   1.0001073\n",
            "      1.0000694  1.0001634  0.999802   0.9996405  1.000591   1.0003961\n",
            "      1.0001425  0.9956409  0.9995585  0.99954116 1.0001383  1.0005759\n",
            "      1.0001087  0.9993199  1.0028647  0.9999658  0.9994558  1.0008671\n",
            "      0.99998516 1.0019927  0.9990092  0.9998124  0.99967265 0.99934787\n",
            "      1.0001627  1.0006788  1.0001037  0.9999229  1.0001717  1.0006171\n",
            "      1.0009918  0.9999498  0.9999148  1.0005039  0.99978435 1.0005629\n",
            "      1.         0.9985537  1.0008256  1.000056   0.9997495  1.0004363\n",
            "      1.0002353  0.99996954 0.999965   1.0002311  0.999517   0.99947804\n",
            "      1.0001059  1.0001321  0.99932146 0.9992091  1.0000724  1.0000482\n",
            "      0.9990702  1.0003153  1.0004437  0.9999237  1.0004113  1.0003442\n",
            "      0.99949056 0.9998843  1.0007391  0.99934155 1.0003816  0.9995423\n",
            "      0.9991875  0.9997809  1.00037    0.99582696 0.99988097 1.0008723\n",
            "      1.000624   1.0000863  1.0004117  0.99933714 0.9994105  0.9998616\n",
            "      1.0024126  0.9998547  0.99964815 1.0001725  0.9999865  1.0025109\n",
            "      1.0004063  1.0024503  1.0004916  1.0015774  1.0030708  1.0023742\n",
            "      1.0000721  0.99975866 1.         0.99993515 0.99995536 1.0002017\n",
            "      0.99997264 0.999938  ]])\n"
          ]
        }
      ]
    },
    {
      "cell_type": "code",
      "source": [
        "# get only positive values\n",
        "print(layer1.at[layer1>0].get())"
      ],
      "metadata": {
        "colab": {
          "base_uri": "https://localhost:8080/"
        },
        "id": "B_z9wImx0QnY",
        "outputId": "583a2d44-0655-4724-af7d-09fb51da735b"
      },
      "execution_count": null,
      "outputs": [
        {
          "output_type": "stream",
          "name": "stdout",
          "text": [
            "Linear(\n",
            "  weight=\n",
            "    [1.1998714  0.02529282 0.32465786 2.0307639  0.34423974 0.12412212\n",
            "     2.6928818  1.1684799  0.22355585 0.82687426 1.7829171  2.479182\n",
            "     0.93652976 2.3307116  0.4798958  1.8679861  0.68760747 0.22854356\n",
            "     0.02394825 1.1119531  0.01626187 0.78844047 2.3664682  1.8009057\n",
            "     0.25327715 0.9234403  0.52952564 1.1894413  0.36196357 1.4896038\n",
            "     0.20324053 1.1844754  0.13451566 3.0499792  1.3705946  1.6692107\n",
            "     1.3717211  0.83655554 1.0907171  0.61527205 0.9569915  1.695117\n",
            "     2.094522   3.0138707  0.22433756 0.19061178 1.613289   2.0533955\n",
            "     0.27430922 0.01665495 0.69018817 0.77048993 0.6437899  0.6674185\n",
            "     0.80126095 1.2289534  1.4951304  0.24195789 0.63211864 1.0575486\n",
            "     0.28276387 0.5023281  0.84281    2.2935853  0.53782773 1.847664\n",
            "     2.5121255 ],\n",
            "  bias=\n",
            "    [1.0002741  1.0006088  0.9998904  0.9964123  1.0022342  0.9997558\n",
            "     1.0003592  0.99893236 0.9994249  1.0000763  0.99869734 1.0005594\n",
            "     1.0000646  0.99983144 0.9999976  0.9984422  0.99983877 0.99946654\n",
            "     0.99928755 0.9995728  1.000076   1.0006717  0.9998007  0.9999398\n",
            "     1.0004796  1.0000367  0.99991024 1.000582   0.999196   1.0001073\n",
            "     1.0000694  1.0001634  0.999802   0.9996405  1.000591   1.0003961\n",
            "     1.0001425  0.9956409  0.9995585  0.99954116 1.0001383  1.0005759\n",
            "     1.0001087  0.9993199  1.0028647  0.9999658  0.9994558  1.0008671\n",
            "     0.99998516 1.0019927  0.9990092  0.9998124  0.99967265 0.99934787\n",
            "     1.0001627  1.0006788  1.0001037  0.9999229  1.0001717  1.0006171\n",
            "     1.0009918  0.9999498  0.9999148  1.0005039  0.99978435 1.0005629\n",
            "     1.         0.9985537  1.0008256  1.000056   0.9997495  1.0004363\n",
            "     1.0002353  0.99996954 0.999965   1.0002311  0.999517   0.99947804\n",
            "     1.0001059  1.0001321  0.99932146 0.9992091  1.0000724  1.0000482\n",
            "     0.9990702  1.0003153  1.0004437  0.9999237  1.0004113  1.0003442\n",
            "     0.99949056 0.9998843  1.0007391  0.99934155 1.0003816  0.9995423\n",
            "     0.9991875  0.9997809  1.00037    0.99582696 0.99988097 1.0008723\n",
            "     1.000624   1.0000863  1.0004117  0.99933714 0.9994105  0.9998616\n",
            "     1.0024126  0.9998547  0.99964815 1.0001725  0.9999865  1.0025109\n",
            "     1.0004063  1.0024503  1.0004916  1.0015774  1.0030708  1.0023742\n",
            "     1.0000721  0.99975866 1.         0.99993515 0.99995536 1.0002017\n",
            "     0.99997264 0.999938  ])\n"
          ]
        }
      ]
    },
    {
      "cell_type": "code",
      "source": [
        "# set negative values to 0\n",
        "print(layer1.at[layer1<0].set(0))\n"
      ],
      "metadata": {
        "colab": {
          "base_uri": "https://localhost:8080/"
        },
        "id": "cakJeudzz6S1",
        "outputId": "306ccbe7-3d2a-4ef0-e496-cbd086fb08e9"
      },
      "execution_count": null,
      "outputs": [
        {
          "output_type": "stream",
          "name": "stdout",
          "text": [
            "Linear(\n",
            "  weight=\n",
            "    [[0.         0.         1.1998714  0.         0.         0.02529282\n",
            "      0.         0.32465786 0.         2.0307639  0.         0.34423974\n",
            "      0.12412212 0.         2.6928818  0.         1.1684799  0.\n",
            "      0.22355585 0.82687426 1.7829171  0.         0.         2.479182\n",
            "      0.93652976 2.3307116  0.         0.         0.4798958  0.\n",
            "      1.8679861  0.         0.68760747 0.22854356 0.         0.\n",
            "      0.02394825 0.         0.         1.1119531  0.         0.\n",
            "      0.01626187 0.78844047 0.         2.3664682  0.         0.\n",
            "      1.8009057  0.         0.         0.25327715 0.9234403  0.\n",
            "      0.         0.52952564 1.1894413  0.36196357 1.4896038  0.\n",
            "      0.20324053 0.         1.1844754  0.13451566 0.         0.\n",
            "      3.0499792  0.         0.         1.3705946  1.6692107  1.3717211\n",
            "      0.83655554 0.         1.0907171  0.61527205 0.         0.9569915\n",
            "      0.         1.695117   0.         0.         2.094522   3.0138707\n",
            "      0.22433756 0.19061178 1.613289   2.0533955  0.27430922 0.\n",
            "      0.         0.01665495 0.         0.69018817 0.77048993 0.6437899\n",
            "      0.6674185  0.80126095 1.2289534  0.         0.         0.\n",
            "      0.         1.4951304  0.24195789 0.         0.         0.63211864\n",
            "      0.         1.0575486  0.         0.         0.         0.\n",
            "      0.28276387 0.         0.         0.         0.         0.\n",
            "      0.5023281  0.         0.84281    2.2935853  0.53782773 1.847664\n",
            "      0.         2.5121255 ]],\n",
            "  bias=\n",
            "    [[1.0002741  1.0006088  0.9998904  0.9964123  1.0022342  0.9997558\n",
            "      1.0003592  0.99893236 0.9994249  1.0000763  0.99869734 1.0005594\n",
            "      1.0000646  0.99983144 0.9999976  0.9984422  0.99983877 0.99946654\n",
            "      0.99928755 0.9995728  1.000076   1.0006717  0.9998007  0.9999398\n",
            "      1.0004796  1.0000367  0.99991024 1.000582   0.999196   1.0001073\n",
            "      1.0000694  1.0001634  0.999802   0.9996405  1.000591   1.0003961\n",
            "      1.0001425  0.9956409  0.9995585  0.99954116 1.0001383  1.0005759\n",
            "      1.0001087  0.9993199  1.0028647  0.9999658  0.9994558  1.0008671\n",
            "      0.99998516 1.0019927  0.9990092  0.9998124  0.99967265 0.99934787\n",
            "      1.0001627  1.0006788  1.0001037  0.9999229  1.0001717  1.0006171\n",
            "      1.0009918  0.9999498  0.9999148  1.0005039  0.99978435 1.0005629\n",
            "      1.         0.9985537  1.0008256  1.000056   0.9997495  1.0004363\n",
            "      1.0002353  0.99996954 0.999965   1.0002311  0.999517   0.99947804\n",
            "      1.0001059  1.0001321  0.99932146 0.9992091  1.0000724  1.0000482\n",
            "      0.9990702  1.0003153  1.0004437  0.9999237  1.0004113  1.0003442\n",
            "      0.99949056 0.9998843  1.0007391  0.99934155 1.0003816  0.9995423\n",
            "      0.9991875  0.9997809  1.00037    0.99582696 0.99988097 1.0008723\n",
            "      1.000624   1.0000863  1.0004117  0.99933714 0.9994105  0.9998616\n",
            "      1.0024126  0.9998547  0.99964815 1.0001725  0.9999865  1.0025109\n",
            "      1.0004063  1.0024503  1.0004916  1.0015774  1.0030708  1.0023742\n",
            "      1.0000721  0.99975866 1.         0.99993515 0.99995536 1.0002017\n",
            "      0.99997264 0.999938  ]])\n"
          ]
        }
      ]
    }
  ]
}