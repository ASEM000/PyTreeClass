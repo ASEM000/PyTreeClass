{
 "cells": [
  {
   "cell_type": "code",
   "execution_count": null,
   "metadata": {},
   "outputs": [],
   "source": [
    "!pip install pytree"
   ]
  },
  {
   "cell_type": "code",
   "execution_count": 1,
   "metadata": {},
   "outputs": [],
   "source": [
    "import jax\n",
    "from jax import numpy as jnp\n",
    "from pytreeclass import treeclass,tree_viz\n",
    "import matplotlib.pyplot as plt\n",
    "\n",
    "@treeclass\n",
    "class Linear :\n",
    "   # Any variable not wrapped with @treeclass\n",
    "   # should be declared as a dataclass field here\n",
    "   weight : jnp.ndarray\n",
    "   bias   : jnp.ndarray\n",
    "\n",
    "   def __init__(self,key,in_dim,out_dim):\n",
    "       self.weight = jax.random.normal(key,shape=(in_dim, out_dim)) * jnp.sqrt(2/in_dim)\n",
    "       self.bias = jnp.ones((1,out_dim))\n",
    "\n",
    "   def __call__(self,x):\n",
    "       return x @ self.weight + self.bias\n",
    "\n",
    "@treeclass\n",
    "class StackedLinear:\n",
    "\n",
    "    def __init__(self,key,in_dim,out_dim,hidden_dim):\n",
    "        keys= jax.random.split(key,3)\n",
    "\n",
    "        # Declaring l1,l2,l3 as dataclass_fields is optional\n",
    "        # as they are already wrapped with @treeclass\n",
    "        self.l1 = Linear(key=keys[0],in_dim=in_dim,out_dim=hidden_dim)\n",
    "        self.l2 = Linear(key=keys[1],in_dim=hidden_dim,out_dim=hidden_dim)\n",
    "        self.l3 = Linear(key=keys[2],in_dim=hidden_dim,out_dim=out_dim)\n",
    "\n",
    "    def __call__(self,x):\n",
    "        x = self.l1(x)\n",
    "        x = jax.nn.tanh(x)\n",
    "        x = self.l2(x)\n",
    "        x = jax.nn.tanh(x)\n",
    "        x = self.l3(x)\n",
    "\n",
    "        return x\n",
    "\n",
    "model = StackedLinear(in_dim=1,out_dim=1,hidden_dim=10,key=jax.random.PRNGKey(0))\n",
    "\n",
    "x = jnp.linspace(0,1,100)[:,None]\n",
    "y = x**3 + jax.random.uniform(jax.random.PRNGKey(0),(100,1))*0.01"
   ]
  },
  {
   "cell_type": "code",
   "execution_count": 16,
   "metadata": {},
   "outputs": [
    {
     "data": {
      "image/png": "[encoded data removed]",
      "text/plain": [
       "<Figure size 432x288 with 1 Axes>"
      ]
     },
     "metadata": {
      "needs_background": "light"
     },
     "output_type": "display_data"
    }
   ],
   "source": [
    " \n",
    "x = jnp.linspace(0,1,100)[:,None]\n",
    "y = x**3 + jax.random.uniform(jax.random.PRNGKey(0),(100,1))*0.01\n",
    "\n",
    "def loss_func(model,x,y):\n",
    "    return jnp.mean((model(x)-y)**2 )\n",
    "\n",
    "@jax.jit\n",
    "def update(model,x,y):\n",
    "    value,grads = jax.value_and_grad(loss_func)(model,x,y)\n",
    "    # no need to use `jax.tree_map` to update the model\n",
    "    # as it model is wrapped by @treeclass\n",
    "    return value , model-1e-3*grads\n",
    "\n",
    "for _ in range(1,20_001):\n",
    "    value,model = update(model,x,y)\n",
    "\n",
    "plt.plot(x,model(x),'--r',label = 'Prediction',linewidth=3)\n",
    "plt.plot(x,y,'--k',label='True',linewidth=3)\n",
    "plt.legend()\n"
   ]
  },
  {
   "cell_type": "code",
   "execution_count": 2,
   "metadata": {},
   "outputs": [
    {
     "name": "stdout",
     "output_type": "stream",
     "text": [
      "StackedLinear\n",
      "    ├── l1=Linear\n",
      "    │   ├#─ weight=f32[1,10]\n",
      "    │   └#─ bias=f32[1,10]  \n",
      "    ├── l2=Linear\n",
      "    │   ├── weight=f32[10,10]\n",
      "    │   └── bias=f32[1,10]  \n",
      "    └── l3=Linear\n",
      "        ├── weight=f32[10,1]\n",
      "        └── bias=f32[1,1]       \n"
     ]
    }
   ],
   "source": [
    "# freeze l1\n",
    "model.l1 = model.l1.freeze()\n",
    "\n",
    "# set non-negative values in l2 to 0\n",
    "model.l2 = model.l2.at[model.l2<0].set(0)\n",
    "\n",
    "# frozen nodes are marked with #\n",
    "print(tree_viz.tree_diagram(model))"
   ]
  }
 ],
 "metadata": {
  "kernelspec": {
   "display_name": "Python 3.10.5 ('dev-jax')",
   "language": "python",
   "name": "python3"
  },
  "language_info": {
   "codemirror_mode": {
    "name": "ipython",
    "version": 3
   },
   "file_extension": ".py",
   "mimetype": "text/x-python",
   "name": "python",
   "nbconvert_exporter": "python",
   "pygments_lexer": "ipython3",
   "version": "3.10.5"
  },
  "orig_nbformat": 4,
  "vscode": {
   "interpreter": {
    "hash": "4dbabdc3ed9c56a6e246ce2e910e119890ccd2806df70655d281d35df3853255"
   }
  }
 },
 "nbformat": 4,
 "nbformat_minor": 2
}
