{
  "nbformat": 4,
  "nbformat_minor": 0,
  "metadata": {
    "colab": {
      "provenance": [],
      "authorship_tag": "ABX9TyNTgBQbFQV5LC5bxJ8uzeQQ",
      "include_colab_link": true
    },
    "kernelspec": {
      "name": "python3",
      "display_name": "Python 3"
    },
    "language_info": {
      "name": "python"
    }
  },
  "cells": [
    {
      "cell_type": "markdown",
      "metadata": {
        "id": "view-in-github",
        "colab_type": "text"
      },
      "source": [
        "<a href=\"https://colab.research.google.com/github/ASEM000/PyTreeClass/blob/main/assets/intro.ipynb\" target=\"_parent\"><img src=\"https://colab.research.google.com/assets/colab-badge.svg\" alt=\"Open In Colab\"/></a>"
      ]
    },
    {
      "cell_type": "code",
      "source": [
        "!pip install pytreeclass"
      ],
      "metadata": {
        "id": "8IhUB76CzCnE"
      },
      "execution_count": null,
      "outputs": []
    },
    {
      "cell_type": "markdown",
      "source": [
        "## Construct a Tree"
      ],
      "metadata": {
        "id": "YmZUTUX0k6e6"
      }
    },
    {
      "cell_type": "code",
      "source": [
        "import jax\n",
        "import jax.numpy as jnp\n",
        "import pytreeclass as pytc\n",
        "\n",
        "class Tree(pytc.TreeClass):\n",
        "    a:int = 1\n",
        "    b:tuple[float] = (2.,3.)\n",
        "    c:jax.Array = jnp.array([4.,5.,6.])\n",
        "\n",
        "    def __call__(self, x):\n",
        "        return self.a + self.b[0] + self.c + x\n",
        "\n",
        "tree = Tree()"
      ],
      "metadata": {
        "id": "uM0HMRQ7kl7d"
      },
      "execution_count": 4,
      "outputs": []
    },
    {
      "cell_type": "markdown",
      "source": [
        "## Vizualize Pytree"
      ],
      "metadata": {
        "id": "FtSjueLbk1S8"
      }
    },
    {
      "cell_type": "code",
      "source": [
        "print(pytc.tree_summary(tree, depth=1))\n",
        "print(pytc.tree_summary(tree, depth=2))\n",
        "print(pytc.tree_diagram(tree, depth=1))\n",
        "print(pytc.tree_diagram(tree, depth=2))"
      ],
      "metadata": {
        "id": "baj08CsOkpFZ"
      },
      "execution_count": null,
      "outputs": []
    },
    {
      "cell_type": "markdown",
      "source": [
        "## Working with `jax` transformations"
      ],
      "metadata": {
        "id": "sEKfn3J5lBe_"
      }
    },
    {
      "cell_type": "code",
      "source": [
        "\n",
        "@jax.grad\n",
        "def loss_func(tree:Tree, x:jax.Array):\n",
        "    # unfreeze tree before calling\n",
        "    tree = tree.at[...].apply(pytc.unfreeze, is_leaf=pytc.is_frozen)\n",
        "    preds = jax.vmap(tree)(x)  # <--- vectorize the tree call over the leading axis\n",
        "    return jnp.mean(preds**2)  # <--- return the mean squared error\n",
        "\n",
        "@jax.jit\n",
        "def train_step(tree:Tree, x:jax.Array):\n",
        "    grads = loss_func(tree, x)\n",
        "    # apply a small gradient step\n",
        "    return jax.tree_util.tree_map(lambda x, g: x - 1e-3*g, tree, grads)\n",
        "\n",
        "# lets freeze the non-differentiable parts of the tree\n",
        "# in essence any non inexact type should be frozen to\n",
        "# make the tree differentiable and work with jax transformations\n",
        "jaxable_tree = jax.tree_util.tree_map(lambda x: pytc.freeze(x) if pytc.is_nondiff(x) else x, tree)\n",
        "\n",
        "for epoch in range(1_000):\n",
        "    jaxable_tree = train_step(jaxable_tree, jnp.ones([10,1]))\n",
        "\n",
        "print(jaxable_tree)\n",
        "# **the `frozen` params have \"#\" prefix**\n",
        "#Tree(a=#1, b=(-4.2826524, 3.0), c=[2.3924797 2.905778  3.4190805])\n",
        "\n",
        "\n",
        "# unfreeze the tree\n",
        "tree = jax.tree_util.tree_map(pytc.unfreeze, jaxable_tree, is_leaf=pytc.is_frozen)\n",
        "print(tree)\n",
        "# Tree(a=1, b=(-4.2826524, 3.0), c=[2.3924797 2.905778  3.4190805])"
      ],
      "metadata": {
        "id": "ubUL7LkhlDVX"
      },
      "execution_count": null,
      "outputs": []
    },
    {
      "cell_type": "markdown",
      "source": [
        "## `at` indexing"
      ],
      "metadata": {
        "id": "dbjniXT-lFr3"
      }
    },
    {
      "cell_type": "code",
      "source": [
        "tree = Tree()\n",
        "# Tree(a=1, b=(2, 3), c=i32[3](μ=5.00, σ=0.82, ∈[4,6]))\n",
        "\n",
        "# lets create a mask for values > 4\n",
        "mask = jax.tree_util.tree_map(lambda x: x>4, tree)\n",
        "\n",
        "print(mask)\n",
        "# Tree(a=False, b=(False, False), c=[False  True  True])\n",
        "\n",
        "print(tree.at[mask].get())\n",
        "# Tree(a=None, b=(None, None), c=[5 6])\n",
        "\n",
        "print(tree.at[mask].set(10))\n",
        "# Tree(a=1, b=(2, 3), c=[ 4 10 10])\n",
        "\n",
        "print(tree.at[mask].apply(lambda x: 10))\n",
        "# Tree(a=1, b=(2, 3), c=[ 4 10 10])"
      ],
      "metadata": {
        "id": "o3oIir9ylHeH"
      },
      "execution_count": null,
      "outputs": []
    }
  ]
}