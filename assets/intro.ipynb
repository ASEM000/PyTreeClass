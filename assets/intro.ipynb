{
 "nbformat": 4,
 "nbformat_minor": 0,
 "metadata": {
  "colab": {
   "provenance": [],
   "authorship_tag": "ABX9TyNLuEfdO+x3T9K449xfjDl9",
   "include_colab_link": true
  },
  "kernelspec": {
   "name": "python3",
   "display_name": "Python 3"
  },
  "language_info": {
   "name": "python"
  }
 },
 "cells": [
  {
   "cell_type": "markdown",
   "metadata": {
    "id": "view-in-github",
    "colab_type": "text"
   },
   "source": [
    "<a href=\"https://colab.research.google.com/github/ASEM000/pytreeclass/blob/main/assets/intro.ipynb\" target=\"_parent\"><img src=\"https://colab.research.google.com/assets/colab-badge.svg\" alt=\"Open In Colab\"/></a>"
   ]
  },
  {
   "cell_type": "code",
   "source": [
    "!pip install pytreeclass --quiet"
   ],
   "metadata": {
    "id": "8IhUB76CzCnE"
   },
   "execution_count": 1,
   "outputs": []
  },
  {
   "cell_type": "markdown",
   "source": [
    "## Construct a Tree"
   ],
   "metadata": {
    "id": "YmZUTUX0k6e6"
   }
  },
  {
   "cell_type": "code",
   "source": [
    "import jax\n",
    "import jax.numpy as jnp\n",
    "import pytreeclass as tc\n",
    "\n",
    "\n",
    "@tc.autoinit\n",
    "class Tree(tc.TreeClass):\n",
    "    a: int = 1\n",
    "    b: tuple[float] = (2.0, 3.0)\n",
    "    c: jax.Array = jnp.array([4.0, 5.0, 6.0])\n",
    "\n",
    "    def __call__(self, x):\n",
    "        return self.a + self.b[0] + self.c + x\n",
    "\n",
    "\n",
    "tree = Tree()"
   ],
   "metadata": {
    "id": "uM0HMRQ7kl7d",
    "outputId": "45426ff5-ee5d-4154-e424-7b786dff8a8f",
    "colab": {
     "base_uri": "https://localhost:8080/"
    }
   },
   "execution_count": 2,
   "outputs": [
    {
     "output_type": "stream",
     "name": "stderr",
     "text": [
      "WARNING:jax._src.xla_bridge:No GPU/TPU found, falling back to CPU. (Set TF_CPP_MIN_LOG_LEVEL=0 and rerun for more info.)\n"
     ]
    }
   ]
  },
  {
   "cell_type": "markdown",
   "source": [
    "## Vizualize pytree"
   ],
   "metadata": {
    "id": "FtSjueLbk1S8"
   }
  },
  {
   "cell_type": "code",
   "source": [
    "print(tc.tree_summary(tree, depth=1))\n",
    "print(tc.tree_summary(tree, depth=2))\n",
    "print(tc.tree_diagram(tree, depth=1))\n",
    "print(tc.tree_diagram(tree, depth=2))"
   ],
   "metadata": {
    "id": "baj08CsOkpFZ",
    "outputId": "cedc7c1a-bbd2-4bb3-b6e5-6df6f1f25220",
    "colab": {
     "base_uri": "https://localhost:8080/"
    }
   },
   "execution_count": 3,
   "outputs": [
    {
     "output_type": "stream",
     "name": "stdout",
     "text": [
      "┌────┬──────┬─────┬──────┐\n",
      "│Name│Type  │Count│Size  │\n",
      "├────┼──────┼─────┼──────┤\n",
      "│.a  │int   │1    │      │\n",
      "├────┼──────┼─────┼──────┤\n",
      "│.b  │tuple │2    │      │\n",
      "├────┼──────┼─────┼──────┤\n",
      "│.c  │f32[3]│3    │12.00B│\n",
      "├────┼──────┼─────┼──────┤\n",
      "│Σ   │Tree  │6    │12.00B│\n",
      "└────┴──────┴─────┴──────┘\n",
      "┌─────┬──────┬─────┬──────┐\n",
      "│Name │Type  │Count│Size  │\n",
      "├─────┼──────┼─────┼──────┤\n",
      "│.a   │int   │1    │      │\n",
      "├─────┼──────┼─────┼──────┤\n",
      "│.b[0]│float │1    │      │\n",
      "├─────┼──────┼─────┼──────┤\n",
      "│.b[1]│float │1    │      │\n",
      "├─────┼──────┼─────┼──────┤\n",
      "│.c   │f32[3]│3    │12.00B│\n",
      "├─────┼──────┼─────┼──────┤\n",
      "│Σ    │Tree  │6    │12.00B│\n",
      "└─────┴──────┴─────┴──────┘\n",
      "Tree\n",
      "├── .a=1\n",
      "├── .b=(...)\n",
      "└── .c=f32[3](μ=5.00, σ=0.82, ∈[4.00,6.00])\n",
      "Tree\n",
      "├── .a=1\n",
      "├── .b:tuple\n",
      "│   ├── [0]=2.0\n",
      "│   └── [1]=3.0\n",
      "└── .c=f32[3](μ=5.00, σ=0.82, ∈[4.00,6.00])\n"
     ]
    }
   ]
  },
  {
   "cell_type": "markdown",
   "source": [
    "## Working with `jax` transformations"
   ],
   "metadata": {
    "id": "sEKfn3J5lBe_"
   }
  },
  {
   "cell_type": "code",
   "source": [
    "@jax.grad\n",
    "def loss_func(tree: Tree, x: jax.Array):\n",
    "    # unfreeze tree before calling\n",
    "    tree = tree.at[...].apply(tc.unfreeze, is_leaf=tc.is_frozen)\n",
    "    preds = jax.vmap(tree)(x)  # <--- vectorize the tree call over the leading axis\n",
    "    return jnp.mean(preds**2)  # <--- return the mean squared error\n",
    "\n",
    "\n",
    "@jax.jit\n",
    "def train_step(tree: Tree, x: jax.Array):\n",
    "    grads = loss_func(tree, x)\n",
    "    # apply a small gradient step\n",
    "    return jax.tree_util.tree_map(lambda x, g: x - 1e-3 * g, tree, grads)\n",
    "\n",
    "\n",
    "# lets freeze the non-differentiable parts of the tree\n",
    "# in essence any non inexact type should be frozen to\n",
    "# make the tree differentiable and work with jax transformations\n",
    "jaxable_tree = jax.tree_util.tree_map(\n",
    "    lambda x: tc.freeze(x) if tc.is_nondiff(x) else x, tree\n",
    ")\n",
    "\n",
    "for epoch in range(1_000):\n",
    "    jaxable_tree = train_step(jaxable_tree, jnp.ones([10, 1]))\n",
    "\n",
    "print(jaxable_tree)\n",
    "# **the `frozen` params have \"#\" prefix**\n",
    "# Tree(a=#1, b=(-4.2826524, 3.0), c=[2.3924797 2.905778  3.4190805])\n",
    "\n",
    "\n",
    "# unfreeze the tree\n",
    "tree = jax.tree_util.tree_map(tc.unfreeze, jaxable_tree, is_leaf=tc.is_frozen)\n",
    "print(tree)\n",
    "# Tree(a=1, b=(-4.2826524, 3.0), c=[2.3924797 2.905778  3.4190805])"
   ],
   "metadata": {
    "id": "ubUL7LkhlDVX",
    "outputId": "10595643-1d59-42f6-bc8d-48f995759d69",
    "colab": {
     "base_uri": "https://localhost:8080/"
    }
   },
   "execution_count": 4,
   "outputs": [
    {
     "output_type": "stream",
     "name": "stdout",
     "text": [
      "Tree(a=#1, b=(-4.282653, 3.0), c=[2.3924797 2.905778  3.4190807])\n",
      "Tree(a=1, b=(-4.282653, 3.0), c=[2.3924797 2.905778  3.4190807])\n"
     ]
    }
   ]
  },
  {
   "cell_type": "markdown",
   "source": [
    "## `at` indexing"
   ],
   "metadata": {
    "id": "dbjniXT-lFr3"
   }
  },
  {
   "cell_type": "code",
   "source": [
    "tree = Tree()\n",
    "# Tree(a=1, b=(2, 3), c=i32[3](μ=5.00, σ=0.82, ∈[4,6]))\n",
    "\n",
    "# lets create a mask for values > 4\n",
    "mask = jax.tree_util.tree_map(lambda x: x > 4, tree)\n",
    "\n",
    "print(mask)\n",
    "# Tree(a=False, b=(False, False), c=[False  True  True])\n",
    "\n",
    "print(tree.at[mask].get())\n",
    "# Tree(a=None, b=(None, None), c=[5 6])\n",
    "\n",
    "print(tree.at[mask].set(10))\n",
    "# Tree(a=1, b=(2, 3), c=[ 4 10 10])\n",
    "\n",
    "print(tree.at[mask].apply(lambda x: 10))\n",
    "# Tree(a=1, b=(2, 3), c=[ 4 10 10])"
   ],
   "metadata": {
    "id": "o3oIir9ylHeH",
    "outputId": "ac2cbf56-8c32-4be4-d4d9-e003d86422d9",
    "colab": {
     "base_uri": "https://localhost:8080/"
    }
   },
   "execution_count": 5,
   "outputs": [
    {
     "output_type": "stream",
     "name": "stdout",
     "text": [
      "Tree(a=False, b=(False, False), c=[False  True  True])\n",
      "Tree(a=None, b=(None, None), c=[5. 6.])\n",
      "Tree(a=1, b=(2.0, 3.0), c=[ 4. 10. 10.])\n",
      "Tree(a=1, b=(2.0, 3.0), c=[ 4. 10. 10.])\n"
     ]
    }
   ]
  }
 ]
}